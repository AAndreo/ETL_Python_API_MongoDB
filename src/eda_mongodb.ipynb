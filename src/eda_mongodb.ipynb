{
 "cells": [
  {
   "cell_type": "code",
   "execution_count": 41,
   "metadata": {},
   "outputs": [],
   "source": [
    "from pymongo.collection import Collection\n",
    "from pymongo.mongo_client import MongoClient\n",
    "from pymongo.server_api import ServerApi\n",
    "from pymongo import errors as mongoerrors\n",
    "import os\n",
    "from dotenv import load_dotenv\n",
    "# Carregando as variáveis de ambiente do arquivo .env\n",
    "load_dotenv()\n",
    "import requests\n",
    "import json\n",
    "from datetime import datetime, date\n",
    "import pandas as pd\n",
    "import plotly.express as px\n",
    "import numpy as np"
   ]
  },
  {
   "cell_type": "code",
   "execution_count": 2,
   "metadata": {},
   "outputs": [],
   "source": [
    "# URI Mongo DB Atlas\n",
    "uri_mongo = f\"mongodb+srv://{os.getenv('DB_USER')}:{os.getenv('DB_PWD')}@{os.getenv('DB_CLUSTER')}/?retryWrites=true&w=majority&appName=Cluster0\""
   ]
  },
  {
   "cell_type": "code",
   "execution_count": 3,
   "metadata": {},
   "outputs": [],
   "source": [
    "# Realiza a conexão com o MongoDB e retorna a coleção informada.\n",
    "def conectar(uri:str, database:str, collection:str)->tuple[Collection, MongoClient]:\n",
    "    try:\n",
    "        client = MongoClient(uri, server_api=ServerApi('1'))\n",
    "        client.admin.command('ping')\n",
    "\n",
    "        databases = client.list_database_names()\n",
    "    \n",
    "        if database in databases:  # Verifica se o Database já existe. Caso contrário o cria.\n",
    "            db = client[database]\n",
    "            colecao = db[collection]\n",
    "            colecoes = db.list_collection_names()\n",
    "\n",
    "            if collection in colecoes: # Verifica se a Coleção já exsite. Caso contrário a cria.\n",
    "                return colecao, client\n",
    "    except mongoerrors.ConnectionFailure as e:\n",
    "        client = None\n",
    "        print(e)\n",
    "    except mongoerrors.PyMongoError as e:\n",
    "        print(e)"
   ]
  },
  {
   "cell_type": "markdown",
   "metadata": {},
   "source": [
    "### Consultas as coleções no Database.\n",
    "\n",
    "* Realizaremos algumas consultas utilizando os recursos da biblioteca `Pymongo` como:\n",
    "    *  Métodos para recuperação de dados de uma coleção: `find()` e `find_one()`.\n",
    "    *  Operadores de consulta de comparação.\n",
    "    *  Operadores de consulta lógica.\n",
    "    *  Lidar com objetos Python `datetime` para filtrar coleções."
   ]
  },
  {
   "cell_type": "code",
   "execution_count": 24,
   "metadata": {},
   "outputs": [
    {
     "data": {
      "application/vnd.microsoft.datawrangler.viewer.v0+json": {
       "columns": [
        {
         "name": "index",
         "rawType": "int64",
         "type": "integer"
        },
        {
         "name": "_id",
         "rawType": "object",
         "type": "unknown"
        },
        {
         "name": "moeda_de",
         "rawType": "object",
         "type": "string"
        },
        {
         "name": "moeda_para",
         "rawType": "object",
         "type": "string"
        },
        {
         "name": "conversao",
         "rawType": "object",
         "type": "string"
        },
        {
         "name": "valor_maximo",
         "rawType": "float64",
         "type": "float"
        },
        {
         "name": "valor_minimo",
         "rawType": "float64",
         "type": "float"
        },
        {
         "name": "variacao",
         "rawType": "float64",
         "type": "float"
        },
        {
         "name": "porcentagem_variacao",
         "rawType": "float64",
         "type": "float"
        },
        {
         "name": "valor_compra",
         "rawType": "float64",
         "type": "float"
        },
        {
         "name": "valor_venda",
         "rawType": "float64",
         "type": "float"
        },
        {
         "name": "data_negociacao",
         "rawType": "datetime64[ns]",
         "type": "datetime"
        }
       ],
       "conversionMethod": "pd.DataFrame",
       "ref": "c57c1625-51ea-4f9f-86b3-1be243ab36f2",
       "rows": [
        [
         "0",
         "67c7b9a1c1f2bd4c02d62a55",
         "USD",
         "BRL",
         "Dólar Americano/Real Brasileiro",
         "5.90528",
         "5.90528",
         "-0.02032",
         "-0.3441",
         "5.88467",
         "5.88526",
         "2025-03-04 23:14:56"
        ],
        [
         "1",
         "67c7b9a1c1f2bd4c02d62a56",
         "USD",
         "BRL",
         "Dólar Americano/Real Brasileiro",
         "5.8852",
         "5.86414",
         "0.0",
         "0.0",
         "5.8852",
         "5.8872",
         "2025-03-02 20:54:03"
        ],
        [
         "2",
         "67c7b9a1c1f2bd4c02d62a57",
         "USD",
         "BRL",
         "Dólar Americano/Real Brasileiro",
         "5.90347",
         "5.8241",
         "0.063",
         "1.07875",
         "5.9031",
         "5.9044",
         "2025-03-01 20:42:03"
        ],
        [
         "3",
         "67c7b9a1c1f2bd4c02d62a58",
         "USD",
         "BRL",
         "Dólar Americano/Real Brasileiro",
         "5.9031",
         "5.8241",
         "0.063",
         "1.07875",
         "5.9031",
         "5.9044",
         "2025-02-28 18:58:22"
        ],
        [
         "4",
         "67c7b9a1c1f2bd4c02d62a59",
         "USD",
         "BRL",
         "Dólar Americano/Real Brasileiro",
         "5.84449",
         "5.8246",
         "0.0005",
         "0.00856",
         "5.8406",
         "5.8422",
         "2025-02-27 20:58:15"
        ],
        [
         "5",
         "67c7b9a1c1f2bd4c02d62a5a",
         "USD",
         "BRL",
         "Dólar Americano/Real Brasileiro",
         "5.80669",
         "5.79",
         "-0.0013",
         "-0.0224",
         "5.8022",
         "5.8052",
         "2025-02-26 20:59:24"
        ],
        [
         "6",
         "67c7b9a1c1f2bd4c02d62a5b",
         "USD",
         "BRL",
         "Dólar Americano/Real Brasileiro",
         "5.7483",
         "5.73607",
         "0.00029",
         "0.00505",
         "5.73989",
         "5.7424",
         "2025-02-25 20:59:12"
        ],
        [
         "7",
         "67c7b9a1c1f2bd4c02d62a5c",
         "USD",
         "BRL",
         "Dólar Americano/Real Brasileiro",
         "5.7826",
         "5.7078",
         "0.0492",
         "0.85871",
         "5.7787",
         "5.7814",
         "2025-02-24 20:59:39"
        ],
        [
         "8",
         "67c7b9a1c1f2bd4c02d62a5d",
         "USD",
         "BRL",
         "Dólar Americano/Real Brasileiro",
         "5.7326",
         "5.71317",
         "-0.0025",
         "-0.0436148",
         "5.7295",
         "5.7308",
         "2025-02-23 19:00:02"
        ],
        [
         "9",
         "67c7b9a1c1f2bd4c02d62a5e",
         "USD",
         "BRL",
         "Dólar Americano/Real Brasileiro",
         "5.7355",
         "5.6953",
         "0.0291",
         "0.51027",
         "5.732",
         "5.734",
         "2025-02-22 00:49:18"
        ],
        [
         "10",
         "67c7b9a1c1f2bd4c02d62a5f",
         "USD",
         "BRL",
         "Dólar Americano/Real Brasileiro",
         "5.7355",
         "5.6953",
         "0.0266",
         "0.46643",
         "5.7295",
         "5.7308",
         "2025-02-21 19:10:02"
        ],
        [
         "11",
         "67c7b9a1c1f2bd4c02d62a60",
         "USD",
         "BRL",
         "Dólar Americano/Real Brasileiro",
         "5.7214",
         "5.6879",
         "-0.0169964",
         "-0.29707",
         "5.69757",
         "5.71124",
         "2025-02-20 20:59:39"
        ],
        [
         "12",
         "67c7b9a1c1f2bd4c02d62a61",
         "USD",
         "BRL",
         "Dólar Americano/Real Brasileiro",
         "5.7324",
         "5.6842",
         "0.0326624",
         "0.57411",
         "5.7206",
         "5.7236",
         "2025-02-19 20:58:35"
        ],
        [
         "13",
         "67c7b9a1c1f2bd4c02d62a62",
         "USD",
         "BRL",
         "Dólar Americano/Real Brasileiro",
         "5.7247",
         "5.6769",
         "-0.0229",
         "-0.40084",
         "5.6882",
         "5.6912",
         "2025-02-18 20:59:04"
        ],
        [
         "14",
         "67c7b9a1c1f2bd4c02d62a63",
         "USD",
         "BRL",
         "Dólar Americano/Real Brasileiro",
         "5.7135",
         "5.7117",
         "0.0005",
         "0.01",
         "5.713",
         "5.714",
         "2025-02-17 19:00:03"
        ],
        [
         "15",
         "67c7b9a1c1f2bd4c02d62a64",
         "USD",
         "BRL",
         "Dólar Americano/Real Brasileiro",
         "5.7707",
         "5.6928",
         "-0.0627",
         "-1.04",
         "5.695",
         "5.697",
         "2025-02-14 17:58:59"
        ],
        [
         "16",
         "67c7b9a1c1f2bd4c02d62a65",
         "USD",
         "BRL",
         "Dólar Americano/Real Brasileiro",
         "5.7997",
         "5.691",
         "-0.0622",
         "-1.08",
         "5.7042",
         "5.7052",
         "2025-02-14 17:58:45"
        ],
        [
         "17",
         "67c7b9a1c1f2bd4c02d62a66",
         "USD",
         "BRL",
         "Dólar Americano/Real Brasileiro",
         "5.7673",
         "5.7655",
         "0.0004",
         "0.01",
         "5.7669",
         "5.7677",
         "2025-02-13 19:00:04"
        ],
        [
         "18",
         "67c7b9a1c1f2bd4c02d62a67",
         "USD",
         "BRL",
         "Dólar Americano/Real Brasileiro",
         "5.7654",
         "5.758",
         "0.0005",
         "0.01",
         "5.7649",
         "5.7659",
         "2025-02-12 19:00:04"
        ],
        [
         "19",
         "67c7b9a1c1f2bd4c02d62a68",
         "USD",
         "BRL",
         "Dólar Americano/Real Brasileiro",
         "5.7659",
         "5.7635",
         "0.0024",
         "0.04",
         "5.7654",
         "5.7664",
         "2025-02-11 19:00:03"
        ],
        [
         "20",
         "67c7b9a1c1f2bd4c02d62a69",
         "USD",
         "BRL",
         "Dólar Americano/Real Brasileiro",
         "5.7877",
         "5.7865",
         "0.0003",
         "0.01",
         "5.7874",
         "5.788",
         "2025-02-10 19:00:03"
        ],
        [
         "21",
         "67c7b9a1c1f2bd4c02d62a6a",
         "USD",
         "BRL",
         "Dólar Americano/Real Brasileiro",
         "5.8131",
         "5.7349",
         "0.0441",
         "0.69",
         "5.807",
         "5.81",
         "2025-02-07 17:58:59"
        ],
        [
         "22",
         "67c7b9a1c1f2bd4c02d62a6b",
         "USD",
         "BRL",
         "Dólar Americano/Real Brasileiro",
         "5.8246",
         "5.734",
         "0.0445",
         "0.77",
         "5.8058",
         "5.8066",
         "2025-02-07 17:58:21"
        ],
        [
         "23",
         "67c7b9a1c1f2bd4c02d62a6c",
         "USD",
         "BRL",
         "Dólar Americano/Real Brasileiro",
         "5.7622",
         "5.7615",
         "0.0005",
         "0.01",
         "5.7617",
         "5.7626",
         "2025-02-06 19:00:03"
        ],
        [
         "24",
         "67c7b9a1c1f2bd4c02d62a6d",
         "USD",
         "BRL",
         "Dólar Americano/Real Brasileiro",
         "5.8044",
         "5.804",
         "0.0071",
         "0.12",
         "5.8039",
         "5.8049",
         "2025-02-05 19:00:03"
        ],
        [
         "25",
         "67c7b9a1c1f2bd4c02d62a6e",
         "USD",
         "BRL",
         "Dólar Americano/Real Brasileiro",
         "5.7586",
         "5.758",
         "0.0046",
         "0.08",
         "5.7581",
         "5.7591",
         "2025-02-04 19:00:03"
        ],
        [
         "26",
         "67c7b9a1c1f2bd4c02d62a6f",
         "USD",
         "BRL",
         "Dólar Americano/Real Brasileiro",
         "5.8069",
         "5.8055",
         "0.0003",
         "0.01",
         "5.8066",
         "5.8072",
         "2025-02-03 19:00:04"
        ],
        [
         "27",
         "67c7b9a1c1f2bd4c02d62a70",
         "USD",
         "BRL",
         "Dólar Americano/Real Brasileiro",
         "5.844",
         "5.841",
         "0.003",
         "0.05",
         "5.8435",
         "5.8445",
         "2025-02-02 19:02:50"
        ],
        [
         "28",
         "67c7b9a1c1f2bd4c02d62a71",
         "USD",
         "BRL",
         "Dólar Americano/Real Brasileiro",
         "5.9332",
         "5.806",
         "-0.0295",
         "-0.5",
         "5.843",
         "5.846",
         "2025-01-31 17:58:56"
        ]
       ],
       "shape": {
        "columns": 11,
        "rows": 29
       }
      },
      "text/html": [
       "<div>\n",
       "<style scoped>\n",
       "    .dataframe tbody tr th:only-of-type {\n",
       "        vertical-align: middle;\n",
       "    }\n",
       "\n",
       "    .dataframe tbody tr th {\n",
       "        vertical-align: top;\n",
       "    }\n",
       "\n",
       "    .dataframe thead th {\n",
       "        text-align: right;\n",
       "    }\n",
       "</style>\n",
       "<table border=\"1\" class=\"dataframe\">\n",
       "  <thead>\n",
       "    <tr style=\"text-align: right;\">\n",
       "      <th></th>\n",
       "      <th>_id</th>\n",
       "      <th>moeda_de</th>\n",
       "      <th>moeda_para</th>\n",
       "      <th>conversao</th>\n",
       "      <th>valor_maximo</th>\n",
       "      <th>valor_minimo</th>\n",
       "      <th>variacao</th>\n",
       "      <th>porcentagem_variacao</th>\n",
       "      <th>valor_compra</th>\n",
       "      <th>valor_venda</th>\n",
       "      <th>data_negociacao</th>\n",
       "    </tr>\n",
       "  </thead>\n",
       "  <tbody>\n",
       "    <tr>\n",
       "      <th>0</th>\n",
       "      <td>67c7b9a1c1f2bd4c02d62a55</td>\n",
       "      <td>USD</td>\n",
       "      <td>BRL</td>\n",
       "      <td>Dólar Americano/Real Brasileiro</td>\n",
       "      <td>5.90528</td>\n",
       "      <td>5.90528</td>\n",
       "      <td>-0.020320</td>\n",
       "      <td>-0.344100</td>\n",
       "      <td>5.88467</td>\n",
       "      <td>5.88526</td>\n",
       "      <td>2025-03-04 23:14:56</td>\n",
       "    </tr>\n",
       "    <tr>\n",
       "      <th>1</th>\n",
       "      <td>67c7b9a1c1f2bd4c02d62a56</td>\n",
       "      <td>USD</td>\n",
       "      <td>BRL</td>\n",
       "      <td>Dólar Americano/Real Brasileiro</td>\n",
       "      <td>5.88520</td>\n",
       "      <td>5.86414</td>\n",
       "      <td>0.000000</td>\n",
       "      <td>0.000000</td>\n",
       "      <td>5.88520</td>\n",
       "      <td>5.88720</td>\n",
       "      <td>2025-03-02 20:54:03</td>\n",
       "    </tr>\n",
       "    <tr>\n",
       "      <th>2</th>\n",
       "      <td>67c7b9a1c1f2bd4c02d62a57</td>\n",
       "      <td>USD</td>\n",
       "      <td>BRL</td>\n",
       "      <td>Dólar Americano/Real Brasileiro</td>\n",
       "      <td>5.90347</td>\n",
       "      <td>5.82410</td>\n",
       "      <td>0.063000</td>\n",
       "      <td>1.078750</td>\n",
       "      <td>5.90310</td>\n",
       "      <td>5.90440</td>\n",
       "      <td>2025-03-01 20:42:03</td>\n",
       "    </tr>\n",
       "    <tr>\n",
       "      <th>3</th>\n",
       "      <td>67c7b9a1c1f2bd4c02d62a58</td>\n",
       "      <td>USD</td>\n",
       "      <td>BRL</td>\n",
       "      <td>Dólar Americano/Real Brasileiro</td>\n",
       "      <td>5.90310</td>\n",
       "      <td>5.82410</td>\n",
       "      <td>0.063000</td>\n",
       "      <td>1.078750</td>\n",
       "      <td>5.90310</td>\n",
       "      <td>5.90440</td>\n",
       "      <td>2025-02-28 18:58:22</td>\n",
       "    </tr>\n",
       "    <tr>\n",
       "      <th>4</th>\n",
       "      <td>67c7b9a1c1f2bd4c02d62a59</td>\n",
       "      <td>USD</td>\n",
       "      <td>BRL</td>\n",
       "      <td>Dólar Americano/Real Brasileiro</td>\n",
       "      <td>5.84449</td>\n",
       "      <td>5.82460</td>\n",
       "      <td>0.000500</td>\n",
       "      <td>0.008560</td>\n",
       "      <td>5.84060</td>\n",
       "      <td>5.84220</td>\n",
       "      <td>2025-02-27 20:58:15</td>\n",
       "    </tr>\n",
       "    <tr>\n",
       "      <th>5</th>\n",
       "      <td>67c7b9a1c1f2bd4c02d62a5a</td>\n",
       "      <td>USD</td>\n",
       "      <td>BRL</td>\n",
       "      <td>Dólar Americano/Real Brasileiro</td>\n",
       "      <td>5.80669</td>\n",
       "      <td>5.79000</td>\n",
       "      <td>-0.001300</td>\n",
       "      <td>-0.022400</td>\n",
       "      <td>5.80220</td>\n",
       "      <td>5.80520</td>\n",
       "      <td>2025-02-26 20:59:24</td>\n",
       "    </tr>\n",
       "    <tr>\n",
       "      <th>6</th>\n",
       "      <td>67c7b9a1c1f2bd4c02d62a5b</td>\n",
       "      <td>USD</td>\n",
       "      <td>BRL</td>\n",
       "      <td>Dólar Americano/Real Brasileiro</td>\n",
       "      <td>5.74830</td>\n",
       "      <td>5.73607</td>\n",
       "      <td>0.000290</td>\n",
       "      <td>0.005050</td>\n",
       "      <td>5.73989</td>\n",
       "      <td>5.74240</td>\n",
       "      <td>2025-02-25 20:59:12</td>\n",
       "    </tr>\n",
       "    <tr>\n",
       "      <th>7</th>\n",
       "      <td>67c7b9a1c1f2bd4c02d62a5c</td>\n",
       "      <td>USD</td>\n",
       "      <td>BRL</td>\n",
       "      <td>Dólar Americano/Real Brasileiro</td>\n",
       "      <td>5.78260</td>\n",
       "      <td>5.70780</td>\n",
       "      <td>0.049200</td>\n",
       "      <td>0.858710</td>\n",
       "      <td>5.77870</td>\n",
       "      <td>5.78140</td>\n",
       "      <td>2025-02-24 20:59:39</td>\n",
       "    </tr>\n",
       "    <tr>\n",
       "      <th>8</th>\n",
       "      <td>67c7b9a1c1f2bd4c02d62a5d</td>\n",
       "      <td>USD</td>\n",
       "      <td>BRL</td>\n",
       "      <td>Dólar Americano/Real Brasileiro</td>\n",
       "      <td>5.73260</td>\n",
       "      <td>5.71317</td>\n",
       "      <td>-0.002500</td>\n",
       "      <td>-0.043615</td>\n",
       "      <td>5.72950</td>\n",
       "      <td>5.73080</td>\n",
       "      <td>2025-02-23 19:00:02</td>\n",
       "    </tr>\n",
       "    <tr>\n",
       "      <th>9</th>\n",
       "      <td>67c7b9a1c1f2bd4c02d62a5e</td>\n",
       "      <td>USD</td>\n",
       "      <td>BRL</td>\n",
       "      <td>Dólar Americano/Real Brasileiro</td>\n",
       "      <td>5.73550</td>\n",
       "      <td>5.69530</td>\n",
       "      <td>0.029100</td>\n",
       "      <td>0.510270</td>\n",
       "      <td>5.73200</td>\n",
       "      <td>5.73400</td>\n",
       "      <td>2025-02-22 00:49:18</td>\n",
       "    </tr>\n",
       "    <tr>\n",
       "      <th>10</th>\n",
       "      <td>67c7b9a1c1f2bd4c02d62a5f</td>\n",
       "      <td>USD</td>\n",
       "      <td>BRL</td>\n",
       "      <td>Dólar Americano/Real Brasileiro</td>\n",
       "      <td>5.73550</td>\n",
       "      <td>5.69530</td>\n",
       "      <td>0.026600</td>\n",
       "      <td>0.466430</td>\n",
       "      <td>5.72950</td>\n",
       "      <td>5.73080</td>\n",
       "      <td>2025-02-21 19:10:02</td>\n",
       "    </tr>\n",
       "    <tr>\n",
       "      <th>11</th>\n",
       "      <td>67c7b9a1c1f2bd4c02d62a60</td>\n",
       "      <td>USD</td>\n",
       "      <td>BRL</td>\n",
       "      <td>Dólar Americano/Real Brasileiro</td>\n",
       "      <td>5.72140</td>\n",
       "      <td>5.68790</td>\n",
       "      <td>-0.016996</td>\n",
       "      <td>-0.297070</td>\n",
       "      <td>5.69757</td>\n",
       "      <td>5.71124</td>\n",
       "      <td>2025-02-20 20:59:39</td>\n",
       "    </tr>\n",
       "    <tr>\n",
       "      <th>12</th>\n",
       "      <td>67c7b9a1c1f2bd4c02d62a61</td>\n",
       "      <td>USD</td>\n",
       "      <td>BRL</td>\n",
       "      <td>Dólar Americano/Real Brasileiro</td>\n",
       "      <td>5.73240</td>\n",
       "      <td>5.68420</td>\n",
       "      <td>0.032662</td>\n",
       "      <td>0.574110</td>\n",
       "      <td>5.72060</td>\n",
       "      <td>5.72360</td>\n",
       "      <td>2025-02-19 20:58:35</td>\n",
       "    </tr>\n",
       "    <tr>\n",
       "      <th>13</th>\n",
       "      <td>67c7b9a1c1f2bd4c02d62a62</td>\n",
       "      <td>USD</td>\n",
       "      <td>BRL</td>\n",
       "      <td>Dólar Americano/Real Brasileiro</td>\n",
       "      <td>5.72470</td>\n",
       "      <td>5.67690</td>\n",
       "      <td>-0.022900</td>\n",
       "      <td>-0.400840</td>\n",
       "      <td>5.68820</td>\n",
       "      <td>5.69120</td>\n",
       "      <td>2025-02-18 20:59:04</td>\n",
       "    </tr>\n",
       "    <tr>\n",
       "      <th>14</th>\n",
       "      <td>67c7b9a1c1f2bd4c02d62a63</td>\n",
       "      <td>USD</td>\n",
       "      <td>BRL</td>\n",
       "      <td>Dólar Americano/Real Brasileiro</td>\n",
       "      <td>5.71350</td>\n",
       "      <td>5.71170</td>\n",
       "      <td>0.000500</td>\n",
       "      <td>0.010000</td>\n",
       "      <td>5.71300</td>\n",
       "      <td>5.71400</td>\n",
       "      <td>2025-02-17 19:00:03</td>\n",
       "    </tr>\n",
       "    <tr>\n",
       "      <th>15</th>\n",
       "      <td>67c7b9a1c1f2bd4c02d62a64</td>\n",
       "      <td>USD</td>\n",
       "      <td>BRL</td>\n",
       "      <td>Dólar Americano/Real Brasileiro</td>\n",
       "      <td>5.77070</td>\n",
       "      <td>5.69280</td>\n",
       "      <td>-0.062700</td>\n",
       "      <td>-1.040000</td>\n",
       "      <td>5.69500</td>\n",
       "      <td>5.69700</td>\n",
       "      <td>2025-02-14 17:58:59</td>\n",
       "    </tr>\n",
       "    <tr>\n",
       "      <th>16</th>\n",
       "      <td>67c7b9a1c1f2bd4c02d62a65</td>\n",
       "      <td>USD</td>\n",
       "      <td>BRL</td>\n",
       "      <td>Dólar Americano/Real Brasileiro</td>\n",
       "      <td>5.79970</td>\n",
       "      <td>5.69100</td>\n",
       "      <td>-0.062200</td>\n",
       "      <td>-1.080000</td>\n",
       "      <td>5.70420</td>\n",
       "      <td>5.70520</td>\n",
       "      <td>2025-02-14 17:58:45</td>\n",
       "    </tr>\n",
       "    <tr>\n",
       "      <th>17</th>\n",
       "      <td>67c7b9a1c1f2bd4c02d62a66</td>\n",
       "      <td>USD</td>\n",
       "      <td>BRL</td>\n",
       "      <td>Dólar Americano/Real Brasileiro</td>\n",
       "      <td>5.76730</td>\n",
       "      <td>5.76550</td>\n",
       "      <td>0.000400</td>\n",
       "      <td>0.010000</td>\n",
       "      <td>5.76690</td>\n",
       "      <td>5.76770</td>\n",
       "      <td>2025-02-13 19:00:04</td>\n",
       "    </tr>\n",
       "    <tr>\n",
       "      <th>18</th>\n",
       "      <td>67c7b9a1c1f2bd4c02d62a67</td>\n",
       "      <td>USD</td>\n",
       "      <td>BRL</td>\n",
       "      <td>Dólar Americano/Real Brasileiro</td>\n",
       "      <td>5.76540</td>\n",
       "      <td>5.75800</td>\n",
       "      <td>0.000500</td>\n",
       "      <td>0.010000</td>\n",
       "      <td>5.76490</td>\n",
       "      <td>5.76590</td>\n",
       "      <td>2025-02-12 19:00:04</td>\n",
       "    </tr>\n",
       "    <tr>\n",
       "      <th>19</th>\n",
       "      <td>67c7b9a1c1f2bd4c02d62a68</td>\n",
       "      <td>USD</td>\n",
       "      <td>BRL</td>\n",
       "      <td>Dólar Americano/Real Brasileiro</td>\n",
       "      <td>5.76590</td>\n",
       "      <td>5.76350</td>\n",
       "      <td>0.002400</td>\n",
       "      <td>0.040000</td>\n",
       "      <td>5.76540</td>\n",
       "      <td>5.76640</td>\n",
       "      <td>2025-02-11 19:00:03</td>\n",
       "    </tr>\n",
       "    <tr>\n",
       "      <th>20</th>\n",
       "      <td>67c7b9a1c1f2bd4c02d62a69</td>\n",
       "      <td>USD</td>\n",
       "      <td>BRL</td>\n",
       "      <td>Dólar Americano/Real Brasileiro</td>\n",
       "      <td>5.78770</td>\n",
       "      <td>5.78650</td>\n",
       "      <td>0.000300</td>\n",
       "      <td>0.010000</td>\n",
       "      <td>5.78740</td>\n",
       "      <td>5.78800</td>\n",
       "      <td>2025-02-10 19:00:03</td>\n",
       "    </tr>\n",
       "    <tr>\n",
       "      <th>21</th>\n",
       "      <td>67c7b9a1c1f2bd4c02d62a6a</td>\n",
       "      <td>USD</td>\n",
       "      <td>BRL</td>\n",
       "      <td>Dólar Americano/Real Brasileiro</td>\n",
       "      <td>5.81310</td>\n",
       "      <td>5.73490</td>\n",
       "      <td>0.044100</td>\n",
       "      <td>0.690000</td>\n",
       "      <td>5.80700</td>\n",
       "      <td>5.81000</td>\n",
       "      <td>2025-02-07 17:58:59</td>\n",
       "    </tr>\n",
       "    <tr>\n",
       "      <th>22</th>\n",
       "      <td>67c7b9a1c1f2bd4c02d62a6b</td>\n",
       "      <td>USD</td>\n",
       "      <td>BRL</td>\n",
       "      <td>Dólar Americano/Real Brasileiro</td>\n",
       "      <td>5.82460</td>\n",
       "      <td>5.73400</td>\n",
       "      <td>0.044500</td>\n",
       "      <td>0.770000</td>\n",
       "      <td>5.80580</td>\n",
       "      <td>5.80660</td>\n",
       "      <td>2025-02-07 17:58:21</td>\n",
       "    </tr>\n",
       "    <tr>\n",
       "      <th>23</th>\n",
       "      <td>67c7b9a1c1f2bd4c02d62a6c</td>\n",
       "      <td>USD</td>\n",
       "      <td>BRL</td>\n",
       "      <td>Dólar Americano/Real Brasileiro</td>\n",
       "      <td>5.76220</td>\n",
       "      <td>5.76150</td>\n",
       "      <td>0.000500</td>\n",
       "      <td>0.010000</td>\n",
       "      <td>5.76170</td>\n",
       "      <td>5.76260</td>\n",
       "      <td>2025-02-06 19:00:03</td>\n",
       "    </tr>\n",
       "    <tr>\n",
       "      <th>24</th>\n",
       "      <td>67c7b9a1c1f2bd4c02d62a6d</td>\n",
       "      <td>USD</td>\n",
       "      <td>BRL</td>\n",
       "      <td>Dólar Americano/Real Brasileiro</td>\n",
       "      <td>5.80440</td>\n",
       "      <td>5.80400</td>\n",
       "      <td>0.007100</td>\n",
       "      <td>0.120000</td>\n",
       "      <td>5.80390</td>\n",
       "      <td>5.80490</td>\n",
       "      <td>2025-02-05 19:00:03</td>\n",
       "    </tr>\n",
       "    <tr>\n",
       "      <th>25</th>\n",
       "      <td>67c7b9a1c1f2bd4c02d62a6e</td>\n",
       "      <td>USD</td>\n",
       "      <td>BRL</td>\n",
       "      <td>Dólar Americano/Real Brasileiro</td>\n",
       "      <td>5.75860</td>\n",
       "      <td>5.75800</td>\n",
       "      <td>0.004600</td>\n",
       "      <td>0.080000</td>\n",
       "      <td>5.75810</td>\n",
       "      <td>5.75910</td>\n",
       "      <td>2025-02-04 19:00:03</td>\n",
       "    </tr>\n",
       "    <tr>\n",
       "      <th>26</th>\n",
       "      <td>67c7b9a1c1f2bd4c02d62a6f</td>\n",
       "      <td>USD</td>\n",
       "      <td>BRL</td>\n",
       "      <td>Dólar Americano/Real Brasileiro</td>\n",
       "      <td>5.80690</td>\n",
       "      <td>5.80550</td>\n",
       "      <td>0.000300</td>\n",
       "      <td>0.010000</td>\n",
       "      <td>5.80660</td>\n",
       "      <td>5.80720</td>\n",
       "      <td>2025-02-03 19:00:04</td>\n",
       "    </tr>\n",
       "    <tr>\n",
       "      <th>27</th>\n",
       "      <td>67c7b9a1c1f2bd4c02d62a70</td>\n",
       "      <td>USD</td>\n",
       "      <td>BRL</td>\n",
       "      <td>Dólar Americano/Real Brasileiro</td>\n",
       "      <td>5.84400</td>\n",
       "      <td>5.84100</td>\n",
       "      <td>0.003000</td>\n",
       "      <td>0.050000</td>\n",
       "      <td>5.84350</td>\n",
       "      <td>5.84450</td>\n",
       "      <td>2025-02-02 19:02:50</td>\n",
       "    </tr>\n",
       "    <tr>\n",
       "      <th>28</th>\n",
       "      <td>67c7b9a1c1f2bd4c02d62a71</td>\n",
       "      <td>USD</td>\n",
       "      <td>BRL</td>\n",
       "      <td>Dólar Americano/Real Brasileiro</td>\n",
       "      <td>5.93320</td>\n",
       "      <td>5.80600</td>\n",
       "      <td>-0.029500</td>\n",
       "      <td>-0.500000</td>\n",
       "      <td>5.84300</td>\n",
       "      <td>5.84600</td>\n",
       "      <td>2025-01-31 17:58:56</td>\n",
       "    </tr>\n",
       "  </tbody>\n",
       "</table>\n",
       "</div>"
      ],
      "text/plain": [
       "                         _id moeda_de moeda_para  \\\n",
       "0   67c7b9a1c1f2bd4c02d62a55      USD        BRL   \n",
       "1   67c7b9a1c1f2bd4c02d62a56      USD        BRL   \n",
       "2   67c7b9a1c1f2bd4c02d62a57      USD        BRL   \n",
       "3   67c7b9a1c1f2bd4c02d62a58      USD        BRL   \n",
       "4   67c7b9a1c1f2bd4c02d62a59      USD        BRL   \n",
       "5   67c7b9a1c1f2bd4c02d62a5a      USD        BRL   \n",
       "6   67c7b9a1c1f2bd4c02d62a5b      USD        BRL   \n",
       "7   67c7b9a1c1f2bd4c02d62a5c      USD        BRL   \n",
       "8   67c7b9a1c1f2bd4c02d62a5d      USD        BRL   \n",
       "9   67c7b9a1c1f2bd4c02d62a5e      USD        BRL   \n",
       "10  67c7b9a1c1f2bd4c02d62a5f      USD        BRL   \n",
       "11  67c7b9a1c1f2bd4c02d62a60      USD        BRL   \n",
       "12  67c7b9a1c1f2bd4c02d62a61      USD        BRL   \n",
       "13  67c7b9a1c1f2bd4c02d62a62      USD        BRL   \n",
       "14  67c7b9a1c1f2bd4c02d62a63      USD        BRL   \n",
       "15  67c7b9a1c1f2bd4c02d62a64      USD        BRL   \n",
       "16  67c7b9a1c1f2bd4c02d62a65      USD        BRL   \n",
       "17  67c7b9a1c1f2bd4c02d62a66      USD        BRL   \n",
       "18  67c7b9a1c1f2bd4c02d62a67      USD        BRL   \n",
       "19  67c7b9a1c1f2bd4c02d62a68      USD        BRL   \n",
       "20  67c7b9a1c1f2bd4c02d62a69      USD        BRL   \n",
       "21  67c7b9a1c1f2bd4c02d62a6a      USD        BRL   \n",
       "22  67c7b9a1c1f2bd4c02d62a6b      USD        BRL   \n",
       "23  67c7b9a1c1f2bd4c02d62a6c      USD        BRL   \n",
       "24  67c7b9a1c1f2bd4c02d62a6d      USD        BRL   \n",
       "25  67c7b9a1c1f2bd4c02d62a6e      USD        BRL   \n",
       "26  67c7b9a1c1f2bd4c02d62a6f      USD        BRL   \n",
       "27  67c7b9a1c1f2bd4c02d62a70      USD        BRL   \n",
       "28  67c7b9a1c1f2bd4c02d62a71      USD        BRL   \n",
       "\n",
       "                          conversao  valor_maximo  valor_minimo  variacao  \\\n",
       "0   Dólar Americano/Real Brasileiro       5.90528       5.90528 -0.020320   \n",
       "1   Dólar Americano/Real Brasileiro       5.88520       5.86414  0.000000   \n",
       "2   Dólar Americano/Real Brasileiro       5.90347       5.82410  0.063000   \n",
       "3   Dólar Americano/Real Brasileiro       5.90310       5.82410  0.063000   \n",
       "4   Dólar Americano/Real Brasileiro       5.84449       5.82460  0.000500   \n",
       "5   Dólar Americano/Real Brasileiro       5.80669       5.79000 -0.001300   \n",
       "6   Dólar Americano/Real Brasileiro       5.74830       5.73607  0.000290   \n",
       "7   Dólar Americano/Real Brasileiro       5.78260       5.70780  0.049200   \n",
       "8   Dólar Americano/Real Brasileiro       5.73260       5.71317 -0.002500   \n",
       "9   Dólar Americano/Real Brasileiro       5.73550       5.69530  0.029100   \n",
       "10  Dólar Americano/Real Brasileiro       5.73550       5.69530  0.026600   \n",
       "11  Dólar Americano/Real Brasileiro       5.72140       5.68790 -0.016996   \n",
       "12  Dólar Americano/Real Brasileiro       5.73240       5.68420  0.032662   \n",
       "13  Dólar Americano/Real Brasileiro       5.72470       5.67690 -0.022900   \n",
       "14  Dólar Americano/Real Brasileiro       5.71350       5.71170  0.000500   \n",
       "15  Dólar Americano/Real Brasileiro       5.77070       5.69280 -0.062700   \n",
       "16  Dólar Americano/Real Brasileiro       5.79970       5.69100 -0.062200   \n",
       "17  Dólar Americano/Real Brasileiro       5.76730       5.76550  0.000400   \n",
       "18  Dólar Americano/Real Brasileiro       5.76540       5.75800  0.000500   \n",
       "19  Dólar Americano/Real Brasileiro       5.76590       5.76350  0.002400   \n",
       "20  Dólar Americano/Real Brasileiro       5.78770       5.78650  0.000300   \n",
       "21  Dólar Americano/Real Brasileiro       5.81310       5.73490  0.044100   \n",
       "22  Dólar Americano/Real Brasileiro       5.82460       5.73400  0.044500   \n",
       "23  Dólar Americano/Real Brasileiro       5.76220       5.76150  0.000500   \n",
       "24  Dólar Americano/Real Brasileiro       5.80440       5.80400  0.007100   \n",
       "25  Dólar Americano/Real Brasileiro       5.75860       5.75800  0.004600   \n",
       "26  Dólar Americano/Real Brasileiro       5.80690       5.80550  0.000300   \n",
       "27  Dólar Americano/Real Brasileiro       5.84400       5.84100  0.003000   \n",
       "28  Dólar Americano/Real Brasileiro       5.93320       5.80600 -0.029500   \n",
       "\n",
       "    porcentagem_variacao  valor_compra  valor_venda     data_negociacao  \n",
       "0              -0.344100       5.88467      5.88526 2025-03-04 23:14:56  \n",
       "1               0.000000       5.88520      5.88720 2025-03-02 20:54:03  \n",
       "2               1.078750       5.90310      5.90440 2025-03-01 20:42:03  \n",
       "3               1.078750       5.90310      5.90440 2025-02-28 18:58:22  \n",
       "4               0.008560       5.84060      5.84220 2025-02-27 20:58:15  \n",
       "5              -0.022400       5.80220      5.80520 2025-02-26 20:59:24  \n",
       "6               0.005050       5.73989      5.74240 2025-02-25 20:59:12  \n",
       "7               0.858710       5.77870      5.78140 2025-02-24 20:59:39  \n",
       "8              -0.043615       5.72950      5.73080 2025-02-23 19:00:02  \n",
       "9               0.510270       5.73200      5.73400 2025-02-22 00:49:18  \n",
       "10              0.466430       5.72950      5.73080 2025-02-21 19:10:02  \n",
       "11             -0.297070       5.69757      5.71124 2025-02-20 20:59:39  \n",
       "12              0.574110       5.72060      5.72360 2025-02-19 20:58:35  \n",
       "13             -0.400840       5.68820      5.69120 2025-02-18 20:59:04  \n",
       "14              0.010000       5.71300      5.71400 2025-02-17 19:00:03  \n",
       "15             -1.040000       5.69500      5.69700 2025-02-14 17:58:59  \n",
       "16             -1.080000       5.70420      5.70520 2025-02-14 17:58:45  \n",
       "17              0.010000       5.76690      5.76770 2025-02-13 19:00:04  \n",
       "18              0.010000       5.76490      5.76590 2025-02-12 19:00:04  \n",
       "19              0.040000       5.76540      5.76640 2025-02-11 19:00:03  \n",
       "20              0.010000       5.78740      5.78800 2025-02-10 19:00:03  \n",
       "21              0.690000       5.80700      5.81000 2025-02-07 17:58:59  \n",
       "22              0.770000       5.80580      5.80660 2025-02-07 17:58:21  \n",
       "23              0.010000       5.76170      5.76260 2025-02-06 19:00:03  \n",
       "24              0.120000       5.80390      5.80490 2025-02-05 19:00:03  \n",
       "25              0.080000       5.75810      5.75910 2025-02-04 19:00:03  \n",
       "26              0.010000       5.80660      5.80720 2025-02-03 19:00:04  \n",
       "27              0.050000       5.84350      5.84450 2025-02-02 19:02:50  \n",
       "28             -0.500000       5.84300      5.84600 2025-01-31 17:58:56  "
      ]
     },
     "metadata": {},
     "output_type": "display_data"
    }
   ],
   "source": [
    "# Retorna todas a cotações entre Dolar -> Real para um Dataframe Pandas.\n",
    "try:\n",
    "    collection, client = conectar(uri=uri_mongo, database=os.getenv('DB_NAME'), collection=os.getenv('DB_COLLECTION'))\n",
    "    results = collection.find({\"moeda_de\" : \"USD\"})\n",
    "    data = pd.DataFrame(list(results))\n",
    "    display(data)\n",
    "except mongoerrors.PyMongoError as e:\n",
    "    print(f\"Erro ao realizar a consulta na base de dados: {e}\")\n",
    "except Exception as e:\n",
    "    print(f\"Ocorreu um erro: {e}\")\n",
    "finally:\n",
    "    client.close()"
   ]
  },
  {
   "cell_type": "code",
   "execution_count": 25,
   "metadata": {},
   "outputs": [
    {
     "name": "stdout",
     "output_type": "stream",
     "text": [
      "Nossa coleção possui um total de 58 documentos, sendo 29 de cotações entre USD/BRL e 29 de cotações entre EUR/BRL\n"
     ]
    }
   ],
   "source": [
    "# Retorna o total de documentos na coleção - Total de documentos cotação USD - BRL - Total de documentos cotação EUR - BRL\n",
    "try:\n",
    "    collection, client = conectar(uri=uri_mongo, database=os.getenv('DB_NAME'), collection=os.getenv('DB_COLLECTION'))\n",
    "    docs = collection.count_documents({})\n",
    "    usd_docs = collection.count_documents({\"moeda_de\" : \"USD\"})\n",
    "    eur_docs = collection.count_documents({\"moeda_de\" : \"EUR\"})\n",
    "\n",
    "    print(f\"Nossa coleção possui um total de {docs} documentos, sendo {usd_docs} de cotações entre USD/BRL e {eur_docs} de cotações entre EUR/BRL\")\n",
    "except mongoerrors.PyMongoError as e:\n",
    "    print(f\"Erro ao realizar a consulta na base de dados: {e}\")\n",
    "except Exception as e:\n",
    "    print(f\"Ocorreu um erro: {e}\")\n",
    "finally:\n",
    "    client.close()"
   ]
  },
  {
   "cell_type": "code",
   "execution_count": 26,
   "metadata": {},
   "outputs": [
    {
     "data": {
      "application/vnd.microsoft.datawrangler.viewer.v0+json": {
       "columns": [
        {
         "name": "index",
         "rawType": "int64",
         "type": "integer"
        },
        {
         "name": "_id",
         "rawType": "object",
         "type": "unknown"
        },
        {
         "name": "moeda_de",
         "rawType": "object",
         "type": "string"
        },
        {
         "name": "moeda_para",
         "rawType": "object",
         "type": "string"
        },
        {
         "name": "conversao",
         "rawType": "object",
         "type": "string"
        },
        {
         "name": "valor_maximo",
         "rawType": "float64",
         "type": "float"
        },
        {
         "name": "valor_minimo",
         "rawType": "float64",
         "type": "float"
        },
        {
         "name": "variacao",
         "rawType": "float64",
         "type": "float"
        },
        {
         "name": "porcentagem_variacao",
         "rawType": "float64",
         "type": "float"
        },
        {
         "name": "valor_compra",
         "rawType": "float64",
         "type": "float"
        },
        {
         "name": "valor_venda",
         "rawType": "float64",
         "type": "float"
        },
        {
         "name": "data_negociacao",
         "rawType": "datetime64[ns]",
         "type": "datetime"
        }
       ],
       "conversionMethod": "pd.DataFrame",
       "ref": "d9dcf1bc-31bc-43bc-aad6-ed329cdf5065",
       "rows": [
        [
         "0",
         "67c7b9a1c1f2bd4c02d62a5b",
         "USD",
         "BRL",
         "Dólar Americano/Real Brasileiro",
         "5.7483",
         "5.73607",
         "0.00029",
         "0.00505",
         "5.73989",
         "5.7424",
         "2025-02-25 20:59:12"
        ],
        [
         "1",
         "67c7b9a1c1f2bd4c02d62a5c",
         "USD",
         "BRL",
         "Dólar Americano/Real Brasileiro",
         "5.7826",
         "5.7078",
         "0.0492",
         "0.85871",
         "5.7787",
         "5.7814",
         "2025-02-24 20:59:39"
        ],
        [
         "2",
         "67c7b9a1c1f2bd4c02d62a5d",
         "USD",
         "BRL",
         "Dólar Americano/Real Brasileiro",
         "5.7326",
         "5.71317",
         "-0.0025",
         "-0.0436148",
         "5.7295",
         "5.7308",
         "2025-02-23 19:00:02"
        ],
        [
         "3",
         "67c7b9a1c1f2bd4c02d62a5e",
         "USD",
         "BRL",
         "Dólar Americano/Real Brasileiro",
         "5.7355",
         "5.6953",
         "0.0291",
         "0.51027",
         "5.732",
         "5.734",
         "2025-02-22 00:49:18"
        ],
        [
         "4",
         "67c7b9a1c1f2bd4c02d62a5f",
         "USD",
         "BRL",
         "Dólar Americano/Real Brasileiro",
         "5.7355",
         "5.6953",
         "0.0266",
         "0.46643",
         "5.7295",
         "5.7308",
         "2025-02-21 19:10:02"
        ],
        [
         "5",
         "67c7b9a1c1f2bd4c02d62a60",
         "USD",
         "BRL",
         "Dólar Americano/Real Brasileiro",
         "5.7214",
         "5.6879",
         "-0.0169964",
         "-0.29707",
         "5.69757",
         "5.71124",
         "2025-02-20 20:59:39"
        ],
        [
         "6",
         "67c7b9a1c1f2bd4c02d62a61",
         "USD",
         "BRL",
         "Dólar Americano/Real Brasileiro",
         "5.7324",
         "5.6842",
         "0.0326624",
         "0.57411",
         "5.7206",
         "5.7236",
         "2025-02-19 20:58:35"
        ],
        [
         "7",
         "67c7b9a1c1f2bd4c02d62a62",
         "USD",
         "BRL",
         "Dólar Americano/Real Brasileiro",
         "5.7247",
         "5.6769",
         "-0.0229",
         "-0.40084",
         "5.6882",
         "5.6912",
         "2025-02-18 20:59:04"
        ],
        [
         "8",
         "67c7b9a1c1f2bd4c02d62a63",
         "USD",
         "BRL",
         "Dólar Americano/Real Brasileiro",
         "5.7135",
         "5.7117",
         "0.0005",
         "0.01",
         "5.713",
         "5.714",
         "2025-02-17 19:00:03"
        ],
        [
         "9",
         "67c7b9a1c1f2bd4c02d62a64",
         "USD",
         "BRL",
         "Dólar Americano/Real Brasileiro",
         "5.7707",
         "5.6928",
         "-0.0627",
         "-1.04",
         "5.695",
         "5.697",
         "2025-02-14 17:58:59"
        ],
        [
         "10",
         "67c7b9a1c1f2bd4c02d62a65",
         "USD",
         "BRL",
         "Dólar Americano/Real Brasileiro",
         "5.7997",
         "5.691",
         "-0.0622",
         "-1.08",
         "5.7042",
         "5.7052",
         "2025-02-14 17:58:45"
        ],
        [
         "11",
         "67c7b9a1c1f2bd4c02d62a66",
         "USD",
         "BRL",
         "Dólar Americano/Real Brasileiro",
         "5.7673",
         "5.7655",
         "0.0004",
         "0.01",
         "5.7669",
         "5.7677",
         "2025-02-13 19:00:04"
        ],
        [
         "12",
         "67c7b9a1c1f2bd4c02d62a67",
         "USD",
         "BRL",
         "Dólar Americano/Real Brasileiro",
         "5.7654",
         "5.758",
         "0.0005",
         "0.01",
         "5.7649",
         "5.7659",
         "2025-02-12 19:00:04"
        ],
        [
         "13",
         "67c7b9a1c1f2bd4c02d62a68",
         "USD",
         "BRL",
         "Dólar Americano/Real Brasileiro",
         "5.7659",
         "5.7635",
         "0.0024",
         "0.04",
         "5.7654",
         "5.7664",
         "2025-02-11 19:00:03"
        ],
        [
         "14",
         "67c7b9a1c1f2bd4c02d62a69",
         "USD",
         "BRL",
         "Dólar Americano/Real Brasileiro",
         "5.7877",
         "5.7865",
         "0.0003",
         "0.01",
         "5.7874",
         "5.788",
         "2025-02-10 19:00:03"
        ],
        [
         "15",
         "67c7b9a1c1f2bd4c02d62a6c",
         "USD",
         "BRL",
         "Dólar Americano/Real Brasileiro",
         "5.7622",
         "5.7615",
         "0.0005",
         "0.01",
         "5.7617",
         "5.7626",
         "2025-02-06 19:00:03"
        ],
        [
         "16",
         "67c7b9a1c1f2bd4c02d62a6e",
         "USD",
         "BRL",
         "Dólar Americano/Real Brasileiro",
         "5.7586",
         "5.758",
         "0.0046",
         "0.08",
         "5.7581",
         "5.7591",
         "2025-02-04 19:00:03"
        ]
       ],
       "shape": {
        "columns": 11,
        "rows": 17
       }
      },
      "text/html": [
       "<div>\n",
       "<style scoped>\n",
       "    .dataframe tbody tr th:only-of-type {\n",
       "        vertical-align: middle;\n",
       "    }\n",
       "\n",
       "    .dataframe tbody tr th {\n",
       "        vertical-align: top;\n",
       "    }\n",
       "\n",
       "    .dataframe thead th {\n",
       "        text-align: right;\n",
       "    }\n",
       "</style>\n",
       "<table border=\"1\" class=\"dataframe\">\n",
       "  <thead>\n",
       "    <tr style=\"text-align: right;\">\n",
       "      <th></th>\n",
       "      <th>_id</th>\n",
       "      <th>moeda_de</th>\n",
       "      <th>moeda_para</th>\n",
       "      <th>conversao</th>\n",
       "      <th>valor_maximo</th>\n",
       "      <th>valor_minimo</th>\n",
       "      <th>variacao</th>\n",
       "      <th>porcentagem_variacao</th>\n",
       "      <th>valor_compra</th>\n",
       "      <th>valor_venda</th>\n",
       "      <th>data_negociacao</th>\n",
       "    </tr>\n",
       "  </thead>\n",
       "  <tbody>\n",
       "    <tr>\n",
       "      <th>0</th>\n",
       "      <td>67c7b9a1c1f2bd4c02d62a5b</td>\n",
       "      <td>USD</td>\n",
       "      <td>BRL</td>\n",
       "      <td>Dólar Americano/Real Brasileiro</td>\n",
       "      <td>5.7483</td>\n",
       "      <td>5.73607</td>\n",
       "      <td>0.000290</td>\n",
       "      <td>0.005050</td>\n",
       "      <td>5.73989</td>\n",
       "      <td>5.74240</td>\n",
       "      <td>2025-02-25 20:59:12</td>\n",
       "    </tr>\n",
       "    <tr>\n",
       "      <th>1</th>\n",
       "      <td>67c7b9a1c1f2bd4c02d62a5c</td>\n",
       "      <td>USD</td>\n",
       "      <td>BRL</td>\n",
       "      <td>Dólar Americano/Real Brasileiro</td>\n",
       "      <td>5.7826</td>\n",
       "      <td>5.70780</td>\n",
       "      <td>0.049200</td>\n",
       "      <td>0.858710</td>\n",
       "      <td>5.77870</td>\n",
       "      <td>5.78140</td>\n",
       "      <td>2025-02-24 20:59:39</td>\n",
       "    </tr>\n",
       "    <tr>\n",
       "      <th>2</th>\n",
       "      <td>67c7b9a1c1f2bd4c02d62a5d</td>\n",
       "      <td>USD</td>\n",
       "      <td>BRL</td>\n",
       "      <td>Dólar Americano/Real Brasileiro</td>\n",
       "      <td>5.7326</td>\n",
       "      <td>5.71317</td>\n",
       "      <td>-0.002500</td>\n",
       "      <td>-0.043615</td>\n",
       "      <td>5.72950</td>\n",
       "      <td>5.73080</td>\n",
       "      <td>2025-02-23 19:00:02</td>\n",
       "    </tr>\n",
       "    <tr>\n",
       "      <th>3</th>\n",
       "      <td>67c7b9a1c1f2bd4c02d62a5e</td>\n",
       "      <td>USD</td>\n",
       "      <td>BRL</td>\n",
       "      <td>Dólar Americano/Real Brasileiro</td>\n",
       "      <td>5.7355</td>\n",
       "      <td>5.69530</td>\n",
       "      <td>0.029100</td>\n",
       "      <td>0.510270</td>\n",
       "      <td>5.73200</td>\n",
       "      <td>5.73400</td>\n",
       "      <td>2025-02-22 00:49:18</td>\n",
       "    </tr>\n",
       "    <tr>\n",
       "      <th>4</th>\n",
       "      <td>67c7b9a1c1f2bd4c02d62a5f</td>\n",
       "      <td>USD</td>\n",
       "      <td>BRL</td>\n",
       "      <td>Dólar Americano/Real Brasileiro</td>\n",
       "      <td>5.7355</td>\n",
       "      <td>5.69530</td>\n",
       "      <td>0.026600</td>\n",
       "      <td>0.466430</td>\n",
       "      <td>5.72950</td>\n",
       "      <td>5.73080</td>\n",
       "      <td>2025-02-21 19:10:02</td>\n",
       "    </tr>\n",
       "    <tr>\n",
       "      <th>5</th>\n",
       "      <td>67c7b9a1c1f2bd4c02d62a60</td>\n",
       "      <td>USD</td>\n",
       "      <td>BRL</td>\n",
       "      <td>Dólar Americano/Real Brasileiro</td>\n",
       "      <td>5.7214</td>\n",
       "      <td>5.68790</td>\n",
       "      <td>-0.016996</td>\n",
       "      <td>-0.297070</td>\n",
       "      <td>5.69757</td>\n",
       "      <td>5.71124</td>\n",
       "      <td>2025-02-20 20:59:39</td>\n",
       "    </tr>\n",
       "    <tr>\n",
       "      <th>6</th>\n",
       "      <td>67c7b9a1c1f2bd4c02d62a61</td>\n",
       "      <td>USD</td>\n",
       "      <td>BRL</td>\n",
       "      <td>Dólar Americano/Real Brasileiro</td>\n",
       "      <td>5.7324</td>\n",
       "      <td>5.68420</td>\n",
       "      <td>0.032662</td>\n",
       "      <td>0.574110</td>\n",
       "      <td>5.72060</td>\n",
       "      <td>5.72360</td>\n",
       "      <td>2025-02-19 20:58:35</td>\n",
       "    </tr>\n",
       "    <tr>\n",
       "      <th>7</th>\n",
       "      <td>67c7b9a1c1f2bd4c02d62a62</td>\n",
       "      <td>USD</td>\n",
       "      <td>BRL</td>\n",
       "      <td>Dólar Americano/Real Brasileiro</td>\n",
       "      <td>5.7247</td>\n",
       "      <td>5.67690</td>\n",
       "      <td>-0.022900</td>\n",
       "      <td>-0.400840</td>\n",
       "      <td>5.68820</td>\n",
       "      <td>5.69120</td>\n",
       "      <td>2025-02-18 20:59:04</td>\n",
       "    </tr>\n",
       "    <tr>\n",
       "      <th>8</th>\n",
       "      <td>67c7b9a1c1f2bd4c02d62a63</td>\n",
       "      <td>USD</td>\n",
       "      <td>BRL</td>\n",
       "      <td>Dólar Americano/Real Brasileiro</td>\n",
       "      <td>5.7135</td>\n",
       "      <td>5.71170</td>\n",
       "      <td>0.000500</td>\n",
       "      <td>0.010000</td>\n",
       "      <td>5.71300</td>\n",
       "      <td>5.71400</td>\n",
       "      <td>2025-02-17 19:00:03</td>\n",
       "    </tr>\n",
       "    <tr>\n",
       "      <th>9</th>\n",
       "      <td>67c7b9a1c1f2bd4c02d62a64</td>\n",
       "      <td>USD</td>\n",
       "      <td>BRL</td>\n",
       "      <td>Dólar Americano/Real Brasileiro</td>\n",
       "      <td>5.7707</td>\n",
       "      <td>5.69280</td>\n",
       "      <td>-0.062700</td>\n",
       "      <td>-1.040000</td>\n",
       "      <td>5.69500</td>\n",
       "      <td>5.69700</td>\n",
       "      <td>2025-02-14 17:58:59</td>\n",
       "    </tr>\n",
       "    <tr>\n",
       "      <th>10</th>\n",
       "      <td>67c7b9a1c1f2bd4c02d62a65</td>\n",
       "      <td>USD</td>\n",
       "      <td>BRL</td>\n",
       "      <td>Dólar Americano/Real Brasileiro</td>\n",
       "      <td>5.7997</td>\n",
       "      <td>5.69100</td>\n",
       "      <td>-0.062200</td>\n",
       "      <td>-1.080000</td>\n",
       "      <td>5.70420</td>\n",
       "      <td>5.70520</td>\n",
       "      <td>2025-02-14 17:58:45</td>\n",
       "    </tr>\n",
       "    <tr>\n",
       "      <th>11</th>\n",
       "      <td>67c7b9a1c1f2bd4c02d62a66</td>\n",
       "      <td>USD</td>\n",
       "      <td>BRL</td>\n",
       "      <td>Dólar Americano/Real Brasileiro</td>\n",
       "      <td>5.7673</td>\n",
       "      <td>5.76550</td>\n",
       "      <td>0.000400</td>\n",
       "      <td>0.010000</td>\n",
       "      <td>5.76690</td>\n",
       "      <td>5.76770</td>\n",
       "      <td>2025-02-13 19:00:04</td>\n",
       "    </tr>\n",
       "    <tr>\n",
       "      <th>12</th>\n",
       "      <td>67c7b9a1c1f2bd4c02d62a67</td>\n",
       "      <td>USD</td>\n",
       "      <td>BRL</td>\n",
       "      <td>Dólar Americano/Real Brasileiro</td>\n",
       "      <td>5.7654</td>\n",
       "      <td>5.75800</td>\n",
       "      <td>0.000500</td>\n",
       "      <td>0.010000</td>\n",
       "      <td>5.76490</td>\n",
       "      <td>5.76590</td>\n",
       "      <td>2025-02-12 19:00:04</td>\n",
       "    </tr>\n",
       "    <tr>\n",
       "      <th>13</th>\n",
       "      <td>67c7b9a1c1f2bd4c02d62a68</td>\n",
       "      <td>USD</td>\n",
       "      <td>BRL</td>\n",
       "      <td>Dólar Americano/Real Brasileiro</td>\n",
       "      <td>5.7659</td>\n",
       "      <td>5.76350</td>\n",
       "      <td>0.002400</td>\n",
       "      <td>0.040000</td>\n",
       "      <td>5.76540</td>\n",
       "      <td>5.76640</td>\n",
       "      <td>2025-02-11 19:00:03</td>\n",
       "    </tr>\n",
       "    <tr>\n",
       "      <th>14</th>\n",
       "      <td>67c7b9a1c1f2bd4c02d62a69</td>\n",
       "      <td>USD</td>\n",
       "      <td>BRL</td>\n",
       "      <td>Dólar Americano/Real Brasileiro</td>\n",
       "      <td>5.7877</td>\n",
       "      <td>5.78650</td>\n",
       "      <td>0.000300</td>\n",
       "      <td>0.010000</td>\n",
       "      <td>5.78740</td>\n",
       "      <td>5.78800</td>\n",
       "      <td>2025-02-10 19:00:03</td>\n",
       "    </tr>\n",
       "    <tr>\n",
       "      <th>15</th>\n",
       "      <td>67c7b9a1c1f2bd4c02d62a6c</td>\n",
       "      <td>USD</td>\n",
       "      <td>BRL</td>\n",
       "      <td>Dólar Americano/Real Brasileiro</td>\n",
       "      <td>5.7622</td>\n",
       "      <td>5.76150</td>\n",
       "      <td>0.000500</td>\n",
       "      <td>0.010000</td>\n",
       "      <td>5.76170</td>\n",
       "      <td>5.76260</td>\n",
       "      <td>2025-02-06 19:00:03</td>\n",
       "    </tr>\n",
       "    <tr>\n",
       "      <th>16</th>\n",
       "      <td>67c7b9a1c1f2bd4c02d62a6e</td>\n",
       "      <td>USD</td>\n",
       "      <td>BRL</td>\n",
       "      <td>Dólar Americano/Real Brasileiro</td>\n",
       "      <td>5.7586</td>\n",
       "      <td>5.75800</td>\n",
       "      <td>0.004600</td>\n",
       "      <td>0.080000</td>\n",
       "      <td>5.75810</td>\n",
       "      <td>5.75910</td>\n",
       "      <td>2025-02-04 19:00:03</td>\n",
       "    </tr>\n",
       "  </tbody>\n",
       "</table>\n",
       "</div>"
      ],
      "text/plain": [
       "                         _id moeda_de moeda_para  \\\n",
       "0   67c7b9a1c1f2bd4c02d62a5b      USD        BRL   \n",
       "1   67c7b9a1c1f2bd4c02d62a5c      USD        BRL   \n",
       "2   67c7b9a1c1f2bd4c02d62a5d      USD        BRL   \n",
       "3   67c7b9a1c1f2bd4c02d62a5e      USD        BRL   \n",
       "4   67c7b9a1c1f2bd4c02d62a5f      USD        BRL   \n",
       "5   67c7b9a1c1f2bd4c02d62a60      USD        BRL   \n",
       "6   67c7b9a1c1f2bd4c02d62a61      USD        BRL   \n",
       "7   67c7b9a1c1f2bd4c02d62a62      USD        BRL   \n",
       "8   67c7b9a1c1f2bd4c02d62a63      USD        BRL   \n",
       "9   67c7b9a1c1f2bd4c02d62a64      USD        BRL   \n",
       "10  67c7b9a1c1f2bd4c02d62a65      USD        BRL   \n",
       "11  67c7b9a1c1f2bd4c02d62a66      USD        BRL   \n",
       "12  67c7b9a1c1f2bd4c02d62a67      USD        BRL   \n",
       "13  67c7b9a1c1f2bd4c02d62a68      USD        BRL   \n",
       "14  67c7b9a1c1f2bd4c02d62a69      USD        BRL   \n",
       "15  67c7b9a1c1f2bd4c02d62a6c      USD        BRL   \n",
       "16  67c7b9a1c1f2bd4c02d62a6e      USD        BRL   \n",
       "\n",
       "                          conversao  valor_maximo  valor_minimo  variacao  \\\n",
       "0   Dólar Americano/Real Brasileiro        5.7483       5.73607  0.000290   \n",
       "1   Dólar Americano/Real Brasileiro        5.7826       5.70780  0.049200   \n",
       "2   Dólar Americano/Real Brasileiro        5.7326       5.71317 -0.002500   \n",
       "3   Dólar Americano/Real Brasileiro        5.7355       5.69530  0.029100   \n",
       "4   Dólar Americano/Real Brasileiro        5.7355       5.69530  0.026600   \n",
       "5   Dólar Americano/Real Brasileiro        5.7214       5.68790 -0.016996   \n",
       "6   Dólar Americano/Real Brasileiro        5.7324       5.68420  0.032662   \n",
       "7   Dólar Americano/Real Brasileiro        5.7247       5.67690 -0.022900   \n",
       "8   Dólar Americano/Real Brasileiro        5.7135       5.71170  0.000500   \n",
       "9   Dólar Americano/Real Brasileiro        5.7707       5.69280 -0.062700   \n",
       "10  Dólar Americano/Real Brasileiro        5.7997       5.69100 -0.062200   \n",
       "11  Dólar Americano/Real Brasileiro        5.7673       5.76550  0.000400   \n",
       "12  Dólar Americano/Real Brasileiro        5.7654       5.75800  0.000500   \n",
       "13  Dólar Americano/Real Brasileiro        5.7659       5.76350  0.002400   \n",
       "14  Dólar Americano/Real Brasileiro        5.7877       5.78650  0.000300   \n",
       "15  Dólar Americano/Real Brasileiro        5.7622       5.76150  0.000500   \n",
       "16  Dólar Americano/Real Brasileiro        5.7586       5.75800  0.004600   \n",
       "\n",
       "    porcentagem_variacao  valor_compra  valor_venda     data_negociacao  \n",
       "0               0.005050       5.73989      5.74240 2025-02-25 20:59:12  \n",
       "1               0.858710       5.77870      5.78140 2025-02-24 20:59:39  \n",
       "2              -0.043615       5.72950      5.73080 2025-02-23 19:00:02  \n",
       "3               0.510270       5.73200      5.73400 2025-02-22 00:49:18  \n",
       "4               0.466430       5.72950      5.73080 2025-02-21 19:10:02  \n",
       "5              -0.297070       5.69757      5.71124 2025-02-20 20:59:39  \n",
       "6               0.574110       5.72060      5.72360 2025-02-19 20:58:35  \n",
       "7              -0.400840       5.68820      5.69120 2025-02-18 20:59:04  \n",
       "8               0.010000       5.71300      5.71400 2025-02-17 19:00:03  \n",
       "9              -1.040000       5.69500      5.69700 2025-02-14 17:58:59  \n",
       "10             -1.080000       5.70420      5.70520 2025-02-14 17:58:45  \n",
       "11              0.010000       5.76690      5.76770 2025-02-13 19:00:04  \n",
       "12              0.010000       5.76490      5.76590 2025-02-12 19:00:04  \n",
       "13              0.040000       5.76540      5.76640 2025-02-11 19:00:03  \n",
       "14              0.010000       5.78740      5.78800 2025-02-10 19:00:03  \n",
       "15              0.010000       5.76170      5.76260 2025-02-06 19:00:03  \n",
       "16              0.080000       5.75810      5.75910 2025-02-04 19:00:03  "
      ]
     },
     "metadata": {},
     "output_type": "display_data"
    }
   ],
   "source": [
    "# Retorna os documentos de cotações entre USD -> BRL cujo valor máximo de cotação seja menor que o especificado.\n",
    "try:\n",
    "    collection, client = conectar(uri=uri_mongo, database=os.getenv('DB_NAME'), collection=os.getenv('DB_COLLECTION'))\n",
    "    results = collection.find({\"$and\": [{\"moeda_de\" : \"USD\"}, {\"valor_maximo\" : {\"$lt\" : 5.8}}]})\n",
    "    data = pd.DataFrame(list(results))\n",
    "    display(data)\n",
    "except mongoerrors.PyMongoError as e:\n",
    "    print(f\"Erro ao realizar a consulta na base de dados: {e}\")\n",
    "except Exception as e:\n",
    "    print(f\"Ocorreu um erro: {e}\")\n",
    "finally:\n",
    "    client.close()"
   ]
  },
  {
   "cell_type": "code",
   "execution_count": 27,
   "metadata": {},
   "outputs": [
    {
     "data": {
      "application/vnd.microsoft.datawrangler.viewer.v0+json": {
       "columns": [
        {
         "name": "index",
         "rawType": "int64",
         "type": "integer"
        },
        {
         "name": "_id",
         "rawType": "object",
         "type": "unknown"
        },
        {
         "name": "moeda_de",
         "rawType": "object",
         "type": "string"
        },
        {
         "name": "moeda_para",
         "rawType": "object",
         "type": "string"
        },
        {
         "name": "conversao",
         "rawType": "object",
         "type": "string"
        },
        {
         "name": "valor_maximo",
         "rawType": "float64",
         "type": "float"
        },
        {
         "name": "valor_minimo",
         "rawType": "float64",
         "type": "float"
        },
        {
         "name": "variacao",
         "rawType": "float64",
         "type": "float"
        },
        {
         "name": "porcentagem_variacao",
         "rawType": "float64",
         "type": "float"
        },
        {
         "name": "valor_compra",
         "rawType": "float64",
         "type": "float"
        },
        {
         "name": "valor_venda",
         "rawType": "float64",
         "type": "float"
        },
        {
         "name": "data_negociacao",
         "rawType": "datetime64[ns]",
         "type": "datetime"
        }
       ],
       "conversionMethod": "pd.DataFrame",
       "ref": "09d44d20-b87b-4f68-96eb-d57f2bbbe35a",
       "rows": [
        [
         "0",
         "67c7b9a1c1f2bd4c02d62a55",
         "USD",
         "BRL",
         "Dólar Americano/Real Brasileiro",
         "5.90528",
         "5.90528",
         "-0.02032",
         "-0.3441",
         "5.88467",
         "5.88526",
         "2025-03-04 23:14:56"
        ],
        [
         "1",
         "67c7b9a1c1f2bd4c02d62a56",
         "USD",
         "BRL",
         "Dólar Americano/Real Brasileiro",
         "5.8852",
         "5.86414",
         "0.0",
         "0.0",
         "5.8852",
         "5.8872",
         "2025-03-02 20:54:03"
        ],
        [
         "2",
         "67c7b9a1c1f2bd4c02d62a57",
         "USD",
         "BRL",
         "Dólar Americano/Real Brasileiro",
         "5.90347",
         "5.8241",
         "0.063",
         "1.07875",
         "5.9031",
         "5.9044",
         "2025-03-01 20:42:03"
        ],
        [
         "3",
         "67c7b9a1c1f2bd4c02d62a58",
         "USD",
         "BRL",
         "Dólar Americano/Real Brasileiro",
         "5.9031",
         "5.8241",
         "0.063",
         "1.07875",
         "5.9031",
         "5.9044",
         "2025-02-28 18:58:22"
        ],
        [
         "4",
         "67c7b9a1c1f2bd4c02d62a59",
         "USD",
         "BRL",
         "Dólar Americano/Real Brasileiro",
         "5.84449",
         "5.8246",
         "0.0005",
         "0.00856",
         "5.8406",
         "5.8422",
         "2025-02-27 20:58:15"
        ],
        [
         "5",
         "67c7b9a1c1f2bd4c02d62a5a",
         "USD",
         "BRL",
         "Dólar Americano/Real Brasileiro",
         "5.80669",
         "5.79",
         "-0.0013",
         "-0.0224",
         "5.8022",
         "5.8052",
         "2025-02-26 20:59:24"
        ],
        [
         "6",
         "67c7ba7e7ede744995e2cff5",
         "EUR",
         "BRL",
         "Euro/Real Brasileiro",
         "6.2902",
         "6.24732",
         "0.011132",
         "0.1778",
         "6.26793",
         "6.27169",
         "2025-03-04 22:51:49"
        ],
        [
         "7",
         "67c7ba7e7ede744995e2cff6",
         "EUR",
         "BRL",
         "Euro/Real Brasileiro",
         "6.27655",
         "6.21774",
         "0.067271",
         "1.0816",
         "6.26026",
         "6.28658",
         "2025-03-04 20:59:52"
        ],
        [
         "8",
         "67c7ba7e7ede744995e2cff7",
         "EUR",
         "BRL",
         "Euro/Real Brasileiro",
         "6.32112",
         "6.1696",
         "-0.124",
         "-1.97098",
         "6.1673",
         "6.46452",
         "2025-03-03 20:59:15"
        ],
        [
         "9",
         "67c7ba7e7ede744995e2cff8",
         "EUR",
         "BRL",
         "Euro/Real Brasileiro",
         "6.1421",
         "6.10727",
         "-0.0025",
         "-0.04082",
         "6.1215",
         "6.124",
         "2025-03-02 20:54:05"
        ],
        [
         "10",
         "67c7ba7e7ede744995e2cff9",
         "EUR",
         "BRL",
         "Euro/Real Brasileiro",
         "6.1326",
         "6.0557",
         "0.0688",
         "1.13612",
         "6.1245",
         "6.127",
         "2025-02-28 19:32:09"
        ],
        [
         "11",
         "67c7ba7e7ede744995e2cffa",
         "EUR",
         "BRL",
         "Euro/Real Brasileiro",
         "6.07534",
         "6.0557",
         "0.0109",
         "0.18",
         "6.0666",
         "6.0746",
         "2025-02-27 20:58:34"
        ],
        [
         "12",
         "67c7ba7e7ede744995e2cffb",
         "EUR",
         "BRL",
         "Euro/Real Brasileiro",
         "6.09014",
         "6.07808",
         "-0.00297",
         "-0.0488",
         "6.08273",
         "6.09756",
         "2025-02-26 20:59:19"
        ]
       ],
       "shape": {
        "columns": 11,
        "rows": 13
       }
      },
      "text/html": [
       "<div>\n",
       "<style scoped>\n",
       "    .dataframe tbody tr th:only-of-type {\n",
       "        vertical-align: middle;\n",
       "    }\n",
       "\n",
       "    .dataframe tbody tr th {\n",
       "        vertical-align: top;\n",
       "    }\n",
       "\n",
       "    .dataframe thead th {\n",
       "        text-align: right;\n",
       "    }\n",
       "</style>\n",
       "<table border=\"1\" class=\"dataframe\">\n",
       "  <thead>\n",
       "    <tr style=\"text-align: right;\">\n",
       "      <th></th>\n",
       "      <th>_id</th>\n",
       "      <th>moeda_de</th>\n",
       "      <th>moeda_para</th>\n",
       "      <th>conversao</th>\n",
       "      <th>valor_maximo</th>\n",
       "      <th>valor_minimo</th>\n",
       "      <th>variacao</th>\n",
       "      <th>porcentagem_variacao</th>\n",
       "      <th>valor_compra</th>\n",
       "      <th>valor_venda</th>\n",
       "      <th>data_negociacao</th>\n",
       "    </tr>\n",
       "  </thead>\n",
       "  <tbody>\n",
       "    <tr>\n",
       "      <th>0</th>\n",
       "      <td>67c7b9a1c1f2bd4c02d62a55</td>\n",
       "      <td>USD</td>\n",
       "      <td>BRL</td>\n",
       "      <td>Dólar Americano/Real Brasileiro</td>\n",
       "      <td>5.90528</td>\n",
       "      <td>5.90528</td>\n",
       "      <td>-0.020320</td>\n",
       "      <td>-0.34410</td>\n",
       "      <td>5.88467</td>\n",
       "      <td>5.88526</td>\n",
       "      <td>2025-03-04 23:14:56</td>\n",
       "    </tr>\n",
       "    <tr>\n",
       "      <th>1</th>\n",
       "      <td>67c7b9a1c1f2bd4c02d62a56</td>\n",
       "      <td>USD</td>\n",
       "      <td>BRL</td>\n",
       "      <td>Dólar Americano/Real Brasileiro</td>\n",
       "      <td>5.88520</td>\n",
       "      <td>5.86414</td>\n",
       "      <td>0.000000</td>\n",
       "      <td>0.00000</td>\n",
       "      <td>5.88520</td>\n",
       "      <td>5.88720</td>\n",
       "      <td>2025-03-02 20:54:03</td>\n",
       "    </tr>\n",
       "    <tr>\n",
       "      <th>2</th>\n",
       "      <td>67c7b9a1c1f2bd4c02d62a57</td>\n",
       "      <td>USD</td>\n",
       "      <td>BRL</td>\n",
       "      <td>Dólar Americano/Real Brasileiro</td>\n",
       "      <td>5.90347</td>\n",
       "      <td>5.82410</td>\n",
       "      <td>0.063000</td>\n",
       "      <td>1.07875</td>\n",
       "      <td>5.90310</td>\n",
       "      <td>5.90440</td>\n",
       "      <td>2025-03-01 20:42:03</td>\n",
       "    </tr>\n",
       "    <tr>\n",
       "      <th>3</th>\n",
       "      <td>67c7b9a1c1f2bd4c02d62a58</td>\n",
       "      <td>USD</td>\n",
       "      <td>BRL</td>\n",
       "      <td>Dólar Americano/Real Brasileiro</td>\n",
       "      <td>5.90310</td>\n",
       "      <td>5.82410</td>\n",
       "      <td>0.063000</td>\n",
       "      <td>1.07875</td>\n",
       "      <td>5.90310</td>\n",
       "      <td>5.90440</td>\n",
       "      <td>2025-02-28 18:58:22</td>\n",
       "    </tr>\n",
       "    <tr>\n",
       "      <th>4</th>\n",
       "      <td>67c7b9a1c1f2bd4c02d62a59</td>\n",
       "      <td>USD</td>\n",
       "      <td>BRL</td>\n",
       "      <td>Dólar Americano/Real Brasileiro</td>\n",
       "      <td>5.84449</td>\n",
       "      <td>5.82460</td>\n",
       "      <td>0.000500</td>\n",
       "      <td>0.00856</td>\n",
       "      <td>5.84060</td>\n",
       "      <td>5.84220</td>\n",
       "      <td>2025-02-27 20:58:15</td>\n",
       "    </tr>\n",
       "    <tr>\n",
       "      <th>5</th>\n",
       "      <td>67c7b9a1c1f2bd4c02d62a5a</td>\n",
       "      <td>USD</td>\n",
       "      <td>BRL</td>\n",
       "      <td>Dólar Americano/Real Brasileiro</td>\n",
       "      <td>5.80669</td>\n",
       "      <td>5.79000</td>\n",
       "      <td>-0.001300</td>\n",
       "      <td>-0.02240</td>\n",
       "      <td>5.80220</td>\n",
       "      <td>5.80520</td>\n",
       "      <td>2025-02-26 20:59:24</td>\n",
       "    </tr>\n",
       "    <tr>\n",
       "      <th>6</th>\n",
       "      <td>67c7ba7e7ede744995e2cff5</td>\n",
       "      <td>EUR</td>\n",
       "      <td>BRL</td>\n",
       "      <td>Euro/Real Brasileiro</td>\n",
       "      <td>6.29020</td>\n",
       "      <td>6.24732</td>\n",
       "      <td>0.011132</td>\n",
       "      <td>0.17780</td>\n",
       "      <td>6.26793</td>\n",
       "      <td>6.27169</td>\n",
       "      <td>2025-03-04 22:51:49</td>\n",
       "    </tr>\n",
       "    <tr>\n",
       "      <th>7</th>\n",
       "      <td>67c7ba7e7ede744995e2cff6</td>\n",
       "      <td>EUR</td>\n",
       "      <td>BRL</td>\n",
       "      <td>Euro/Real Brasileiro</td>\n",
       "      <td>6.27655</td>\n",
       "      <td>6.21774</td>\n",
       "      <td>0.067271</td>\n",
       "      <td>1.08160</td>\n",
       "      <td>6.26026</td>\n",
       "      <td>6.28658</td>\n",
       "      <td>2025-03-04 20:59:52</td>\n",
       "    </tr>\n",
       "    <tr>\n",
       "      <th>8</th>\n",
       "      <td>67c7ba7e7ede744995e2cff7</td>\n",
       "      <td>EUR</td>\n",
       "      <td>BRL</td>\n",
       "      <td>Euro/Real Brasileiro</td>\n",
       "      <td>6.32112</td>\n",
       "      <td>6.16960</td>\n",
       "      <td>-0.124000</td>\n",
       "      <td>-1.97098</td>\n",
       "      <td>6.16730</td>\n",
       "      <td>6.46452</td>\n",
       "      <td>2025-03-03 20:59:15</td>\n",
       "    </tr>\n",
       "    <tr>\n",
       "      <th>9</th>\n",
       "      <td>67c7ba7e7ede744995e2cff8</td>\n",
       "      <td>EUR</td>\n",
       "      <td>BRL</td>\n",
       "      <td>Euro/Real Brasileiro</td>\n",
       "      <td>6.14210</td>\n",
       "      <td>6.10727</td>\n",
       "      <td>-0.002500</td>\n",
       "      <td>-0.04082</td>\n",
       "      <td>6.12150</td>\n",
       "      <td>6.12400</td>\n",
       "      <td>2025-03-02 20:54:05</td>\n",
       "    </tr>\n",
       "    <tr>\n",
       "      <th>10</th>\n",
       "      <td>67c7ba7e7ede744995e2cff9</td>\n",
       "      <td>EUR</td>\n",
       "      <td>BRL</td>\n",
       "      <td>Euro/Real Brasileiro</td>\n",
       "      <td>6.13260</td>\n",
       "      <td>6.05570</td>\n",
       "      <td>0.068800</td>\n",
       "      <td>1.13612</td>\n",
       "      <td>6.12450</td>\n",
       "      <td>6.12700</td>\n",
       "      <td>2025-02-28 19:32:09</td>\n",
       "    </tr>\n",
       "    <tr>\n",
       "      <th>11</th>\n",
       "      <td>67c7ba7e7ede744995e2cffa</td>\n",
       "      <td>EUR</td>\n",
       "      <td>BRL</td>\n",
       "      <td>Euro/Real Brasileiro</td>\n",
       "      <td>6.07534</td>\n",
       "      <td>6.05570</td>\n",
       "      <td>0.010900</td>\n",
       "      <td>0.18000</td>\n",
       "      <td>6.06660</td>\n",
       "      <td>6.07460</td>\n",
       "      <td>2025-02-27 20:58:34</td>\n",
       "    </tr>\n",
       "    <tr>\n",
       "      <th>12</th>\n",
       "      <td>67c7ba7e7ede744995e2cffb</td>\n",
       "      <td>EUR</td>\n",
       "      <td>BRL</td>\n",
       "      <td>Euro/Real Brasileiro</td>\n",
       "      <td>6.09014</td>\n",
       "      <td>6.07808</td>\n",
       "      <td>-0.002970</td>\n",
       "      <td>-0.04880</td>\n",
       "      <td>6.08273</td>\n",
       "      <td>6.09756</td>\n",
       "      <td>2025-02-26 20:59:19</td>\n",
       "    </tr>\n",
       "  </tbody>\n",
       "</table>\n",
       "</div>"
      ],
      "text/plain": [
       "                         _id moeda_de moeda_para  \\\n",
       "0   67c7b9a1c1f2bd4c02d62a55      USD        BRL   \n",
       "1   67c7b9a1c1f2bd4c02d62a56      USD        BRL   \n",
       "2   67c7b9a1c1f2bd4c02d62a57      USD        BRL   \n",
       "3   67c7b9a1c1f2bd4c02d62a58      USD        BRL   \n",
       "4   67c7b9a1c1f2bd4c02d62a59      USD        BRL   \n",
       "5   67c7b9a1c1f2bd4c02d62a5a      USD        BRL   \n",
       "6   67c7ba7e7ede744995e2cff5      EUR        BRL   \n",
       "7   67c7ba7e7ede744995e2cff6      EUR        BRL   \n",
       "8   67c7ba7e7ede744995e2cff7      EUR        BRL   \n",
       "9   67c7ba7e7ede744995e2cff8      EUR        BRL   \n",
       "10  67c7ba7e7ede744995e2cff9      EUR        BRL   \n",
       "11  67c7ba7e7ede744995e2cffa      EUR        BRL   \n",
       "12  67c7ba7e7ede744995e2cffb      EUR        BRL   \n",
       "\n",
       "                          conversao  valor_maximo  valor_minimo  variacao  \\\n",
       "0   Dólar Americano/Real Brasileiro       5.90528       5.90528 -0.020320   \n",
       "1   Dólar Americano/Real Brasileiro       5.88520       5.86414  0.000000   \n",
       "2   Dólar Americano/Real Brasileiro       5.90347       5.82410  0.063000   \n",
       "3   Dólar Americano/Real Brasileiro       5.90310       5.82410  0.063000   \n",
       "4   Dólar Americano/Real Brasileiro       5.84449       5.82460  0.000500   \n",
       "5   Dólar Americano/Real Brasileiro       5.80669       5.79000 -0.001300   \n",
       "6              Euro/Real Brasileiro       6.29020       6.24732  0.011132   \n",
       "7              Euro/Real Brasileiro       6.27655       6.21774  0.067271   \n",
       "8              Euro/Real Brasileiro       6.32112       6.16960 -0.124000   \n",
       "9              Euro/Real Brasileiro       6.14210       6.10727 -0.002500   \n",
       "10             Euro/Real Brasileiro       6.13260       6.05570  0.068800   \n",
       "11             Euro/Real Brasileiro       6.07534       6.05570  0.010900   \n",
       "12             Euro/Real Brasileiro       6.09014       6.07808 -0.002970   \n",
       "\n",
       "    porcentagem_variacao  valor_compra  valor_venda     data_negociacao  \n",
       "0               -0.34410       5.88467      5.88526 2025-03-04 23:14:56  \n",
       "1                0.00000       5.88520      5.88720 2025-03-02 20:54:03  \n",
       "2                1.07875       5.90310      5.90440 2025-03-01 20:42:03  \n",
       "3                1.07875       5.90310      5.90440 2025-02-28 18:58:22  \n",
       "4                0.00856       5.84060      5.84220 2025-02-27 20:58:15  \n",
       "5               -0.02240       5.80220      5.80520 2025-02-26 20:59:24  \n",
       "6                0.17780       6.26793      6.27169 2025-03-04 22:51:49  \n",
       "7                1.08160       6.26026      6.28658 2025-03-04 20:59:52  \n",
       "8               -1.97098       6.16730      6.46452 2025-03-03 20:59:15  \n",
       "9               -0.04082       6.12150      6.12400 2025-03-02 20:54:05  \n",
       "10               1.13612       6.12450      6.12700 2025-02-28 19:32:09  \n",
       "11               0.18000       6.06660      6.07460 2025-02-27 20:58:34  \n",
       "12              -0.04880       6.08273      6.09756 2025-02-26 20:59:19  "
      ]
     },
     "metadata": {},
     "output_type": "display_data"
    }
   ],
   "source": [
    "# Retorna os documentos de cotações entre USD -> BRL cuja data de negociação é maior ou igual a data especificada.\n",
    "try:\n",
    "    collection, client = conectar(uri=uri_mongo, database=os.getenv('DB_NAME'), collection=os.getenv('DB_COLLECTION'))\n",
    "    results = collection.find({\"data_negociacao\" : {\"$gte\" : datetime(2025,2,25,23,59,59)}})\n",
    "    data = pd.DataFrame(list(results))\n",
    "    display(data)\n",
    "except mongoerrors.PyMongoError as e:\n",
    "    print(f\"Erro ao realizar a consulta na base de dados: {e}\")\n",
    "except Exception as e:\n",
    "    print(f\"Ocorreu um erro: {e}\")\n",
    "finally:\n",
    "    client.close()"
   ]
  },
  {
   "cell_type": "code",
   "execution_count": 28,
   "metadata": {},
   "outputs": [
    {
     "data": {
      "application/vnd.microsoft.datawrangler.viewer.v0+json": {
       "columns": [
        {
         "name": "index",
         "rawType": "int64",
         "type": "integer"
        },
        {
         "name": "_id",
         "rawType": "object",
         "type": "unknown"
        },
        {
         "name": "moeda_de",
         "rawType": "object",
         "type": "string"
        },
        {
         "name": "moeda_para",
         "rawType": "object",
         "type": "string"
        },
        {
         "name": "conversao",
         "rawType": "object",
         "type": "string"
        },
        {
         "name": "valor_maximo",
         "rawType": "float64",
         "type": "float"
        },
        {
         "name": "valor_minimo",
         "rawType": "float64",
         "type": "float"
        },
        {
         "name": "variacao",
         "rawType": "float64",
         "type": "float"
        },
        {
         "name": "porcentagem_variacao",
         "rawType": "float64",
         "type": "float"
        },
        {
         "name": "valor_compra",
         "rawType": "float64",
         "type": "float"
        },
        {
         "name": "valor_venda",
         "rawType": "float64",
         "type": "float"
        },
        {
         "name": "data_negociacao",
         "rawType": "datetime64[ns]",
         "type": "datetime"
        }
       ],
       "conversionMethod": "pd.DataFrame",
       "ref": "8dda210a-be20-48dd-9cad-900a1411a363",
       "rows": [
        [
         "0",
         "67c7ba7e7ede744995e2cffb",
         "EUR",
         "BRL",
         "Euro/Real Brasileiro",
         "6.09014",
         "6.07808",
         "-0.00297",
         "-0.0488",
         "6.08273",
         "6.09756",
         "2025-02-26 20:59:19"
        ],
        [
         "1",
         "67c7b9a1c1f2bd4c02d62a5a",
         "USD",
         "BRL",
         "Dólar Americano/Real Brasileiro",
         "5.80669",
         "5.79",
         "-0.0013",
         "-0.0224",
         "5.8022",
         "5.8052",
         "2025-02-26 20:59:24"
        ],
        [
         "2",
         "67c7b9a1c1f2bd4c02d62a59",
         "USD",
         "BRL",
         "Dólar Americano/Real Brasileiro",
         "5.84449",
         "5.8246",
         "0.0005",
         "0.00856",
         "5.8406",
         "5.8422",
         "2025-02-27 20:58:15"
        ],
        [
         "3",
         "67c7ba7e7ede744995e2cffa",
         "EUR",
         "BRL",
         "Euro/Real Brasileiro",
         "6.07534",
         "6.0557",
         "0.0109",
         "0.18",
         "6.0666",
         "6.0746",
         "2025-02-27 20:58:34"
        ],
        [
         "4",
         "67c7b9a1c1f2bd4c02d62a58",
         "USD",
         "BRL",
         "Dólar Americano/Real Brasileiro",
         "5.9031",
         "5.8241",
         "0.063",
         "1.07875",
         "5.9031",
         "5.9044",
         "2025-02-28 18:58:22"
        ],
        [
         "5",
         "67c7ba7e7ede744995e2cff9",
         "EUR",
         "BRL",
         "Euro/Real Brasileiro",
         "6.1326",
         "6.0557",
         "0.0688",
         "1.13612",
         "6.1245",
         "6.127",
         "2025-02-28 19:32:09"
        ]
       ],
       "shape": {
        "columns": 11,
        "rows": 6
       }
      },
      "text/html": [
       "<div>\n",
       "<style scoped>\n",
       "    .dataframe tbody tr th:only-of-type {\n",
       "        vertical-align: middle;\n",
       "    }\n",
       "\n",
       "    .dataframe tbody tr th {\n",
       "        vertical-align: top;\n",
       "    }\n",
       "\n",
       "    .dataframe thead th {\n",
       "        text-align: right;\n",
       "    }\n",
       "</style>\n",
       "<table border=\"1\" class=\"dataframe\">\n",
       "  <thead>\n",
       "    <tr style=\"text-align: right;\">\n",
       "      <th></th>\n",
       "      <th>_id</th>\n",
       "      <th>moeda_de</th>\n",
       "      <th>moeda_para</th>\n",
       "      <th>conversao</th>\n",
       "      <th>valor_maximo</th>\n",
       "      <th>valor_minimo</th>\n",
       "      <th>variacao</th>\n",
       "      <th>porcentagem_variacao</th>\n",
       "      <th>valor_compra</th>\n",
       "      <th>valor_venda</th>\n",
       "      <th>data_negociacao</th>\n",
       "    </tr>\n",
       "  </thead>\n",
       "  <tbody>\n",
       "    <tr>\n",
       "      <th>0</th>\n",
       "      <td>67c7ba7e7ede744995e2cffb</td>\n",
       "      <td>EUR</td>\n",
       "      <td>BRL</td>\n",
       "      <td>Euro/Real Brasileiro</td>\n",
       "      <td>6.09014</td>\n",
       "      <td>6.07808</td>\n",
       "      <td>-0.00297</td>\n",
       "      <td>-0.04880</td>\n",
       "      <td>6.08273</td>\n",
       "      <td>6.09756</td>\n",
       "      <td>2025-02-26 20:59:19</td>\n",
       "    </tr>\n",
       "    <tr>\n",
       "      <th>1</th>\n",
       "      <td>67c7b9a1c1f2bd4c02d62a5a</td>\n",
       "      <td>USD</td>\n",
       "      <td>BRL</td>\n",
       "      <td>Dólar Americano/Real Brasileiro</td>\n",
       "      <td>5.80669</td>\n",
       "      <td>5.79000</td>\n",
       "      <td>-0.00130</td>\n",
       "      <td>-0.02240</td>\n",
       "      <td>5.80220</td>\n",
       "      <td>5.80520</td>\n",
       "      <td>2025-02-26 20:59:24</td>\n",
       "    </tr>\n",
       "    <tr>\n",
       "      <th>2</th>\n",
       "      <td>67c7b9a1c1f2bd4c02d62a59</td>\n",
       "      <td>USD</td>\n",
       "      <td>BRL</td>\n",
       "      <td>Dólar Americano/Real Brasileiro</td>\n",
       "      <td>5.84449</td>\n",
       "      <td>5.82460</td>\n",
       "      <td>0.00050</td>\n",
       "      <td>0.00856</td>\n",
       "      <td>5.84060</td>\n",
       "      <td>5.84220</td>\n",
       "      <td>2025-02-27 20:58:15</td>\n",
       "    </tr>\n",
       "    <tr>\n",
       "      <th>3</th>\n",
       "      <td>67c7ba7e7ede744995e2cffa</td>\n",
       "      <td>EUR</td>\n",
       "      <td>BRL</td>\n",
       "      <td>Euro/Real Brasileiro</td>\n",
       "      <td>6.07534</td>\n",
       "      <td>6.05570</td>\n",
       "      <td>0.01090</td>\n",
       "      <td>0.18000</td>\n",
       "      <td>6.06660</td>\n",
       "      <td>6.07460</td>\n",
       "      <td>2025-02-27 20:58:34</td>\n",
       "    </tr>\n",
       "    <tr>\n",
       "      <th>4</th>\n",
       "      <td>67c7b9a1c1f2bd4c02d62a58</td>\n",
       "      <td>USD</td>\n",
       "      <td>BRL</td>\n",
       "      <td>Dólar Americano/Real Brasileiro</td>\n",
       "      <td>5.90310</td>\n",
       "      <td>5.82410</td>\n",
       "      <td>0.06300</td>\n",
       "      <td>1.07875</td>\n",
       "      <td>5.90310</td>\n",
       "      <td>5.90440</td>\n",
       "      <td>2025-02-28 18:58:22</td>\n",
       "    </tr>\n",
       "    <tr>\n",
       "      <th>5</th>\n",
       "      <td>67c7ba7e7ede744995e2cff9</td>\n",
       "      <td>EUR</td>\n",
       "      <td>BRL</td>\n",
       "      <td>Euro/Real Brasileiro</td>\n",
       "      <td>6.13260</td>\n",
       "      <td>6.05570</td>\n",
       "      <td>0.06880</td>\n",
       "      <td>1.13612</td>\n",
       "      <td>6.12450</td>\n",
       "      <td>6.12700</td>\n",
       "      <td>2025-02-28 19:32:09</td>\n",
       "    </tr>\n",
       "  </tbody>\n",
       "</table>\n",
       "</div>"
      ],
      "text/plain": [
       "                        _id moeda_de moeda_para  \\\n",
       "0  67c7ba7e7ede744995e2cffb      EUR        BRL   \n",
       "1  67c7b9a1c1f2bd4c02d62a5a      USD        BRL   \n",
       "2  67c7b9a1c1f2bd4c02d62a59      USD        BRL   \n",
       "3  67c7ba7e7ede744995e2cffa      EUR        BRL   \n",
       "4  67c7b9a1c1f2bd4c02d62a58      USD        BRL   \n",
       "5  67c7ba7e7ede744995e2cff9      EUR        BRL   \n",
       "\n",
       "                         conversao  valor_maximo  valor_minimo  variacao  \\\n",
       "0             Euro/Real Brasileiro       6.09014       6.07808  -0.00297   \n",
       "1  Dólar Americano/Real Brasileiro       5.80669       5.79000  -0.00130   \n",
       "2  Dólar Americano/Real Brasileiro       5.84449       5.82460   0.00050   \n",
       "3             Euro/Real Brasileiro       6.07534       6.05570   0.01090   \n",
       "4  Dólar Americano/Real Brasileiro       5.90310       5.82410   0.06300   \n",
       "5             Euro/Real Brasileiro       6.13260       6.05570   0.06880   \n",
       "\n",
       "   porcentagem_variacao  valor_compra  valor_venda     data_negociacao  \n",
       "0              -0.04880       6.08273      6.09756 2025-02-26 20:59:19  \n",
       "1              -0.02240       5.80220      5.80520 2025-02-26 20:59:24  \n",
       "2               0.00856       5.84060      5.84220 2025-02-27 20:58:15  \n",
       "3               0.18000       6.06660      6.07460 2025-02-27 20:58:34  \n",
       "4               1.07875       5.90310      5.90440 2025-02-28 18:58:22  \n",
       "5               1.13612       6.12450      6.12700 2025-02-28 19:32:09  "
      ]
     },
     "metadata": {},
     "output_type": "display_data"
    }
   ],
   "source": [
    "# Retorna os documentos de cotações entre USD -> BRL cuja data de negociação esta entre a data inicial e final especificada.\n",
    "try:\n",
    "    collection, client = conectar(uri=uri_mongo, database=os.getenv('DB_NAME'), collection=os.getenv('DB_COLLECTION'))\n",
    "    results = collection.find({\"$and\" : [{\"data_negociacao\" : {\"$gte\" : datetime(2025,2,25,23,59,59)}}\n",
    "                                         , {\"data_negociacao\" : {\"$lte\" : datetime(2025,2,28,23,59,59)}}]}).sort(\"data_negociacao\")\n",
    "    data = pd.DataFrame(list(results))\n",
    "    display(data)\n",
    "except mongoerrors.PyMongoError as e:\n",
    "    print(f\"Erro ao realizar a consulta na base de dados: {e}\")\n",
    "except Exception as e:\n",
    "    print(f\"Ocorreu um erro: {e}\")\n",
    "finally:\n",
    "    client.close()"
   ]
  },
  {
   "cell_type": "code",
   "execution_count": 29,
   "metadata": {},
   "outputs": [
    {
     "data": {
      "application/vnd.microsoft.datawrangler.viewer.v0+json": {
       "columns": [
        {
         "name": "index",
         "rawType": "int64",
         "type": "integer"
        },
        {
         "name": "_id",
         "rawType": "object",
         "type": "unknown"
        },
        {
         "name": "moeda_de",
         "rawType": "object",
         "type": "string"
        },
        {
         "name": "moeda_para",
         "rawType": "object",
         "type": "string"
        },
        {
         "name": "conversao",
         "rawType": "object",
         "type": "string"
        },
        {
         "name": "valor_maximo",
         "rawType": "float64",
         "type": "float"
        },
        {
         "name": "valor_minimo",
         "rawType": "float64",
         "type": "float"
        },
        {
         "name": "variacao",
         "rawType": "float64",
         "type": "float"
        },
        {
         "name": "porcentagem_variacao",
         "rawType": "float64",
         "type": "float"
        },
        {
         "name": "valor_compra",
         "rawType": "float64",
         "type": "float"
        },
        {
         "name": "valor_venda",
         "rawType": "float64",
         "type": "float"
        },
        {
         "name": "data_negociacao",
         "rawType": "datetime64[ns]",
         "type": "datetime"
        }
       ],
       "conversionMethod": "pd.DataFrame",
       "ref": "62a0f7e7-3976-4cbf-958b-c27090ba266d",
       "rows": [
        [
         "0",
         "67c7b9a1c1f2bd4c02d62a55",
         "USD",
         "BRL",
         "Dólar Americano/Real Brasileiro",
         "5.90528",
         "5.90528",
         "-0.02032",
         "-0.3441",
         "5.88467",
         "5.88526",
         "2025-03-04 23:14:56"
        ],
        [
         "1",
         "67c7b9a1c1f2bd4c02d62a56",
         "USD",
         "BRL",
         "Dólar Americano/Real Brasileiro",
         "5.8852",
         "5.86414",
         "0.0",
         "0.0",
         "5.8852",
         "5.8872",
         "2025-03-02 20:54:03"
        ],
        [
         "2",
         "67c7b9a1c1f2bd4c02d62a57",
         "USD",
         "BRL",
         "Dólar Americano/Real Brasileiro",
         "5.90347",
         "5.8241",
         "0.063",
         "1.07875",
         "5.9031",
         "5.9044",
         "2025-03-01 20:42:03"
        ],
        [
         "3",
         "67c7b9a1c1f2bd4c02d62a58",
         "USD",
         "BRL",
         "Dólar Americano/Real Brasileiro",
         "5.9031",
         "5.8241",
         "0.063",
         "1.07875",
         "5.9031",
         "5.9044",
         "2025-02-28 18:58:22"
        ],
        [
         "4",
         "67c7b9a1c1f2bd4c02d62a59",
         "USD",
         "BRL",
         "Dólar Americano/Real Brasileiro",
         "5.84449",
         "5.8246",
         "0.0005",
         "0.00856",
         "5.8406",
         "5.8422",
         "2025-02-27 20:58:15"
        ],
        [
         "5",
         "67c7b9a1c1f2bd4c02d62a5a",
         "USD",
         "BRL",
         "Dólar Americano/Real Brasileiro",
         "5.80669",
         "5.79",
         "-0.0013",
         "-0.0224",
         "5.8022",
         "5.8052",
         "2025-02-26 20:59:24"
        ],
        [
         "6",
         "67c7b9a1c1f2bd4c02d62a5b",
         "USD",
         "BRL",
         "Dólar Americano/Real Brasileiro",
         "5.7483",
         "5.73607",
         "0.00029",
         "0.00505",
         "5.73989",
         "5.7424",
         "2025-02-25 20:59:12"
        ],
        [
         "7",
         "67c7b9a1c1f2bd4c02d62a5c",
         "USD",
         "BRL",
         "Dólar Americano/Real Brasileiro",
         "5.7826",
         "5.7078",
         "0.0492",
         "0.85871",
         "5.7787",
         "5.7814",
         "2025-02-24 20:59:39"
        ],
        [
         "8",
         "67c7b9a1c1f2bd4c02d62a5d",
         "USD",
         "BRL",
         "Dólar Americano/Real Brasileiro",
         "5.7326",
         "5.71317",
         "-0.0025",
         "-0.0436148",
         "5.7295",
         "5.7308",
         "2025-02-23 19:00:02"
        ],
        [
         "9",
         "67c7b9a1c1f2bd4c02d62a5e",
         "USD",
         "BRL",
         "Dólar Americano/Real Brasileiro",
         "5.7355",
         "5.6953",
         "0.0291",
         "0.51027",
         "5.732",
         "5.734",
         "2025-02-22 00:49:18"
        ],
        [
         "10",
         "67c7b9a1c1f2bd4c02d62a5f",
         "USD",
         "BRL",
         "Dólar Americano/Real Brasileiro",
         "5.7355",
         "5.6953",
         "0.0266",
         "0.46643",
         "5.7295",
         "5.7308",
         "2025-02-21 19:10:02"
        ],
        [
         "11",
         "67c7b9a1c1f2bd4c02d62a60",
         "USD",
         "BRL",
         "Dólar Americano/Real Brasileiro",
         "5.7214",
         "5.6879",
         "-0.0169964",
         "-0.29707",
         "5.69757",
         "5.71124",
         "2025-02-20 20:59:39"
        ],
        [
         "12",
         "67c7b9a1c1f2bd4c02d62a61",
         "USD",
         "BRL",
         "Dólar Americano/Real Brasileiro",
         "5.7324",
         "5.6842",
         "0.0326624",
         "0.57411",
         "5.7206",
         "5.7236",
         "2025-02-19 20:58:35"
        ],
        [
         "13",
         "67c7b9a1c1f2bd4c02d62a62",
         "USD",
         "BRL",
         "Dólar Americano/Real Brasileiro",
         "5.7247",
         "5.6769",
         "-0.0229",
         "-0.40084",
         "5.6882",
         "5.6912",
         "2025-02-18 20:59:04"
        ],
        [
         "14",
         "67c7b9a1c1f2bd4c02d62a63",
         "USD",
         "BRL",
         "Dólar Americano/Real Brasileiro",
         "5.7135",
         "5.7117",
         "0.0005",
         "0.01",
         "5.713",
         "5.714",
         "2025-02-17 19:00:03"
        ],
        [
         "15",
         "67c7b9a1c1f2bd4c02d62a64",
         "USD",
         "BRL",
         "Dólar Americano/Real Brasileiro",
         "5.7707",
         "5.6928",
         "-0.0627",
         "-1.04",
         "5.695",
         "5.697",
         "2025-02-14 17:58:59"
        ],
        [
         "16",
         "67c7b9a1c1f2bd4c02d62a65",
         "USD",
         "BRL",
         "Dólar Americano/Real Brasileiro",
         "5.7997",
         "5.691",
         "-0.0622",
         "-1.08",
         "5.7042",
         "5.7052",
         "2025-02-14 17:58:45"
        ],
        [
         "17",
         "67c7b9a1c1f2bd4c02d62a66",
         "USD",
         "BRL",
         "Dólar Americano/Real Brasileiro",
         "5.7673",
         "5.7655",
         "0.0004",
         "0.01",
         "5.7669",
         "5.7677",
         "2025-02-13 19:00:04"
        ],
        [
         "18",
         "67c7b9a1c1f2bd4c02d62a67",
         "USD",
         "BRL",
         "Dólar Americano/Real Brasileiro",
         "5.7654",
         "5.758",
         "0.0005",
         "0.01",
         "5.7649",
         "5.7659",
         "2025-02-12 19:00:04"
        ],
        [
         "19",
         "67c7b9a1c1f2bd4c02d62a68",
         "USD",
         "BRL",
         "Dólar Americano/Real Brasileiro",
         "5.7659",
         "5.7635",
         "0.0024",
         "0.04",
         "5.7654",
         "5.7664",
         "2025-02-11 19:00:03"
        ],
        [
         "20",
         "67c7b9a1c1f2bd4c02d62a69",
         "USD",
         "BRL",
         "Dólar Americano/Real Brasileiro",
         "5.7877",
         "5.7865",
         "0.0003",
         "0.01",
         "5.7874",
         "5.788",
         "2025-02-10 19:00:03"
        ],
        [
         "21",
         "67c7b9a1c1f2bd4c02d62a6a",
         "USD",
         "BRL",
         "Dólar Americano/Real Brasileiro",
         "5.8131",
         "5.7349",
         "0.0441",
         "0.69",
         "5.807",
         "5.81",
         "2025-02-07 17:58:59"
        ],
        [
         "22",
         "67c7b9a1c1f2bd4c02d62a6b",
         "USD",
         "BRL",
         "Dólar Americano/Real Brasileiro",
         "5.8246",
         "5.734",
         "0.0445",
         "0.77",
         "5.8058",
         "5.8066",
         "2025-02-07 17:58:21"
        ],
        [
         "23",
         "67c7b9a1c1f2bd4c02d62a6c",
         "USD",
         "BRL",
         "Dólar Americano/Real Brasileiro",
         "5.7622",
         "5.7615",
         "0.0005",
         "0.01",
         "5.7617",
         "5.7626",
         "2025-02-06 19:00:03"
        ],
        [
         "24",
         "67c7b9a1c1f2bd4c02d62a6d",
         "USD",
         "BRL",
         "Dólar Americano/Real Brasileiro",
         "5.8044",
         "5.804",
         "0.0071",
         "0.12",
         "5.8039",
         "5.8049",
         "2025-02-05 19:00:03"
        ],
        [
         "25",
         "67c7b9a1c1f2bd4c02d62a6e",
         "USD",
         "BRL",
         "Dólar Americano/Real Brasileiro",
         "5.7586",
         "5.758",
         "0.0046",
         "0.08",
         "5.7581",
         "5.7591",
         "2025-02-04 19:00:03"
        ],
        [
         "26",
         "67c7b9a1c1f2bd4c02d62a6f",
         "USD",
         "BRL",
         "Dólar Americano/Real Brasileiro",
         "5.8069",
         "5.8055",
         "0.0003",
         "0.01",
         "5.8066",
         "5.8072",
         "2025-02-03 19:00:04"
        ],
        [
         "27",
         "67c7b9a1c1f2bd4c02d62a70",
         "USD",
         "BRL",
         "Dólar Americano/Real Brasileiro",
         "5.844",
         "5.841",
         "0.003",
         "0.05",
         "5.8435",
         "5.8445",
         "2025-02-02 19:02:50"
        ],
        [
         "28",
         "67c7b9a1c1f2bd4c02d62a71",
         "USD",
         "BRL",
         "Dólar Americano/Real Brasileiro",
         "5.9332",
         "5.806",
         "-0.0295",
         "-0.5",
         "5.843",
         "5.846",
         "2025-01-31 17:58:56"
        ]
       ],
       "shape": {
        "columns": 11,
        "rows": 29
       }
      },
      "text/html": [
       "<div>\n",
       "<style scoped>\n",
       "    .dataframe tbody tr th:only-of-type {\n",
       "        vertical-align: middle;\n",
       "    }\n",
       "\n",
       "    .dataframe tbody tr th {\n",
       "        vertical-align: top;\n",
       "    }\n",
       "\n",
       "    .dataframe thead th {\n",
       "        text-align: right;\n",
       "    }\n",
       "</style>\n",
       "<table border=\"1\" class=\"dataframe\">\n",
       "  <thead>\n",
       "    <tr style=\"text-align: right;\">\n",
       "      <th></th>\n",
       "      <th>_id</th>\n",
       "      <th>moeda_de</th>\n",
       "      <th>moeda_para</th>\n",
       "      <th>conversao</th>\n",
       "      <th>valor_maximo</th>\n",
       "      <th>valor_minimo</th>\n",
       "      <th>variacao</th>\n",
       "      <th>porcentagem_variacao</th>\n",
       "      <th>valor_compra</th>\n",
       "      <th>valor_venda</th>\n",
       "      <th>data_negociacao</th>\n",
       "    </tr>\n",
       "  </thead>\n",
       "  <tbody>\n",
       "    <tr>\n",
       "      <th>0</th>\n",
       "      <td>67c7b9a1c1f2bd4c02d62a55</td>\n",
       "      <td>USD</td>\n",
       "      <td>BRL</td>\n",
       "      <td>Dólar Americano/Real Brasileiro</td>\n",
       "      <td>5.90528</td>\n",
       "      <td>5.90528</td>\n",
       "      <td>-0.020320</td>\n",
       "      <td>-0.344100</td>\n",
       "      <td>5.88467</td>\n",
       "      <td>5.88526</td>\n",
       "      <td>2025-03-04 23:14:56</td>\n",
       "    </tr>\n",
       "    <tr>\n",
       "      <th>1</th>\n",
       "      <td>67c7b9a1c1f2bd4c02d62a56</td>\n",
       "      <td>USD</td>\n",
       "      <td>BRL</td>\n",
       "      <td>Dólar Americano/Real Brasileiro</td>\n",
       "      <td>5.88520</td>\n",
       "      <td>5.86414</td>\n",
       "      <td>0.000000</td>\n",
       "      <td>0.000000</td>\n",
       "      <td>5.88520</td>\n",
       "      <td>5.88720</td>\n",
       "      <td>2025-03-02 20:54:03</td>\n",
       "    </tr>\n",
       "    <tr>\n",
       "      <th>2</th>\n",
       "      <td>67c7b9a1c1f2bd4c02d62a57</td>\n",
       "      <td>USD</td>\n",
       "      <td>BRL</td>\n",
       "      <td>Dólar Americano/Real Brasileiro</td>\n",
       "      <td>5.90347</td>\n",
       "      <td>5.82410</td>\n",
       "      <td>0.063000</td>\n",
       "      <td>1.078750</td>\n",
       "      <td>5.90310</td>\n",
       "      <td>5.90440</td>\n",
       "      <td>2025-03-01 20:42:03</td>\n",
       "    </tr>\n",
       "    <tr>\n",
       "      <th>3</th>\n",
       "      <td>67c7b9a1c1f2bd4c02d62a58</td>\n",
       "      <td>USD</td>\n",
       "      <td>BRL</td>\n",
       "      <td>Dólar Americano/Real Brasileiro</td>\n",
       "      <td>5.90310</td>\n",
       "      <td>5.82410</td>\n",
       "      <td>0.063000</td>\n",
       "      <td>1.078750</td>\n",
       "      <td>5.90310</td>\n",
       "      <td>5.90440</td>\n",
       "      <td>2025-02-28 18:58:22</td>\n",
       "    </tr>\n",
       "    <tr>\n",
       "      <th>4</th>\n",
       "      <td>67c7b9a1c1f2bd4c02d62a59</td>\n",
       "      <td>USD</td>\n",
       "      <td>BRL</td>\n",
       "      <td>Dólar Americano/Real Brasileiro</td>\n",
       "      <td>5.84449</td>\n",
       "      <td>5.82460</td>\n",
       "      <td>0.000500</td>\n",
       "      <td>0.008560</td>\n",
       "      <td>5.84060</td>\n",
       "      <td>5.84220</td>\n",
       "      <td>2025-02-27 20:58:15</td>\n",
       "    </tr>\n",
       "    <tr>\n",
       "      <th>5</th>\n",
       "      <td>67c7b9a1c1f2bd4c02d62a5a</td>\n",
       "      <td>USD</td>\n",
       "      <td>BRL</td>\n",
       "      <td>Dólar Americano/Real Brasileiro</td>\n",
       "      <td>5.80669</td>\n",
       "      <td>5.79000</td>\n",
       "      <td>-0.001300</td>\n",
       "      <td>-0.022400</td>\n",
       "      <td>5.80220</td>\n",
       "      <td>5.80520</td>\n",
       "      <td>2025-02-26 20:59:24</td>\n",
       "    </tr>\n",
       "    <tr>\n",
       "      <th>6</th>\n",
       "      <td>67c7b9a1c1f2bd4c02d62a5b</td>\n",
       "      <td>USD</td>\n",
       "      <td>BRL</td>\n",
       "      <td>Dólar Americano/Real Brasileiro</td>\n",
       "      <td>5.74830</td>\n",
       "      <td>5.73607</td>\n",
       "      <td>0.000290</td>\n",
       "      <td>0.005050</td>\n",
       "      <td>5.73989</td>\n",
       "      <td>5.74240</td>\n",
       "      <td>2025-02-25 20:59:12</td>\n",
       "    </tr>\n",
       "    <tr>\n",
       "      <th>7</th>\n",
       "      <td>67c7b9a1c1f2bd4c02d62a5c</td>\n",
       "      <td>USD</td>\n",
       "      <td>BRL</td>\n",
       "      <td>Dólar Americano/Real Brasileiro</td>\n",
       "      <td>5.78260</td>\n",
       "      <td>5.70780</td>\n",
       "      <td>0.049200</td>\n",
       "      <td>0.858710</td>\n",
       "      <td>5.77870</td>\n",
       "      <td>5.78140</td>\n",
       "      <td>2025-02-24 20:59:39</td>\n",
       "    </tr>\n",
       "    <tr>\n",
       "      <th>8</th>\n",
       "      <td>67c7b9a1c1f2bd4c02d62a5d</td>\n",
       "      <td>USD</td>\n",
       "      <td>BRL</td>\n",
       "      <td>Dólar Americano/Real Brasileiro</td>\n",
       "      <td>5.73260</td>\n",
       "      <td>5.71317</td>\n",
       "      <td>-0.002500</td>\n",
       "      <td>-0.043615</td>\n",
       "      <td>5.72950</td>\n",
       "      <td>5.73080</td>\n",
       "      <td>2025-02-23 19:00:02</td>\n",
       "    </tr>\n",
       "    <tr>\n",
       "      <th>9</th>\n",
       "      <td>67c7b9a1c1f2bd4c02d62a5e</td>\n",
       "      <td>USD</td>\n",
       "      <td>BRL</td>\n",
       "      <td>Dólar Americano/Real Brasileiro</td>\n",
       "      <td>5.73550</td>\n",
       "      <td>5.69530</td>\n",
       "      <td>0.029100</td>\n",
       "      <td>0.510270</td>\n",
       "      <td>5.73200</td>\n",
       "      <td>5.73400</td>\n",
       "      <td>2025-02-22 00:49:18</td>\n",
       "    </tr>\n",
       "    <tr>\n",
       "      <th>10</th>\n",
       "      <td>67c7b9a1c1f2bd4c02d62a5f</td>\n",
       "      <td>USD</td>\n",
       "      <td>BRL</td>\n",
       "      <td>Dólar Americano/Real Brasileiro</td>\n",
       "      <td>5.73550</td>\n",
       "      <td>5.69530</td>\n",
       "      <td>0.026600</td>\n",
       "      <td>0.466430</td>\n",
       "      <td>5.72950</td>\n",
       "      <td>5.73080</td>\n",
       "      <td>2025-02-21 19:10:02</td>\n",
       "    </tr>\n",
       "    <tr>\n",
       "      <th>11</th>\n",
       "      <td>67c7b9a1c1f2bd4c02d62a60</td>\n",
       "      <td>USD</td>\n",
       "      <td>BRL</td>\n",
       "      <td>Dólar Americano/Real Brasileiro</td>\n",
       "      <td>5.72140</td>\n",
       "      <td>5.68790</td>\n",
       "      <td>-0.016996</td>\n",
       "      <td>-0.297070</td>\n",
       "      <td>5.69757</td>\n",
       "      <td>5.71124</td>\n",
       "      <td>2025-02-20 20:59:39</td>\n",
       "    </tr>\n",
       "    <tr>\n",
       "      <th>12</th>\n",
       "      <td>67c7b9a1c1f2bd4c02d62a61</td>\n",
       "      <td>USD</td>\n",
       "      <td>BRL</td>\n",
       "      <td>Dólar Americano/Real Brasileiro</td>\n",
       "      <td>5.73240</td>\n",
       "      <td>5.68420</td>\n",
       "      <td>0.032662</td>\n",
       "      <td>0.574110</td>\n",
       "      <td>5.72060</td>\n",
       "      <td>5.72360</td>\n",
       "      <td>2025-02-19 20:58:35</td>\n",
       "    </tr>\n",
       "    <tr>\n",
       "      <th>13</th>\n",
       "      <td>67c7b9a1c1f2bd4c02d62a62</td>\n",
       "      <td>USD</td>\n",
       "      <td>BRL</td>\n",
       "      <td>Dólar Americano/Real Brasileiro</td>\n",
       "      <td>5.72470</td>\n",
       "      <td>5.67690</td>\n",
       "      <td>-0.022900</td>\n",
       "      <td>-0.400840</td>\n",
       "      <td>5.68820</td>\n",
       "      <td>5.69120</td>\n",
       "      <td>2025-02-18 20:59:04</td>\n",
       "    </tr>\n",
       "    <tr>\n",
       "      <th>14</th>\n",
       "      <td>67c7b9a1c1f2bd4c02d62a63</td>\n",
       "      <td>USD</td>\n",
       "      <td>BRL</td>\n",
       "      <td>Dólar Americano/Real Brasileiro</td>\n",
       "      <td>5.71350</td>\n",
       "      <td>5.71170</td>\n",
       "      <td>0.000500</td>\n",
       "      <td>0.010000</td>\n",
       "      <td>5.71300</td>\n",
       "      <td>5.71400</td>\n",
       "      <td>2025-02-17 19:00:03</td>\n",
       "    </tr>\n",
       "    <tr>\n",
       "      <th>15</th>\n",
       "      <td>67c7b9a1c1f2bd4c02d62a64</td>\n",
       "      <td>USD</td>\n",
       "      <td>BRL</td>\n",
       "      <td>Dólar Americano/Real Brasileiro</td>\n",
       "      <td>5.77070</td>\n",
       "      <td>5.69280</td>\n",
       "      <td>-0.062700</td>\n",
       "      <td>-1.040000</td>\n",
       "      <td>5.69500</td>\n",
       "      <td>5.69700</td>\n",
       "      <td>2025-02-14 17:58:59</td>\n",
       "    </tr>\n",
       "    <tr>\n",
       "      <th>16</th>\n",
       "      <td>67c7b9a1c1f2bd4c02d62a65</td>\n",
       "      <td>USD</td>\n",
       "      <td>BRL</td>\n",
       "      <td>Dólar Americano/Real Brasileiro</td>\n",
       "      <td>5.79970</td>\n",
       "      <td>5.69100</td>\n",
       "      <td>-0.062200</td>\n",
       "      <td>-1.080000</td>\n",
       "      <td>5.70420</td>\n",
       "      <td>5.70520</td>\n",
       "      <td>2025-02-14 17:58:45</td>\n",
       "    </tr>\n",
       "    <tr>\n",
       "      <th>17</th>\n",
       "      <td>67c7b9a1c1f2bd4c02d62a66</td>\n",
       "      <td>USD</td>\n",
       "      <td>BRL</td>\n",
       "      <td>Dólar Americano/Real Brasileiro</td>\n",
       "      <td>5.76730</td>\n",
       "      <td>5.76550</td>\n",
       "      <td>0.000400</td>\n",
       "      <td>0.010000</td>\n",
       "      <td>5.76690</td>\n",
       "      <td>5.76770</td>\n",
       "      <td>2025-02-13 19:00:04</td>\n",
       "    </tr>\n",
       "    <tr>\n",
       "      <th>18</th>\n",
       "      <td>67c7b9a1c1f2bd4c02d62a67</td>\n",
       "      <td>USD</td>\n",
       "      <td>BRL</td>\n",
       "      <td>Dólar Americano/Real Brasileiro</td>\n",
       "      <td>5.76540</td>\n",
       "      <td>5.75800</td>\n",
       "      <td>0.000500</td>\n",
       "      <td>0.010000</td>\n",
       "      <td>5.76490</td>\n",
       "      <td>5.76590</td>\n",
       "      <td>2025-02-12 19:00:04</td>\n",
       "    </tr>\n",
       "    <tr>\n",
       "      <th>19</th>\n",
       "      <td>67c7b9a1c1f2bd4c02d62a68</td>\n",
       "      <td>USD</td>\n",
       "      <td>BRL</td>\n",
       "      <td>Dólar Americano/Real Brasileiro</td>\n",
       "      <td>5.76590</td>\n",
       "      <td>5.76350</td>\n",
       "      <td>0.002400</td>\n",
       "      <td>0.040000</td>\n",
       "      <td>5.76540</td>\n",
       "      <td>5.76640</td>\n",
       "      <td>2025-02-11 19:00:03</td>\n",
       "    </tr>\n",
       "    <tr>\n",
       "      <th>20</th>\n",
       "      <td>67c7b9a1c1f2bd4c02d62a69</td>\n",
       "      <td>USD</td>\n",
       "      <td>BRL</td>\n",
       "      <td>Dólar Americano/Real Brasileiro</td>\n",
       "      <td>5.78770</td>\n",
       "      <td>5.78650</td>\n",
       "      <td>0.000300</td>\n",
       "      <td>0.010000</td>\n",
       "      <td>5.78740</td>\n",
       "      <td>5.78800</td>\n",
       "      <td>2025-02-10 19:00:03</td>\n",
       "    </tr>\n",
       "    <tr>\n",
       "      <th>21</th>\n",
       "      <td>67c7b9a1c1f2bd4c02d62a6a</td>\n",
       "      <td>USD</td>\n",
       "      <td>BRL</td>\n",
       "      <td>Dólar Americano/Real Brasileiro</td>\n",
       "      <td>5.81310</td>\n",
       "      <td>5.73490</td>\n",
       "      <td>0.044100</td>\n",
       "      <td>0.690000</td>\n",
       "      <td>5.80700</td>\n",
       "      <td>5.81000</td>\n",
       "      <td>2025-02-07 17:58:59</td>\n",
       "    </tr>\n",
       "    <tr>\n",
       "      <th>22</th>\n",
       "      <td>67c7b9a1c1f2bd4c02d62a6b</td>\n",
       "      <td>USD</td>\n",
       "      <td>BRL</td>\n",
       "      <td>Dólar Americano/Real Brasileiro</td>\n",
       "      <td>5.82460</td>\n",
       "      <td>5.73400</td>\n",
       "      <td>0.044500</td>\n",
       "      <td>0.770000</td>\n",
       "      <td>5.80580</td>\n",
       "      <td>5.80660</td>\n",
       "      <td>2025-02-07 17:58:21</td>\n",
       "    </tr>\n",
       "    <tr>\n",
       "      <th>23</th>\n",
       "      <td>67c7b9a1c1f2bd4c02d62a6c</td>\n",
       "      <td>USD</td>\n",
       "      <td>BRL</td>\n",
       "      <td>Dólar Americano/Real Brasileiro</td>\n",
       "      <td>5.76220</td>\n",
       "      <td>5.76150</td>\n",
       "      <td>0.000500</td>\n",
       "      <td>0.010000</td>\n",
       "      <td>5.76170</td>\n",
       "      <td>5.76260</td>\n",
       "      <td>2025-02-06 19:00:03</td>\n",
       "    </tr>\n",
       "    <tr>\n",
       "      <th>24</th>\n",
       "      <td>67c7b9a1c1f2bd4c02d62a6d</td>\n",
       "      <td>USD</td>\n",
       "      <td>BRL</td>\n",
       "      <td>Dólar Americano/Real Brasileiro</td>\n",
       "      <td>5.80440</td>\n",
       "      <td>5.80400</td>\n",
       "      <td>0.007100</td>\n",
       "      <td>0.120000</td>\n",
       "      <td>5.80390</td>\n",
       "      <td>5.80490</td>\n",
       "      <td>2025-02-05 19:00:03</td>\n",
       "    </tr>\n",
       "    <tr>\n",
       "      <th>25</th>\n",
       "      <td>67c7b9a1c1f2bd4c02d62a6e</td>\n",
       "      <td>USD</td>\n",
       "      <td>BRL</td>\n",
       "      <td>Dólar Americano/Real Brasileiro</td>\n",
       "      <td>5.75860</td>\n",
       "      <td>5.75800</td>\n",
       "      <td>0.004600</td>\n",
       "      <td>0.080000</td>\n",
       "      <td>5.75810</td>\n",
       "      <td>5.75910</td>\n",
       "      <td>2025-02-04 19:00:03</td>\n",
       "    </tr>\n",
       "    <tr>\n",
       "      <th>26</th>\n",
       "      <td>67c7b9a1c1f2bd4c02d62a6f</td>\n",
       "      <td>USD</td>\n",
       "      <td>BRL</td>\n",
       "      <td>Dólar Americano/Real Brasileiro</td>\n",
       "      <td>5.80690</td>\n",
       "      <td>5.80550</td>\n",
       "      <td>0.000300</td>\n",
       "      <td>0.010000</td>\n",
       "      <td>5.80660</td>\n",
       "      <td>5.80720</td>\n",
       "      <td>2025-02-03 19:00:04</td>\n",
       "    </tr>\n",
       "    <tr>\n",
       "      <th>27</th>\n",
       "      <td>67c7b9a1c1f2bd4c02d62a70</td>\n",
       "      <td>USD</td>\n",
       "      <td>BRL</td>\n",
       "      <td>Dólar Americano/Real Brasileiro</td>\n",
       "      <td>5.84400</td>\n",
       "      <td>5.84100</td>\n",
       "      <td>0.003000</td>\n",
       "      <td>0.050000</td>\n",
       "      <td>5.84350</td>\n",
       "      <td>5.84450</td>\n",
       "      <td>2025-02-02 19:02:50</td>\n",
       "    </tr>\n",
       "    <tr>\n",
       "      <th>28</th>\n",
       "      <td>67c7b9a1c1f2bd4c02d62a71</td>\n",
       "      <td>USD</td>\n",
       "      <td>BRL</td>\n",
       "      <td>Dólar Americano/Real Brasileiro</td>\n",
       "      <td>5.93320</td>\n",
       "      <td>5.80600</td>\n",
       "      <td>-0.029500</td>\n",
       "      <td>-0.500000</td>\n",
       "      <td>5.84300</td>\n",
       "      <td>5.84600</td>\n",
       "      <td>2025-01-31 17:58:56</td>\n",
       "    </tr>\n",
       "  </tbody>\n",
       "</table>\n",
       "</div>"
      ],
      "text/plain": [
       "                         _id moeda_de moeda_para  \\\n",
       "0   67c7b9a1c1f2bd4c02d62a55      USD        BRL   \n",
       "1   67c7b9a1c1f2bd4c02d62a56      USD        BRL   \n",
       "2   67c7b9a1c1f2bd4c02d62a57      USD        BRL   \n",
       "3   67c7b9a1c1f2bd4c02d62a58      USD        BRL   \n",
       "4   67c7b9a1c1f2bd4c02d62a59      USD        BRL   \n",
       "5   67c7b9a1c1f2bd4c02d62a5a      USD        BRL   \n",
       "6   67c7b9a1c1f2bd4c02d62a5b      USD        BRL   \n",
       "7   67c7b9a1c1f2bd4c02d62a5c      USD        BRL   \n",
       "8   67c7b9a1c1f2bd4c02d62a5d      USD        BRL   \n",
       "9   67c7b9a1c1f2bd4c02d62a5e      USD        BRL   \n",
       "10  67c7b9a1c1f2bd4c02d62a5f      USD        BRL   \n",
       "11  67c7b9a1c1f2bd4c02d62a60      USD        BRL   \n",
       "12  67c7b9a1c1f2bd4c02d62a61      USD        BRL   \n",
       "13  67c7b9a1c1f2bd4c02d62a62      USD        BRL   \n",
       "14  67c7b9a1c1f2bd4c02d62a63      USD        BRL   \n",
       "15  67c7b9a1c1f2bd4c02d62a64      USD        BRL   \n",
       "16  67c7b9a1c1f2bd4c02d62a65      USD        BRL   \n",
       "17  67c7b9a1c1f2bd4c02d62a66      USD        BRL   \n",
       "18  67c7b9a1c1f2bd4c02d62a67      USD        BRL   \n",
       "19  67c7b9a1c1f2bd4c02d62a68      USD        BRL   \n",
       "20  67c7b9a1c1f2bd4c02d62a69      USD        BRL   \n",
       "21  67c7b9a1c1f2bd4c02d62a6a      USD        BRL   \n",
       "22  67c7b9a1c1f2bd4c02d62a6b      USD        BRL   \n",
       "23  67c7b9a1c1f2bd4c02d62a6c      USD        BRL   \n",
       "24  67c7b9a1c1f2bd4c02d62a6d      USD        BRL   \n",
       "25  67c7b9a1c1f2bd4c02d62a6e      USD        BRL   \n",
       "26  67c7b9a1c1f2bd4c02d62a6f      USD        BRL   \n",
       "27  67c7b9a1c1f2bd4c02d62a70      USD        BRL   \n",
       "28  67c7b9a1c1f2bd4c02d62a71      USD        BRL   \n",
       "\n",
       "                          conversao  valor_maximo  valor_minimo  variacao  \\\n",
       "0   Dólar Americano/Real Brasileiro       5.90528       5.90528 -0.020320   \n",
       "1   Dólar Americano/Real Brasileiro       5.88520       5.86414  0.000000   \n",
       "2   Dólar Americano/Real Brasileiro       5.90347       5.82410  0.063000   \n",
       "3   Dólar Americano/Real Brasileiro       5.90310       5.82410  0.063000   \n",
       "4   Dólar Americano/Real Brasileiro       5.84449       5.82460  0.000500   \n",
       "5   Dólar Americano/Real Brasileiro       5.80669       5.79000 -0.001300   \n",
       "6   Dólar Americano/Real Brasileiro       5.74830       5.73607  0.000290   \n",
       "7   Dólar Americano/Real Brasileiro       5.78260       5.70780  0.049200   \n",
       "8   Dólar Americano/Real Brasileiro       5.73260       5.71317 -0.002500   \n",
       "9   Dólar Americano/Real Brasileiro       5.73550       5.69530  0.029100   \n",
       "10  Dólar Americano/Real Brasileiro       5.73550       5.69530  0.026600   \n",
       "11  Dólar Americano/Real Brasileiro       5.72140       5.68790 -0.016996   \n",
       "12  Dólar Americano/Real Brasileiro       5.73240       5.68420  0.032662   \n",
       "13  Dólar Americano/Real Brasileiro       5.72470       5.67690 -0.022900   \n",
       "14  Dólar Americano/Real Brasileiro       5.71350       5.71170  0.000500   \n",
       "15  Dólar Americano/Real Brasileiro       5.77070       5.69280 -0.062700   \n",
       "16  Dólar Americano/Real Brasileiro       5.79970       5.69100 -0.062200   \n",
       "17  Dólar Americano/Real Brasileiro       5.76730       5.76550  0.000400   \n",
       "18  Dólar Americano/Real Brasileiro       5.76540       5.75800  0.000500   \n",
       "19  Dólar Americano/Real Brasileiro       5.76590       5.76350  0.002400   \n",
       "20  Dólar Americano/Real Brasileiro       5.78770       5.78650  0.000300   \n",
       "21  Dólar Americano/Real Brasileiro       5.81310       5.73490  0.044100   \n",
       "22  Dólar Americano/Real Brasileiro       5.82460       5.73400  0.044500   \n",
       "23  Dólar Americano/Real Brasileiro       5.76220       5.76150  0.000500   \n",
       "24  Dólar Americano/Real Brasileiro       5.80440       5.80400  0.007100   \n",
       "25  Dólar Americano/Real Brasileiro       5.75860       5.75800  0.004600   \n",
       "26  Dólar Americano/Real Brasileiro       5.80690       5.80550  0.000300   \n",
       "27  Dólar Americano/Real Brasileiro       5.84400       5.84100  0.003000   \n",
       "28  Dólar Americano/Real Brasileiro       5.93320       5.80600 -0.029500   \n",
       "\n",
       "    porcentagem_variacao  valor_compra  valor_venda     data_negociacao  \n",
       "0              -0.344100       5.88467      5.88526 2025-03-04 23:14:56  \n",
       "1               0.000000       5.88520      5.88720 2025-03-02 20:54:03  \n",
       "2               1.078750       5.90310      5.90440 2025-03-01 20:42:03  \n",
       "3               1.078750       5.90310      5.90440 2025-02-28 18:58:22  \n",
       "4               0.008560       5.84060      5.84220 2025-02-27 20:58:15  \n",
       "5              -0.022400       5.80220      5.80520 2025-02-26 20:59:24  \n",
       "6               0.005050       5.73989      5.74240 2025-02-25 20:59:12  \n",
       "7               0.858710       5.77870      5.78140 2025-02-24 20:59:39  \n",
       "8              -0.043615       5.72950      5.73080 2025-02-23 19:00:02  \n",
       "9               0.510270       5.73200      5.73400 2025-02-22 00:49:18  \n",
       "10              0.466430       5.72950      5.73080 2025-02-21 19:10:02  \n",
       "11             -0.297070       5.69757      5.71124 2025-02-20 20:59:39  \n",
       "12              0.574110       5.72060      5.72360 2025-02-19 20:58:35  \n",
       "13             -0.400840       5.68820      5.69120 2025-02-18 20:59:04  \n",
       "14              0.010000       5.71300      5.71400 2025-02-17 19:00:03  \n",
       "15             -1.040000       5.69500      5.69700 2025-02-14 17:58:59  \n",
       "16             -1.080000       5.70420      5.70520 2025-02-14 17:58:45  \n",
       "17              0.010000       5.76690      5.76770 2025-02-13 19:00:04  \n",
       "18              0.010000       5.76490      5.76590 2025-02-12 19:00:04  \n",
       "19              0.040000       5.76540      5.76640 2025-02-11 19:00:03  \n",
       "20              0.010000       5.78740      5.78800 2025-02-10 19:00:03  \n",
       "21              0.690000       5.80700      5.81000 2025-02-07 17:58:59  \n",
       "22              0.770000       5.80580      5.80660 2025-02-07 17:58:21  \n",
       "23              0.010000       5.76170      5.76260 2025-02-06 19:00:03  \n",
       "24              0.120000       5.80390      5.80490 2025-02-05 19:00:03  \n",
       "25              0.080000       5.75810      5.75910 2025-02-04 19:00:03  \n",
       "26              0.010000       5.80660      5.80720 2025-02-03 19:00:04  \n",
       "27              0.050000       5.84350      5.84450 2025-02-02 19:02:50  \n",
       "28             -0.500000       5.84300      5.84600 2025-01-31 17:58:56  "
      ]
     },
     "metadata": {},
     "output_type": "display_data"
    }
   ],
   "source": [
    "# Retorna os documentos de cotações entre USD -> BRL cuja data de negociação esta entre a data inicial e final especificada.\n",
    "try:\n",
    "    collection, client = conectar(uri=uri_mongo, database=os.getenv('DB_NAME'), collection=os.getenv('DB_COLLECTION'))\n",
    "    results = collection.find({\"moeda_de\" : \"USD\"})\n",
    "    data_dolar = pd.DataFrame(list(results))\n",
    "    display(data_dolar)\n",
    "except mongoerrors.PyMongoError as e:\n",
    "    print(f\"Erro ao realizar a consulta na base de dados: {e}\")\n",
    "except Exception as e:\n",
    "    print(f\"Ocorreu um erro: {e}\")\n",
    "finally:\n",
    "    client.close()"
   ]
  },
  {
   "cell_type": "markdown",
   "metadata": {},
   "source": [
    "### Análise Exploratória de Dados"
   ]
  },
  {
   "cell_type": "code",
   "execution_count": 30,
   "metadata": {},
   "outputs": [
    {
     "data": {
      "application/vnd.microsoft.datawrangler.viewer.v0+json": {
       "columns": [
        {
         "name": "index",
         "rawType": "int64",
         "type": "integer"
        },
        {
         "name": "_id",
         "rawType": "object",
         "type": "unknown"
        },
        {
         "name": "moeda_de",
         "rawType": "object",
         "type": "string"
        },
        {
         "name": "moeda_para",
         "rawType": "object",
         "type": "string"
        },
        {
         "name": "conversao",
         "rawType": "object",
         "type": "string"
        },
        {
         "name": "valor_maximo",
         "rawType": "float64",
         "type": "float"
        },
        {
         "name": "valor_minimo",
         "rawType": "float64",
         "type": "float"
        },
        {
         "name": "variacao",
         "rawType": "float64",
         "type": "float"
        },
        {
         "name": "porcentagem_variacao",
         "rawType": "float64",
         "type": "float"
        },
        {
         "name": "valor_compra",
         "rawType": "float64",
         "type": "float"
        },
        {
         "name": "valor_venda",
         "rawType": "float64",
         "type": "float"
        },
        {
         "name": "data_negociacao",
         "rawType": "datetime64[ns]",
         "type": "datetime"
        }
       ],
       "conversionMethod": "pd.DataFrame",
       "ref": "d210406a-42c9-4aab-ae21-82ad148ecc4f",
       "rows": [
        [
         "0",
         "67c7b9a1c1f2bd4c02d62a55",
         "USD",
         "BRL",
         "Dólar Americano/Real Brasileiro",
         "5.90528",
         "5.90528",
         "-0.02032",
         "-0.3441",
         "5.88467",
         "5.88526",
         "2025-03-04 23:14:56"
        ],
        [
         "1",
         "67c7b9a1c1f2bd4c02d62a56",
         "USD",
         "BRL",
         "Dólar Americano/Real Brasileiro",
         "5.8852",
         "5.86414",
         "0.0",
         "0.0",
         "5.8852",
         "5.8872",
         "2025-03-02 20:54:03"
        ],
        [
         "2",
         "67c7b9a1c1f2bd4c02d62a57",
         "USD",
         "BRL",
         "Dólar Americano/Real Brasileiro",
         "5.90347",
         "5.8241",
         "0.063",
         "1.07875",
         "5.9031",
         "5.9044",
         "2025-03-01 20:42:03"
        ],
        [
         "3",
         "67c7b9a1c1f2bd4c02d62a58",
         "USD",
         "BRL",
         "Dólar Americano/Real Brasileiro",
         "5.9031",
         "5.8241",
         "0.063",
         "1.07875",
         "5.9031",
         "5.9044",
         "2025-02-28 18:58:22"
        ],
        [
         "4",
         "67c7b9a1c1f2bd4c02d62a59",
         "USD",
         "BRL",
         "Dólar Americano/Real Brasileiro",
         "5.84449",
         "5.8246",
         "0.0005",
         "0.00856",
         "5.8406",
         "5.8422",
         "2025-02-27 20:58:15"
        ]
       ],
       "shape": {
        "columns": 11,
        "rows": 5
       }
      },
      "text/html": [
       "<div>\n",
       "<style scoped>\n",
       "    .dataframe tbody tr th:only-of-type {\n",
       "        vertical-align: middle;\n",
       "    }\n",
       "\n",
       "    .dataframe tbody tr th {\n",
       "        vertical-align: top;\n",
       "    }\n",
       "\n",
       "    .dataframe thead th {\n",
       "        text-align: right;\n",
       "    }\n",
       "</style>\n",
       "<table border=\"1\" class=\"dataframe\">\n",
       "  <thead>\n",
       "    <tr style=\"text-align: right;\">\n",
       "      <th></th>\n",
       "      <th>_id</th>\n",
       "      <th>moeda_de</th>\n",
       "      <th>moeda_para</th>\n",
       "      <th>conversao</th>\n",
       "      <th>valor_maximo</th>\n",
       "      <th>valor_minimo</th>\n",
       "      <th>variacao</th>\n",
       "      <th>porcentagem_variacao</th>\n",
       "      <th>valor_compra</th>\n",
       "      <th>valor_venda</th>\n",
       "      <th>data_negociacao</th>\n",
       "    </tr>\n",
       "  </thead>\n",
       "  <tbody>\n",
       "    <tr>\n",
       "      <th>0</th>\n",
       "      <td>67c7b9a1c1f2bd4c02d62a55</td>\n",
       "      <td>USD</td>\n",
       "      <td>BRL</td>\n",
       "      <td>Dólar Americano/Real Brasileiro</td>\n",
       "      <td>5.90528</td>\n",
       "      <td>5.90528</td>\n",
       "      <td>-0.02032</td>\n",
       "      <td>-0.34410</td>\n",
       "      <td>5.88467</td>\n",
       "      <td>5.88526</td>\n",
       "      <td>2025-03-04 23:14:56</td>\n",
       "    </tr>\n",
       "    <tr>\n",
       "      <th>1</th>\n",
       "      <td>67c7b9a1c1f2bd4c02d62a56</td>\n",
       "      <td>USD</td>\n",
       "      <td>BRL</td>\n",
       "      <td>Dólar Americano/Real Brasileiro</td>\n",
       "      <td>5.88520</td>\n",
       "      <td>5.86414</td>\n",
       "      <td>0.00000</td>\n",
       "      <td>0.00000</td>\n",
       "      <td>5.88520</td>\n",
       "      <td>5.88720</td>\n",
       "      <td>2025-03-02 20:54:03</td>\n",
       "    </tr>\n",
       "    <tr>\n",
       "      <th>2</th>\n",
       "      <td>67c7b9a1c1f2bd4c02d62a57</td>\n",
       "      <td>USD</td>\n",
       "      <td>BRL</td>\n",
       "      <td>Dólar Americano/Real Brasileiro</td>\n",
       "      <td>5.90347</td>\n",
       "      <td>5.82410</td>\n",
       "      <td>0.06300</td>\n",
       "      <td>1.07875</td>\n",
       "      <td>5.90310</td>\n",
       "      <td>5.90440</td>\n",
       "      <td>2025-03-01 20:42:03</td>\n",
       "    </tr>\n",
       "    <tr>\n",
       "      <th>3</th>\n",
       "      <td>67c7b9a1c1f2bd4c02d62a58</td>\n",
       "      <td>USD</td>\n",
       "      <td>BRL</td>\n",
       "      <td>Dólar Americano/Real Brasileiro</td>\n",
       "      <td>5.90310</td>\n",
       "      <td>5.82410</td>\n",
       "      <td>0.06300</td>\n",
       "      <td>1.07875</td>\n",
       "      <td>5.90310</td>\n",
       "      <td>5.90440</td>\n",
       "      <td>2025-02-28 18:58:22</td>\n",
       "    </tr>\n",
       "    <tr>\n",
       "      <th>4</th>\n",
       "      <td>67c7b9a1c1f2bd4c02d62a59</td>\n",
       "      <td>USD</td>\n",
       "      <td>BRL</td>\n",
       "      <td>Dólar Americano/Real Brasileiro</td>\n",
       "      <td>5.84449</td>\n",
       "      <td>5.82460</td>\n",
       "      <td>0.00050</td>\n",
       "      <td>0.00856</td>\n",
       "      <td>5.84060</td>\n",
       "      <td>5.84220</td>\n",
       "      <td>2025-02-27 20:58:15</td>\n",
       "    </tr>\n",
       "  </tbody>\n",
       "</table>\n",
       "</div>"
      ],
      "text/plain": [
       "                        _id moeda_de moeda_para  \\\n",
       "0  67c7b9a1c1f2bd4c02d62a55      USD        BRL   \n",
       "1  67c7b9a1c1f2bd4c02d62a56      USD        BRL   \n",
       "2  67c7b9a1c1f2bd4c02d62a57      USD        BRL   \n",
       "3  67c7b9a1c1f2bd4c02d62a58      USD        BRL   \n",
       "4  67c7b9a1c1f2bd4c02d62a59      USD        BRL   \n",
       "\n",
       "                         conversao  valor_maximo  valor_minimo  variacao  \\\n",
       "0  Dólar Americano/Real Brasileiro       5.90528       5.90528  -0.02032   \n",
       "1  Dólar Americano/Real Brasileiro       5.88520       5.86414   0.00000   \n",
       "2  Dólar Americano/Real Brasileiro       5.90347       5.82410   0.06300   \n",
       "3  Dólar Americano/Real Brasileiro       5.90310       5.82410   0.06300   \n",
       "4  Dólar Americano/Real Brasileiro       5.84449       5.82460   0.00050   \n",
       "\n",
       "   porcentagem_variacao  valor_compra  valor_venda     data_negociacao  \n",
       "0              -0.34410       5.88467      5.88526 2025-03-04 23:14:56  \n",
       "1               0.00000       5.88520      5.88720 2025-03-02 20:54:03  \n",
       "2               1.07875       5.90310      5.90440 2025-03-01 20:42:03  \n",
       "3               1.07875       5.90310      5.90440 2025-02-28 18:58:22  \n",
       "4               0.00856       5.84060      5.84220 2025-02-27 20:58:15  "
      ]
     },
     "execution_count": 30,
     "metadata": {},
     "output_type": "execute_result"
    }
   ],
   "source": [
    "data_dolar.head(5)"
   ]
  },
  {
   "cell_type": "code",
   "execution_count": null,
   "metadata": {},
   "outputs": [
    {
     "data": {
      "application/vnd.microsoft.datawrangler.viewer.v0+json": {
       "columns": [
        {
         "name": "index",
         "rawType": "object",
         "type": "string"
        },
        {
         "name": "valor_maximo",
         "rawType": "float64",
         "type": "float"
        },
        {
         "name": "valor_minimo",
         "rawType": "float64",
         "type": "float"
        },
        {
         "name": "variacao",
         "rawType": "float64",
         "type": "float"
        },
        {
         "name": "porcentagem_variacao",
         "rawType": "float64",
         "type": "float"
        },
        {
         "name": "valor_compra",
         "rawType": "float64",
         "type": "float"
        },
        {
         "name": "valor_venda",
         "rawType": "float64",
         "type": "float"
        },
        {
         "name": "data_negociacao",
         "rawType": "object",
         "type": "unknown"
        }
       ],
       "conversionMethod": "pd.DataFrame",
       "ref": "ec30e528-8735-4414-9719-cbfa8d3136ca",
       "rows": [
        [
         "count",
         "29.0",
         "29.0",
         "29.0",
         "29.0",
         "29.0",
         "29.0",
         "29"
        ],
        [
         "mean",
         "5.795807931034482",
         "5.760095172413793",
         "0.00531503448275862",
         "0.09181397241379313",
         "5.781421724137932",
         "5.783420689655173",
         "2025-02-16 23:05:30.827586048"
        ],
        [
         "min",
         "5.7135",
         "5.6769",
         "-0.0627",
         "-1.08",
         "5.6882",
         "5.6912",
         "2025-01-31 17:58:56"
        ],
        [
         "25%",
         "5.7483",
         "5.7078",
         "-0.0013",
         "-0.0224",
         "5.7295",
         "5.7308",
         "2025-02-07 17:58:59"
        ],
        [
         "50%",
         "5.7826",
         "5.758",
         "0.0005",
         "0.01",
         "5.7669",
         "5.7677",
         "2025-02-17 19:00:03"
        ],
        [
         "75%",
         "5.8246",
         "5.8055",
         "0.0266",
         "0.46643",
         "5.807",
         "5.81",
         "2025-02-24 20:59:39"
        ],
        [
         "max",
         "5.9332",
         "5.90528",
         "0.063",
         "1.07875",
         "5.9031",
         "5.9044",
         "2025-03-04 23:14:56"
        ],
        [
         "std",
         "0.062403049283286056",
         "0.06074193042352511",
         "0.030518102550363167",
         "0.5206516255752914",
         "0.0637568758795566",
         "0.0631088749662627",
         null
        ]
       ],
       "shape": {
        "columns": 7,
        "rows": 8
       }
      },
      "text/html": [
       "<div>\n",
       "<style scoped>\n",
       "    .dataframe tbody tr th:only-of-type {\n",
       "        vertical-align: middle;\n",
       "    }\n",
       "\n",
       "    .dataframe tbody tr th {\n",
       "        vertical-align: top;\n",
       "    }\n",
       "\n",
       "    .dataframe thead th {\n",
       "        text-align: right;\n",
       "    }\n",
       "</style>\n",
       "<table border=\"1\" class=\"dataframe\">\n",
       "  <thead>\n",
       "    <tr style=\"text-align: right;\">\n",
       "      <th></th>\n",
       "      <th>valor_maximo</th>\n",
       "      <th>valor_minimo</th>\n",
       "      <th>variacao</th>\n",
       "      <th>porcentagem_variacao</th>\n",
       "      <th>valor_compra</th>\n",
       "      <th>valor_venda</th>\n",
       "      <th>data_negociacao</th>\n",
       "    </tr>\n",
       "  </thead>\n",
       "  <tbody>\n",
       "    <tr>\n",
       "      <th>count</th>\n",
       "      <td>29.000000</td>\n",
       "      <td>29.000000</td>\n",
       "      <td>29.000000</td>\n",
       "      <td>29.000000</td>\n",
       "      <td>29.000000</td>\n",
       "      <td>29.000000</td>\n",
       "      <td>29</td>\n",
       "    </tr>\n",
       "    <tr>\n",
       "      <th>mean</th>\n",
       "      <td>5.795808</td>\n",
       "      <td>5.760095</td>\n",
       "      <td>0.005315</td>\n",
       "      <td>0.091814</td>\n",
       "      <td>5.781422</td>\n",
       "      <td>5.783421</td>\n",
       "      <td>2025-02-16 23:05:30.827586048</td>\n",
       "    </tr>\n",
       "    <tr>\n",
       "      <th>min</th>\n",
       "      <td>5.713500</td>\n",
       "      <td>5.676900</td>\n",
       "      <td>-0.062700</td>\n",
       "      <td>-1.080000</td>\n",
       "      <td>5.688200</td>\n",
       "      <td>5.691200</td>\n",
       "      <td>2025-01-31 17:58:56</td>\n",
       "    </tr>\n",
       "    <tr>\n",
       "      <th>25%</th>\n",
       "      <td>5.748300</td>\n",
       "      <td>5.707800</td>\n",
       "      <td>-0.001300</td>\n",
       "      <td>-0.022400</td>\n",
       "      <td>5.729500</td>\n",
       "      <td>5.730800</td>\n",
       "      <td>2025-02-07 17:58:59</td>\n",
       "    </tr>\n",
       "    <tr>\n",
       "      <th>50%</th>\n",
       "      <td>5.782600</td>\n",
       "      <td>5.758000</td>\n",
       "      <td>0.000500</td>\n",
       "      <td>0.010000</td>\n",
       "      <td>5.766900</td>\n",
       "      <td>5.767700</td>\n",
       "      <td>2025-02-17 19:00:03</td>\n",
       "    </tr>\n",
       "    <tr>\n",
       "      <th>75%</th>\n",
       "      <td>5.824600</td>\n",
       "      <td>5.805500</td>\n",
       "      <td>0.026600</td>\n",
       "      <td>0.466430</td>\n",
       "      <td>5.807000</td>\n",
       "      <td>5.810000</td>\n",
       "      <td>2025-02-24 20:59:39</td>\n",
       "    </tr>\n",
       "    <tr>\n",
       "      <th>max</th>\n",
       "      <td>5.933200</td>\n",
       "      <td>5.905280</td>\n",
       "      <td>0.063000</td>\n",
       "      <td>1.078750</td>\n",
       "      <td>5.903100</td>\n",
       "      <td>5.904400</td>\n",
       "      <td>2025-03-04 23:14:56</td>\n",
       "    </tr>\n",
       "    <tr>\n",
       "      <th>std</th>\n",
       "      <td>0.062403</td>\n",
       "      <td>0.060742</td>\n",
       "      <td>0.030518</td>\n",
       "      <td>0.520652</td>\n",
       "      <td>0.063757</td>\n",
       "      <td>0.063109</td>\n",
       "      <td>NaN</td>\n",
       "    </tr>\n",
       "  </tbody>\n",
       "</table>\n",
       "</div>"
      ],
      "text/plain": [
       "       valor_maximo  valor_minimo   variacao  porcentagem_variacao  \\\n",
       "count     29.000000     29.000000  29.000000             29.000000   \n",
       "mean       5.795808      5.760095   0.005315              0.091814   \n",
       "min        5.713500      5.676900  -0.062700             -1.080000   \n",
       "25%        5.748300      5.707800  -0.001300             -0.022400   \n",
       "50%        5.782600      5.758000   0.000500              0.010000   \n",
       "75%        5.824600      5.805500   0.026600              0.466430   \n",
       "max        5.933200      5.905280   0.063000              1.078750   \n",
       "std        0.062403      0.060742   0.030518              0.520652   \n",
       "\n",
       "       valor_compra  valor_venda                data_negociacao  \n",
       "count     29.000000    29.000000                             29  \n",
       "mean       5.781422     5.783421  2025-02-16 23:05:30.827586048  \n",
       "min        5.688200     5.691200            2025-01-31 17:58:56  \n",
       "25%        5.729500     5.730800            2025-02-07 17:58:59  \n",
       "50%        5.766900     5.767700            2025-02-17 19:00:03  \n",
       "75%        5.807000     5.810000            2025-02-24 20:59:39  \n",
       "max        5.903100     5.904400            2025-03-04 23:14:56  \n",
       "std        0.063757     0.063109                            NaN  "
      ]
     },
     "execution_count": 31,
     "metadata": {},
     "output_type": "execute_result"
    }
   ],
   "source": [
    "# Resumo estatístico da nossa coleção.\n",
    "data_dolar.describe()"
   ]
  },
  {
   "cell_type": "markdown",
   "metadata": {},
   "source": [
    "##### Vamos realizar algumas análises baseadas na variável `valor_maximo`, que representa o maior valor da cotação obtido naquele dia."
   ]
  },
  {
   "cell_type": "code",
   "execution_count": 48,
   "metadata": {},
   "outputs": [
    {
     "name": "stdout",
     "output_type": "stream",
     "text": [
      "O coeficiente de variação foi de: 1.06%\n"
     ]
    }
   ],
   "source": [
    "# Coeficiente de variação\n",
    "cv = np.std(data_dolar['valor_maximo'])/np.mean(data_dolar['valor_maximo']) * 100\n",
    "print(f'O coeficiente de variação foi de: {cv:.2f}%')"
   ]
  },
  {
   "cell_type": "code",
   "execution_count": 59,
   "metadata": {},
   "outputs": [
    {
     "name": "stdout",
     "output_type": "stream",
     "text": [
      "O valor do alcance é de: 0.22\n"
     ]
    }
   ],
   "source": [
    "# Alcance => Diferença entre .max() .min().\n",
    "alcance = data_dolar['valor_maximo'].max() - data_dolar['valor_maximo'].min()\n",
    "print(f\"O valor do alcance é de: {alcance:.2f}\")"
   ]
  },
  {
   "cell_type": "markdown",
   "metadata": {},
   "source": [
    "Através de nosso resumo, podemos citar algumas características da variável `valor_maximo`:\n",
    "* Durante o período avaliado, cuja extração abrange entre `31-01-2025` a `04-03-2025`, houve pequena variação nos valores, como podemos avaliar a seguir: \n",
    "    * Coeficiente de variação de apenas 1.06%.\n",
    "    * Valor do alcance (diferença entre o valor máximo(5.9332) - mínimo(5.7135)) é de 0.22.\n",
    "    * 75% dos dados estão entre os valores de 5.7135 e 5.8246.\n",
    "\n",
    "Vamos plotar alguns gráficos para melhor visualizarmos essas conclusões.    "
   ]
  },
  {
   "cell_type": "code",
   "execution_count": 57,
   "metadata": {},
   "outputs": [
    {
     "data": {
      "application/vnd.plotly.v1+json": {
       "config": {
        "plotlyServerURL": "https://plot.ly"
       },
       "data": [
        {
         "alignmentgroup": "True",
         "hovertemplate": "valor_maximo=%{y}<extra></extra>",
         "legendgroup": "",
         "marker": {
          "color": "#636efa"
         },
         "name": "",
         "notched": false,
         "offsetgroup": "",
         "orientation": "v",
         "showlegend": false,
         "type": "box",
         "x0": " ",
         "xaxis": "x",
         "y": {
          "bdata": "O+RmuAGfF0BDrWnecYoXQCKrWz0nnRdABhIUP8acF0A4Mo/8wWAXQHwKgPEMOhdAIGPuWkL+FkD+ZffkYSEXQMoyxLEu7hZA/tR46SbxFkD+1HjpJvEWQG1Wfa624hZAklz+Q/rtFkASpb3BF+YWQLTIdr6f2hZA2ht8YTIVF0DecYqO5DIXQBniWBe3ERdAAG+BBMUPF0COBvAWSBAXQJ88LNSaJhdAqoJRSZ1AF0BcIEHxY0wXQHgLJCh+DBdAD5wzorQ3F0B/+zpwzggXQNGRXP5DOhdAx0s3iUFgF0BBguLHmLsXQA==",
          "dtype": "f8"
         },
         "y0": " ",
         "yaxis": "y"
        }
       ],
       "layout": {
        "boxmode": "group",
        "height": 400,
        "legend": {
         "tracegroupgap": 0
        },
        "template": {
         "data": {
          "bar": [
           {
            "error_x": {
             "color": "#2a3f5f"
            },
            "error_y": {
             "color": "#2a3f5f"
            },
            "marker": {
             "line": {
              "color": "#E5ECF6",
              "width": 0.5
             },
             "pattern": {
              "fillmode": "overlay",
              "size": 10,
              "solidity": 0.2
             }
            },
            "type": "bar"
           }
          ],
          "barpolar": [
           {
            "marker": {
             "line": {
              "color": "#E5ECF6",
              "width": 0.5
             },
             "pattern": {
              "fillmode": "overlay",
              "size": 10,
              "solidity": 0.2
             }
            },
            "type": "barpolar"
           }
          ],
          "carpet": [
           {
            "aaxis": {
             "endlinecolor": "#2a3f5f",
             "gridcolor": "white",
             "linecolor": "white",
             "minorgridcolor": "white",
             "startlinecolor": "#2a3f5f"
            },
            "baxis": {
             "endlinecolor": "#2a3f5f",
             "gridcolor": "white",
             "linecolor": "white",
             "minorgridcolor": "white",
             "startlinecolor": "#2a3f5f"
            },
            "type": "carpet"
           }
          ],
          "choropleth": [
           {
            "colorbar": {
             "outlinewidth": 0,
             "ticks": ""
            },
            "type": "choropleth"
           }
          ],
          "contour": [
           {
            "colorbar": {
             "outlinewidth": 0,
             "ticks": ""
            },
            "colorscale": [
             [
              0,
              "#0d0887"
             ],
             [
              0.1111111111111111,
              "#46039f"
             ],
             [
              0.2222222222222222,
              "#7201a8"
             ],
             [
              0.3333333333333333,
              "#9c179e"
             ],
             [
              0.4444444444444444,
              "#bd3786"
             ],
             [
              0.5555555555555556,
              "#d8576b"
             ],
             [
              0.6666666666666666,
              "#ed7953"
             ],
             [
              0.7777777777777778,
              "#fb9f3a"
             ],
             [
              0.8888888888888888,
              "#fdca26"
             ],
             [
              1,
              "#f0f921"
             ]
            ],
            "type": "contour"
           }
          ],
          "contourcarpet": [
           {
            "colorbar": {
             "outlinewidth": 0,
             "ticks": ""
            },
            "type": "contourcarpet"
           }
          ],
          "heatmap": [
           {
            "colorbar": {
             "outlinewidth": 0,
             "ticks": ""
            },
            "colorscale": [
             [
              0,
              "#0d0887"
             ],
             [
              0.1111111111111111,
              "#46039f"
             ],
             [
              0.2222222222222222,
              "#7201a8"
             ],
             [
              0.3333333333333333,
              "#9c179e"
             ],
             [
              0.4444444444444444,
              "#bd3786"
             ],
             [
              0.5555555555555556,
              "#d8576b"
             ],
             [
              0.6666666666666666,
              "#ed7953"
             ],
             [
              0.7777777777777778,
              "#fb9f3a"
             ],
             [
              0.8888888888888888,
              "#fdca26"
             ],
             [
              1,
              "#f0f921"
             ]
            ],
            "type": "heatmap"
           }
          ],
          "histogram": [
           {
            "marker": {
             "pattern": {
              "fillmode": "overlay",
              "size": 10,
              "solidity": 0.2
             }
            },
            "type": "histogram"
           }
          ],
          "histogram2d": [
           {
            "colorbar": {
             "outlinewidth": 0,
             "ticks": ""
            },
            "colorscale": [
             [
              0,
              "#0d0887"
             ],
             [
              0.1111111111111111,
              "#46039f"
             ],
             [
              0.2222222222222222,
              "#7201a8"
             ],
             [
              0.3333333333333333,
              "#9c179e"
             ],
             [
              0.4444444444444444,
              "#bd3786"
             ],
             [
              0.5555555555555556,
              "#d8576b"
             ],
             [
              0.6666666666666666,
              "#ed7953"
             ],
             [
              0.7777777777777778,
              "#fb9f3a"
             ],
             [
              0.8888888888888888,
              "#fdca26"
             ],
             [
              1,
              "#f0f921"
             ]
            ],
            "type": "histogram2d"
           }
          ],
          "histogram2dcontour": [
           {
            "colorbar": {
             "outlinewidth": 0,
             "ticks": ""
            },
            "colorscale": [
             [
              0,
              "#0d0887"
             ],
             [
              0.1111111111111111,
              "#46039f"
             ],
             [
              0.2222222222222222,
              "#7201a8"
             ],
             [
              0.3333333333333333,
              "#9c179e"
             ],
             [
              0.4444444444444444,
              "#bd3786"
             ],
             [
              0.5555555555555556,
              "#d8576b"
             ],
             [
              0.6666666666666666,
              "#ed7953"
             ],
             [
              0.7777777777777778,
              "#fb9f3a"
             ],
             [
              0.8888888888888888,
              "#fdca26"
             ],
             [
              1,
              "#f0f921"
             ]
            ],
            "type": "histogram2dcontour"
           }
          ],
          "mesh3d": [
           {
            "colorbar": {
             "outlinewidth": 0,
             "ticks": ""
            },
            "type": "mesh3d"
           }
          ],
          "parcoords": [
           {
            "line": {
             "colorbar": {
              "outlinewidth": 0,
              "ticks": ""
             }
            },
            "type": "parcoords"
           }
          ],
          "pie": [
           {
            "automargin": true,
            "type": "pie"
           }
          ],
          "scatter": [
           {
            "fillpattern": {
             "fillmode": "overlay",
             "size": 10,
             "solidity": 0.2
            },
            "type": "scatter"
           }
          ],
          "scatter3d": [
           {
            "line": {
             "colorbar": {
              "outlinewidth": 0,
              "ticks": ""
             }
            },
            "marker": {
             "colorbar": {
              "outlinewidth": 0,
              "ticks": ""
             }
            },
            "type": "scatter3d"
           }
          ],
          "scattercarpet": [
           {
            "marker": {
             "colorbar": {
              "outlinewidth": 0,
              "ticks": ""
             }
            },
            "type": "scattercarpet"
           }
          ],
          "scattergeo": [
           {
            "marker": {
             "colorbar": {
              "outlinewidth": 0,
              "ticks": ""
             }
            },
            "type": "scattergeo"
           }
          ],
          "scattergl": [
           {
            "marker": {
             "colorbar": {
              "outlinewidth": 0,
              "ticks": ""
             }
            },
            "type": "scattergl"
           }
          ],
          "scattermap": [
           {
            "marker": {
             "colorbar": {
              "outlinewidth": 0,
              "ticks": ""
             }
            },
            "type": "scattermap"
           }
          ],
          "scattermapbox": [
           {
            "marker": {
             "colorbar": {
              "outlinewidth": 0,
              "ticks": ""
             }
            },
            "type": "scattermapbox"
           }
          ],
          "scatterpolar": [
           {
            "marker": {
             "colorbar": {
              "outlinewidth": 0,
              "ticks": ""
             }
            },
            "type": "scatterpolar"
           }
          ],
          "scatterpolargl": [
           {
            "marker": {
             "colorbar": {
              "outlinewidth": 0,
              "ticks": ""
             }
            },
            "type": "scatterpolargl"
           }
          ],
          "scatterternary": [
           {
            "marker": {
             "colorbar": {
              "outlinewidth": 0,
              "ticks": ""
             }
            },
            "type": "scatterternary"
           }
          ],
          "surface": [
           {
            "colorbar": {
             "outlinewidth": 0,
             "ticks": ""
            },
            "colorscale": [
             [
              0,
              "#0d0887"
             ],
             [
              0.1111111111111111,
              "#46039f"
             ],
             [
              0.2222222222222222,
              "#7201a8"
             ],
             [
              0.3333333333333333,
              "#9c179e"
             ],
             [
              0.4444444444444444,
              "#bd3786"
             ],
             [
              0.5555555555555556,
              "#d8576b"
             ],
             [
              0.6666666666666666,
              "#ed7953"
             ],
             [
              0.7777777777777778,
              "#fb9f3a"
             ],
             [
              0.8888888888888888,
              "#fdca26"
             ],
             [
              1,
              "#f0f921"
             ]
            ],
            "type": "surface"
           }
          ],
          "table": [
           {
            "cells": {
             "fill": {
              "color": "#EBF0F8"
             },
             "line": {
              "color": "white"
             }
            },
            "header": {
             "fill": {
              "color": "#C8D4E3"
             },
             "line": {
              "color": "white"
             }
            },
            "type": "table"
           }
          ]
         },
         "layout": {
          "annotationdefaults": {
           "arrowcolor": "#2a3f5f",
           "arrowhead": 0,
           "arrowwidth": 1
          },
          "autotypenumbers": "strict",
          "coloraxis": {
           "colorbar": {
            "outlinewidth": 0,
            "ticks": ""
           }
          },
          "colorscale": {
           "diverging": [
            [
             0,
             "#8e0152"
            ],
            [
             0.1,
             "#c51b7d"
            ],
            [
             0.2,
             "#de77ae"
            ],
            [
             0.3,
             "#f1b6da"
            ],
            [
             0.4,
             "#fde0ef"
            ],
            [
             0.5,
             "#f7f7f7"
            ],
            [
             0.6,
             "#e6f5d0"
            ],
            [
             0.7,
             "#b8e186"
            ],
            [
             0.8,
             "#7fbc41"
            ],
            [
             0.9,
             "#4d9221"
            ],
            [
             1,
             "#276419"
            ]
           ],
           "sequential": [
            [
             0,
             "#0d0887"
            ],
            [
             0.1111111111111111,
             "#46039f"
            ],
            [
             0.2222222222222222,
             "#7201a8"
            ],
            [
             0.3333333333333333,
             "#9c179e"
            ],
            [
             0.4444444444444444,
             "#bd3786"
            ],
            [
             0.5555555555555556,
             "#d8576b"
            ],
            [
             0.6666666666666666,
             "#ed7953"
            ],
            [
             0.7777777777777778,
             "#fb9f3a"
            ],
            [
             0.8888888888888888,
             "#fdca26"
            ],
            [
             1,
             "#f0f921"
            ]
           ],
           "sequentialminus": [
            [
             0,
             "#0d0887"
            ],
            [
             0.1111111111111111,
             "#46039f"
            ],
            [
             0.2222222222222222,
             "#7201a8"
            ],
            [
             0.3333333333333333,
             "#9c179e"
            ],
            [
             0.4444444444444444,
             "#bd3786"
            ],
            [
             0.5555555555555556,
             "#d8576b"
            ],
            [
             0.6666666666666666,
             "#ed7953"
            ],
            [
             0.7777777777777778,
             "#fb9f3a"
            ],
            [
             0.8888888888888888,
             "#fdca26"
            ],
            [
             1,
             "#f0f921"
            ]
           ]
          },
          "colorway": [
           "#636efa",
           "#EF553B",
           "#00cc96",
           "#ab63fa",
           "#FFA15A",
           "#19d3f3",
           "#FF6692",
           "#B6E880",
           "#FF97FF",
           "#FECB52"
          ],
          "font": {
           "color": "#2a3f5f"
          },
          "geo": {
           "bgcolor": "white",
           "lakecolor": "white",
           "landcolor": "#E5ECF6",
           "showlakes": true,
           "showland": true,
           "subunitcolor": "white"
          },
          "hoverlabel": {
           "align": "left"
          },
          "hovermode": "closest",
          "mapbox": {
           "style": "light"
          },
          "paper_bgcolor": "white",
          "plot_bgcolor": "#E5ECF6",
          "polar": {
           "angularaxis": {
            "gridcolor": "white",
            "linecolor": "white",
            "ticks": ""
           },
           "bgcolor": "#E5ECF6",
           "radialaxis": {
            "gridcolor": "white",
            "linecolor": "white",
            "ticks": ""
           }
          },
          "scene": {
           "xaxis": {
            "backgroundcolor": "#E5ECF6",
            "gridcolor": "white",
            "gridwidth": 2,
            "linecolor": "white",
            "showbackground": true,
            "ticks": "",
            "zerolinecolor": "white"
           },
           "yaxis": {
            "backgroundcolor": "#E5ECF6",
            "gridcolor": "white",
            "gridwidth": 2,
            "linecolor": "white",
            "showbackground": true,
            "ticks": "",
            "zerolinecolor": "white"
           },
           "zaxis": {
            "backgroundcolor": "#E5ECF6",
            "gridcolor": "white",
            "gridwidth": 2,
            "linecolor": "white",
            "showbackground": true,
            "ticks": "",
            "zerolinecolor": "white"
           }
          },
          "shapedefaults": {
           "line": {
            "color": "#2a3f5f"
           }
          },
          "ternary": {
           "aaxis": {
            "gridcolor": "white",
            "linecolor": "white",
            "ticks": ""
           },
           "baxis": {
            "gridcolor": "white",
            "linecolor": "white",
            "ticks": ""
           },
           "bgcolor": "#E5ECF6",
           "caxis": {
            "gridcolor": "white",
            "linecolor": "white",
            "ticks": ""
           }
          },
          "title": {
           "x": 0.05
          },
          "xaxis": {
           "automargin": true,
           "gridcolor": "white",
           "linecolor": "white",
           "ticks": "",
           "title": {
            "standoff": 15
           },
           "zerolinecolor": "white",
           "zerolinewidth": 2
          },
          "yaxis": {
           "automargin": true,
           "gridcolor": "white",
           "linecolor": "white",
           "ticks": "",
           "title": {
            "standoff": 15
           },
           "zerolinecolor": "white",
           "zerolinewidth": 2
          }
         }
        },
        "title": {
         "text": "Cotação USD->BRL - Período: 31/01/2025 a 04/03/2025"
        },
        "width": 550,
        "xaxis": {
         "anchor": "y",
         "domain": [
          0,
          1
         ]
        },
        "yaxis": {
         "anchor": "x",
         "domain": [
          0,
          1
         ],
         "title": {
          "text": "valor_maximo"
         }
        }
       }
      }
     },
     "metadata": {},
     "output_type": "display_data"
    }
   ],
   "source": [
    "# Boxplot\n",
    "df = data_dolar\n",
    "fig = px.box(df, y=\"valor_maximo\", width=550, height=400, title=\"Cotação USD->BRL - Período: 31/01/2025 a 04/03/2025\")\n",
    "fig.show()"
   ]
  },
  {
   "cell_type": "code",
   "execution_count": null,
   "metadata": {},
   "outputs": [
    {
     "data": {
      "application/vnd.plotly.v1+json": {
       "config": {
        "plotlyServerURL": "https://plot.ly"
       },
       "data": [
        {
         "bingroup": "x",
         "hovertemplate": "valor_maximo=%{x}<br>count=%{y}<extra></extra>",
         "legendgroup": "",
         "marker": {
          "color": "#636efa",
          "pattern": {
           "shape": ""
          }
         },
         "name": "",
         "orientation": "v",
         "showlegend": false,
         "type": "histogram",
         "x": {
          "bdata": "O+RmuAGfF0BDrWnecYoXQCKrWz0nnRdABhIUP8acF0A4Mo/8wWAXQHwKgPEMOhdAIGPuWkL+FkD+ZffkYSEXQMoyxLEu7hZA/tR46SbxFkD+1HjpJvEWQG1Wfa624hZAklz+Q/rtFkASpb3BF+YWQLTIdr6f2hZA2ht8YTIVF0DecYqO5DIXQBniWBe3ERdAAG+BBMUPF0COBvAWSBAXQJ88LNSaJhdAqoJRSZ1AF0BcIEHxY0wXQHgLJCh+DBdAD5wzorQ3F0B/+zpwzggXQNGRXP5DOhdAx0s3iUFgF0BBguLHmLsXQA==",
          "dtype": "f8"
         },
         "xaxis": "x",
         "yaxis": "y"
        }
       ],
       "layout": {
        "barmode": "relative",
        "height": 400,
        "legend": {
         "tracegroupgap": 0
        },
        "template": {
         "data": {
          "bar": [
           {
            "error_x": {
             "color": "#2a3f5f"
            },
            "error_y": {
             "color": "#2a3f5f"
            },
            "marker": {
             "line": {
              "color": "#E5ECF6",
              "width": 0.5
             },
             "pattern": {
              "fillmode": "overlay",
              "size": 10,
              "solidity": 0.2
             }
            },
            "type": "bar"
           }
          ],
          "barpolar": [
           {
            "marker": {
             "line": {
              "color": "#E5ECF6",
              "width": 0.5
             },
             "pattern": {
              "fillmode": "overlay",
              "size": 10,
              "solidity": 0.2
             }
            },
            "type": "barpolar"
           }
          ],
          "carpet": [
           {
            "aaxis": {
             "endlinecolor": "#2a3f5f",
             "gridcolor": "white",
             "linecolor": "white",
             "minorgridcolor": "white",
             "startlinecolor": "#2a3f5f"
            },
            "baxis": {
             "endlinecolor": "#2a3f5f",
             "gridcolor": "white",
             "linecolor": "white",
             "minorgridcolor": "white",
             "startlinecolor": "#2a3f5f"
            },
            "type": "carpet"
           }
          ],
          "choropleth": [
           {
            "colorbar": {
             "outlinewidth": 0,
             "ticks": ""
            },
            "type": "choropleth"
           }
          ],
          "contour": [
           {
            "colorbar": {
             "outlinewidth": 0,
             "ticks": ""
            },
            "colorscale": [
             [
              0,
              "#0d0887"
             ],
             [
              0.1111111111111111,
              "#46039f"
             ],
             [
              0.2222222222222222,
              "#7201a8"
             ],
             [
              0.3333333333333333,
              "#9c179e"
             ],
             [
              0.4444444444444444,
              "#bd3786"
             ],
             [
              0.5555555555555556,
              "#d8576b"
             ],
             [
              0.6666666666666666,
              "#ed7953"
             ],
             [
              0.7777777777777778,
              "#fb9f3a"
             ],
             [
              0.8888888888888888,
              "#fdca26"
             ],
             [
              1,
              "#f0f921"
             ]
            ],
            "type": "contour"
           }
          ],
          "contourcarpet": [
           {
            "colorbar": {
             "outlinewidth": 0,
             "ticks": ""
            },
            "type": "contourcarpet"
           }
          ],
          "heatmap": [
           {
            "colorbar": {
             "outlinewidth": 0,
             "ticks": ""
            },
            "colorscale": [
             [
              0,
              "#0d0887"
             ],
             [
              0.1111111111111111,
              "#46039f"
             ],
             [
              0.2222222222222222,
              "#7201a8"
             ],
             [
              0.3333333333333333,
              "#9c179e"
             ],
             [
              0.4444444444444444,
              "#bd3786"
             ],
             [
              0.5555555555555556,
              "#d8576b"
             ],
             [
              0.6666666666666666,
              "#ed7953"
             ],
             [
              0.7777777777777778,
              "#fb9f3a"
             ],
             [
              0.8888888888888888,
              "#fdca26"
             ],
             [
              1,
              "#f0f921"
             ]
            ],
            "type": "heatmap"
           }
          ],
          "histogram": [
           {
            "marker": {
             "pattern": {
              "fillmode": "overlay",
              "size": 10,
              "solidity": 0.2
             }
            },
            "type": "histogram"
           }
          ],
          "histogram2d": [
           {
            "colorbar": {
             "outlinewidth": 0,
             "ticks": ""
            },
            "colorscale": [
             [
              0,
              "#0d0887"
             ],
             [
              0.1111111111111111,
              "#46039f"
             ],
             [
              0.2222222222222222,
              "#7201a8"
             ],
             [
              0.3333333333333333,
              "#9c179e"
             ],
             [
              0.4444444444444444,
              "#bd3786"
             ],
             [
              0.5555555555555556,
              "#d8576b"
             ],
             [
              0.6666666666666666,
              "#ed7953"
             ],
             [
              0.7777777777777778,
              "#fb9f3a"
             ],
             [
              0.8888888888888888,
              "#fdca26"
             ],
             [
              1,
              "#f0f921"
             ]
            ],
            "type": "histogram2d"
           }
          ],
          "histogram2dcontour": [
           {
            "colorbar": {
             "outlinewidth": 0,
             "ticks": ""
            },
            "colorscale": [
             [
              0,
              "#0d0887"
             ],
             [
              0.1111111111111111,
              "#46039f"
             ],
             [
              0.2222222222222222,
              "#7201a8"
             ],
             [
              0.3333333333333333,
              "#9c179e"
             ],
             [
              0.4444444444444444,
              "#bd3786"
             ],
             [
              0.5555555555555556,
              "#d8576b"
             ],
             [
              0.6666666666666666,
              "#ed7953"
             ],
             [
              0.7777777777777778,
              "#fb9f3a"
             ],
             [
              0.8888888888888888,
              "#fdca26"
             ],
             [
              1,
              "#f0f921"
             ]
            ],
            "type": "histogram2dcontour"
           }
          ],
          "mesh3d": [
           {
            "colorbar": {
             "outlinewidth": 0,
             "ticks": ""
            },
            "type": "mesh3d"
           }
          ],
          "parcoords": [
           {
            "line": {
             "colorbar": {
              "outlinewidth": 0,
              "ticks": ""
             }
            },
            "type": "parcoords"
           }
          ],
          "pie": [
           {
            "automargin": true,
            "type": "pie"
           }
          ],
          "scatter": [
           {
            "fillpattern": {
             "fillmode": "overlay",
             "size": 10,
             "solidity": 0.2
            },
            "type": "scatter"
           }
          ],
          "scatter3d": [
           {
            "line": {
             "colorbar": {
              "outlinewidth": 0,
              "ticks": ""
             }
            },
            "marker": {
             "colorbar": {
              "outlinewidth": 0,
              "ticks": ""
             }
            },
            "type": "scatter3d"
           }
          ],
          "scattercarpet": [
           {
            "marker": {
             "colorbar": {
              "outlinewidth": 0,
              "ticks": ""
             }
            },
            "type": "scattercarpet"
           }
          ],
          "scattergeo": [
           {
            "marker": {
             "colorbar": {
              "outlinewidth": 0,
              "ticks": ""
             }
            },
            "type": "scattergeo"
           }
          ],
          "scattergl": [
           {
            "marker": {
             "colorbar": {
              "outlinewidth": 0,
              "ticks": ""
             }
            },
            "type": "scattergl"
           }
          ],
          "scattermap": [
           {
            "marker": {
             "colorbar": {
              "outlinewidth": 0,
              "ticks": ""
             }
            },
            "type": "scattermap"
           }
          ],
          "scattermapbox": [
           {
            "marker": {
             "colorbar": {
              "outlinewidth": 0,
              "ticks": ""
             }
            },
            "type": "scattermapbox"
           }
          ],
          "scatterpolar": [
           {
            "marker": {
             "colorbar": {
              "outlinewidth": 0,
              "ticks": ""
             }
            },
            "type": "scatterpolar"
           }
          ],
          "scatterpolargl": [
           {
            "marker": {
             "colorbar": {
              "outlinewidth": 0,
              "ticks": ""
             }
            },
            "type": "scatterpolargl"
           }
          ],
          "scatterternary": [
           {
            "marker": {
             "colorbar": {
              "outlinewidth": 0,
              "ticks": ""
             }
            },
            "type": "scatterternary"
           }
          ],
          "surface": [
           {
            "colorbar": {
             "outlinewidth": 0,
             "ticks": ""
            },
            "colorscale": [
             [
              0,
              "#0d0887"
             ],
             [
              0.1111111111111111,
              "#46039f"
             ],
             [
              0.2222222222222222,
              "#7201a8"
             ],
             [
              0.3333333333333333,
              "#9c179e"
             ],
             [
              0.4444444444444444,
              "#bd3786"
             ],
             [
              0.5555555555555556,
              "#d8576b"
             ],
             [
              0.6666666666666666,
              "#ed7953"
             ],
             [
              0.7777777777777778,
              "#fb9f3a"
             ],
             [
              0.8888888888888888,
              "#fdca26"
             ],
             [
              1,
              "#f0f921"
             ]
            ],
            "type": "surface"
           }
          ],
          "table": [
           {
            "cells": {
             "fill": {
              "color": "#EBF0F8"
             },
             "line": {
              "color": "white"
             }
            },
            "header": {
             "fill": {
              "color": "#C8D4E3"
             },
             "line": {
              "color": "white"
             }
            },
            "type": "table"
           }
          ]
         },
         "layout": {
          "annotationdefaults": {
           "arrowcolor": "#2a3f5f",
           "arrowhead": 0,
           "arrowwidth": 1
          },
          "autotypenumbers": "strict",
          "coloraxis": {
           "colorbar": {
            "outlinewidth": 0,
            "ticks": ""
           }
          },
          "colorscale": {
           "diverging": [
            [
             0,
             "#8e0152"
            ],
            [
             0.1,
             "#c51b7d"
            ],
            [
             0.2,
             "#de77ae"
            ],
            [
             0.3,
             "#f1b6da"
            ],
            [
             0.4,
             "#fde0ef"
            ],
            [
             0.5,
             "#f7f7f7"
            ],
            [
             0.6,
             "#e6f5d0"
            ],
            [
             0.7,
             "#b8e186"
            ],
            [
             0.8,
             "#7fbc41"
            ],
            [
             0.9,
             "#4d9221"
            ],
            [
             1,
             "#276419"
            ]
           ],
           "sequential": [
            [
             0,
             "#0d0887"
            ],
            [
             0.1111111111111111,
             "#46039f"
            ],
            [
             0.2222222222222222,
             "#7201a8"
            ],
            [
             0.3333333333333333,
             "#9c179e"
            ],
            [
             0.4444444444444444,
             "#bd3786"
            ],
            [
             0.5555555555555556,
             "#d8576b"
            ],
            [
             0.6666666666666666,
             "#ed7953"
            ],
            [
             0.7777777777777778,
             "#fb9f3a"
            ],
            [
             0.8888888888888888,
             "#fdca26"
            ],
            [
             1,
             "#f0f921"
            ]
           ],
           "sequentialminus": [
            [
             0,
             "#0d0887"
            ],
            [
             0.1111111111111111,
             "#46039f"
            ],
            [
             0.2222222222222222,
             "#7201a8"
            ],
            [
             0.3333333333333333,
             "#9c179e"
            ],
            [
             0.4444444444444444,
             "#bd3786"
            ],
            [
             0.5555555555555556,
             "#d8576b"
            ],
            [
             0.6666666666666666,
             "#ed7953"
            ],
            [
             0.7777777777777778,
             "#fb9f3a"
            ],
            [
             0.8888888888888888,
             "#fdca26"
            ],
            [
             1,
             "#f0f921"
            ]
           ]
          },
          "colorway": [
           "#636efa",
           "#EF553B",
           "#00cc96",
           "#ab63fa",
           "#FFA15A",
           "#19d3f3",
           "#FF6692",
           "#B6E880",
           "#FF97FF",
           "#FECB52"
          ],
          "font": {
           "color": "#2a3f5f"
          },
          "geo": {
           "bgcolor": "white",
           "lakecolor": "white",
           "landcolor": "#E5ECF6",
           "showlakes": true,
           "showland": true,
           "subunitcolor": "white"
          },
          "hoverlabel": {
           "align": "left"
          },
          "hovermode": "closest",
          "mapbox": {
           "style": "light"
          },
          "paper_bgcolor": "white",
          "plot_bgcolor": "#E5ECF6",
          "polar": {
           "angularaxis": {
            "gridcolor": "white",
            "linecolor": "white",
            "ticks": ""
           },
           "bgcolor": "#E5ECF6",
           "radialaxis": {
            "gridcolor": "white",
            "linecolor": "white",
            "ticks": ""
           }
          },
          "scene": {
           "xaxis": {
            "backgroundcolor": "#E5ECF6",
            "gridcolor": "white",
            "gridwidth": 2,
            "linecolor": "white",
            "showbackground": true,
            "ticks": "",
            "zerolinecolor": "white"
           },
           "yaxis": {
            "backgroundcolor": "#E5ECF6",
            "gridcolor": "white",
            "gridwidth": 2,
            "linecolor": "white",
            "showbackground": true,
            "ticks": "",
            "zerolinecolor": "white"
           },
           "zaxis": {
            "backgroundcolor": "#E5ECF6",
            "gridcolor": "white",
            "gridwidth": 2,
            "linecolor": "white",
            "showbackground": true,
            "ticks": "",
            "zerolinecolor": "white"
           }
          },
          "shapedefaults": {
           "line": {
            "color": "#2a3f5f"
           }
          },
          "ternary": {
           "aaxis": {
            "gridcolor": "white",
            "linecolor": "white",
            "ticks": ""
           },
           "baxis": {
            "gridcolor": "white",
            "linecolor": "white",
            "ticks": ""
           },
           "bgcolor": "#E5ECF6",
           "caxis": {
            "gridcolor": "white",
            "linecolor": "white",
            "ticks": ""
           }
          },
          "title": {
           "x": 0.05
          },
          "xaxis": {
           "automargin": true,
           "gridcolor": "white",
           "linecolor": "white",
           "ticks": "",
           "title": {
            "standoff": 15
           },
           "zerolinecolor": "white",
           "zerolinewidth": 2
          },
          "yaxis": {
           "automargin": true,
           "gridcolor": "white",
           "linecolor": "white",
           "ticks": "",
           "title": {
            "standoff": 15
           },
           "zerolinecolor": "white",
           "zerolinewidth": 2
          }
         }
        },
        "title": {
         "text": "Cotação USD->BRL - Período: 31/01/2025 a 04/03/2025"
        },
        "width": 550,
        "xaxis": {
         "anchor": "y",
         "domain": [
          0,
          1
         ],
         "title": {
          "text": "valor_maximo"
         }
        },
        "yaxis": {
         "anchor": "x",
         "domain": [
          0,
          1
         ],
         "title": {
          "text": "count"
         }
        }
       }
      }
     },
     "metadata": {},
     "output_type": "display_data"
    }
   ],
   "source": [
    "# Histograma\n",
    "df = data_dolar\n",
    "fig = px.histogram(df, x=\"valor_maximo\", width=550, height=400, title=\"Cotação USD->BRL - Período: 31/01/2025 a 04/03/2025\")\n",
    "fig.show()"
   ]
  },
  {
   "cell_type": "code",
   "execution_count": 58,
   "metadata": {},
   "outputs": [
    {
     "data": {
      "application/vnd.plotly.v1+json": {
       "config": {
        "plotlyServerURL": "https://plot.ly"
       },
       "data": [
        {
         "hovertemplate": "data_negociacao=%{x}<br>valor_maximo=%{y}<extra></extra>",
         "legendgroup": "",
         "line": {
          "color": "#636efa",
          "dash": "solid"
         },
         "marker": {
          "symbol": "circle"
         },
         "mode": "lines+markers",
         "name": "",
         "orientation": "v",
         "showlegend": false,
         "type": "scatter",
         "x": [
          "2025-03-04T23:14:56.000000000",
          "2025-03-02T20:54:03.000000000",
          "2025-03-01T20:42:03.000000000",
          "2025-02-28T18:58:22.000000000",
          "2025-02-27T20:58:15.000000000",
          "2025-02-26T20:59:24.000000000",
          "2025-02-25T20:59:12.000000000",
          "2025-02-24T20:59:39.000000000",
          "2025-02-23T19:00:02.000000000",
          "2025-02-22T00:49:18.000000000",
          "2025-02-21T19:10:02.000000000",
          "2025-02-20T20:59:39.000000000",
          "2025-02-19T20:58:35.000000000",
          "2025-02-18T20:59:04.000000000",
          "2025-02-17T19:00:03.000000000",
          "2025-02-14T17:58:59.000000000",
          "2025-02-14T17:58:45.000000000",
          "2025-02-13T19:00:04.000000000",
          "2025-02-12T19:00:04.000000000",
          "2025-02-11T19:00:03.000000000",
          "2025-02-10T19:00:03.000000000",
          "2025-02-07T17:58:59.000000000",
          "2025-02-07T17:58:21.000000000",
          "2025-02-06T19:00:03.000000000",
          "2025-02-05T19:00:03.000000000",
          "2025-02-04T19:00:03.000000000",
          "2025-02-03T19:00:04.000000000",
          "2025-02-02T19:02:50.000000000",
          "2025-01-31T17:58:56.000000000"
         ],
         "xaxis": "x",
         "y": {
          "bdata": "O+RmuAGfF0BDrWnecYoXQCKrWz0nnRdABhIUP8acF0A4Mo/8wWAXQHwKgPEMOhdAIGPuWkL+FkD+ZffkYSEXQMoyxLEu7hZA/tR46SbxFkD+1HjpJvEWQG1Wfa624hZAklz+Q/rtFkASpb3BF+YWQLTIdr6f2hZA2ht8YTIVF0DecYqO5DIXQBniWBe3ERdAAG+BBMUPF0COBvAWSBAXQJ88LNSaJhdAqoJRSZ1AF0BcIEHxY0wXQHgLJCh+DBdAD5wzorQ3F0B/+zpwzggXQNGRXP5DOhdAx0s3iUFgF0BBguLHmLsXQA==",
          "dtype": "f8"
         },
         "yaxis": "y"
        }
       ],
       "layout": {
        "legend": {
         "tracegroupgap": 0
        },
        "template": {
         "data": {
          "bar": [
           {
            "error_x": {
             "color": "#2a3f5f"
            },
            "error_y": {
             "color": "#2a3f5f"
            },
            "marker": {
             "line": {
              "color": "#E5ECF6",
              "width": 0.5
             },
             "pattern": {
              "fillmode": "overlay",
              "size": 10,
              "solidity": 0.2
             }
            },
            "type": "bar"
           }
          ],
          "barpolar": [
           {
            "marker": {
             "line": {
              "color": "#E5ECF6",
              "width": 0.5
             },
             "pattern": {
              "fillmode": "overlay",
              "size": 10,
              "solidity": 0.2
             }
            },
            "type": "barpolar"
           }
          ],
          "carpet": [
           {
            "aaxis": {
             "endlinecolor": "#2a3f5f",
             "gridcolor": "white",
             "linecolor": "white",
             "minorgridcolor": "white",
             "startlinecolor": "#2a3f5f"
            },
            "baxis": {
             "endlinecolor": "#2a3f5f",
             "gridcolor": "white",
             "linecolor": "white",
             "minorgridcolor": "white",
             "startlinecolor": "#2a3f5f"
            },
            "type": "carpet"
           }
          ],
          "choropleth": [
           {
            "colorbar": {
             "outlinewidth": 0,
             "ticks": ""
            },
            "type": "choropleth"
           }
          ],
          "contour": [
           {
            "colorbar": {
             "outlinewidth": 0,
             "ticks": ""
            },
            "colorscale": [
             [
              0,
              "#0d0887"
             ],
             [
              0.1111111111111111,
              "#46039f"
             ],
             [
              0.2222222222222222,
              "#7201a8"
             ],
             [
              0.3333333333333333,
              "#9c179e"
             ],
             [
              0.4444444444444444,
              "#bd3786"
             ],
             [
              0.5555555555555556,
              "#d8576b"
             ],
             [
              0.6666666666666666,
              "#ed7953"
             ],
             [
              0.7777777777777778,
              "#fb9f3a"
             ],
             [
              0.8888888888888888,
              "#fdca26"
             ],
             [
              1,
              "#f0f921"
             ]
            ],
            "type": "contour"
           }
          ],
          "contourcarpet": [
           {
            "colorbar": {
             "outlinewidth": 0,
             "ticks": ""
            },
            "type": "contourcarpet"
           }
          ],
          "heatmap": [
           {
            "colorbar": {
             "outlinewidth": 0,
             "ticks": ""
            },
            "colorscale": [
             [
              0,
              "#0d0887"
             ],
             [
              0.1111111111111111,
              "#46039f"
             ],
             [
              0.2222222222222222,
              "#7201a8"
             ],
             [
              0.3333333333333333,
              "#9c179e"
             ],
             [
              0.4444444444444444,
              "#bd3786"
             ],
             [
              0.5555555555555556,
              "#d8576b"
             ],
             [
              0.6666666666666666,
              "#ed7953"
             ],
             [
              0.7777777777777778,
              "#fb9f3a"
             ],
             [
              0.8888888888888888,
              "#fdca26"
             ],
             [
              1,
              "#f0f921"
             ]
            ],
            "type": "heatmap"
           }
          ],
          "histogram": [
           {
            "marker": {
             "pattern": {
              "fillmode": "overlay",
              "size": 10,
              "solidity": 0.2
             }
            },
            "type": "histogram"
           }
          ],
          "histogram2d": [
           {
            "colorbar": {
             "outlinewidth": 0,
             "ticks": ""
            },
            "colorscale": [
             [
              0,
              "#0d0887"
             ],
             [
              0.1111111111111111,
              "#46039f"
             ],
             [
              0.2222222222222222,
              "#7201a8"
             ],
             [
              0.3333333333333333,
              "#9c179e"
             ],
             [
              0.4444444444444444,
              "#bd3786"
             ],
             [
              0.5555555555555556,
              "#d8576b"
             ],
             [
              0.6666666666666666,
              "#ed7953"
             ],
             [
              0.7777777777777778,
              "#fb9f3a"
             ],
             [
              0.8888888888888888,
              "#fdca26"
             ],
             [
              1,
              "#f0f921"
             ]
            ],
            "type": "histogram2d"
           }
          ],
          "histogram2dcontour": [
           {
            "colorbar": {
             "outlinewidth": 0,
             "ticks": ""
            },
            "colorscale": [
             [
              0,
              "#0d0887"
             ],
             [
              0.1111111111111111,
              "#46039f"
             ],
             [
              0.2222222222222222,
              "#7201a8"
             ],
             [
              0.3333333333333333,
              "#9c179e"
             ],
             [
              0.4444444444444444,
              "#bd3786"
             ],
             [
              0.5555555555555556,
              "#d8576b"
             ],
             [
              0.6666666666666666,
              "#ed7953"
             ],
             [
              0.7777777777777778,
              "#fb9f3a"
             ],
             [
              0.8888888888888888,
              "#fdca26"
             ],
             [
              1,
              "#f0f921"
             ]
            ],
            "type": "histogram2dcontour"
           }
          ],
          "mesh3d": [
           {
            "colorbar": {
             "outlinewidth": 0,
             "ticks": ""
            },
            "type": "mesh3d"
           }
          ],
          "parcoords": [
           {
            "line": {
             "colorbar": {
              "outlinewidth": 0,
              "ticks": ""
             }
            },
            "type": "parcoords"
           }
          ],
          "pie": [
           {
            "automargin": true,
            "type": "pie"
           }
          ],
          "scatter": [
           {
            "fillpattern": {
             "fillmode": "overlay",
             "size": 10,
             "solidity": 0.2
            },
            "type": "scatter"
           }
          ],
          "scatter3d": [
           {
            "line": {
             "colorbar": {
              "outlinewidth": 0,
              "ticks": ""
             }
            },
            "marker": {
             "colorbar": {
              "outlinewidth": 0,
              "ticks": ""
             }
            },
            "type": "scatter3d"
           }
          ],
          "scattercarpet": [
           {
            "marker": {
             "colorbar": {
              "outlinewidth": 0,
              "ticks": ""
             }
            },
            "type": "scattercarpet"
           }
          ],
          "scattergeo": [
           {
            "marker": {
             "colorbar": {
              "outlinewidth": 0,
              "ticks": ""
             }
            },
            "type": "scattergeo"
           }
          ],
          "scattergl": [
           {
            "marker": {
             "colorbar": {
              "outlinewidth": 0,
              "ticks": ""
             }
            },
            "type": "scattergl"
           }
          ],
          "scattermap": [
           {
            "marker": {
             "colorbar": {
              "outlinewidth": 0,
              "ticks": ""
             }
            },
            "type": "scattermap"
           }
          ],
          "scattermapbox": [
           {
            "marker": {
             "colorbar": {
              "outlinewidth": 0,
              "ticks": ""
             }
            },
            "type": "scattermapbox"
           }
          ],
          "scatterpolar": [
           {
            "marker": {
             "colorbar": {
              "outlinewidth": 0,
              "ticks": ""
             }
            },
            "type": "scatterpolar"
           }
          ],
          "scatterpolargl": [
           {
            "marker": {
             "colorbar": {
              "outlinewidth": 0,
              "ticks": ""
             }
            },
            "type": "scatterpolargl"
           }
          ],
          "scatterternary": [
           {
            "marker": {
             "colorbar": {
              "outlinewidth": 0,
              "ticks": ""
             }
            },
            "type": "scatterternary"
           }
          ],
          "surface": [
           {
            "colorbar": {
             "outlinewidth": 0,
             "ticks": ""
            },
            "colorscale": [
             [
              0,
              "#0d0887"
             ],
             [
              0.1111111111111111,
              "#46039f"
             ],
             [
              0.2222222222222222,
              "#7201a8"
             ],
             [
              0.3333333333333333,
              "#9c179e"
             ],
             [
              0.4444444444444444,
              "#bd3786"
             ],
             [
              0.5555555555555556,
              "#d8576b"
             ],
             [
              0.6666666666666666,
              "#ed7953"
             ],
             [
              0.7777777777777778,
              "#fb9f3a"
             ],
             [
              0.8888888888888888,
              "#fdca26"
             ],
             [
              1,
              "#f0f921"
             ]
            ],
            "type": "surface"
           }
          ],
          "table": [
           {
            "cells": {
             "fill": {
              "color": "#EBF0F8"
             },
             "line": {
              "color": "white"
             }
            },
            "header": {
             "fill": {
              "color": "#C8D4E3"
             },
             "line": {
              "color": "white"
             }
            },
            "type": "table"
           }
          ]
         },
         "layout": {
          "annotationdefaults": {
           "arrowcolor": "#2a3f5f",
           "arrowhead": 0,
           "arrowwidth": 1
          },
          "autotypenumbers": "strict",
          "coloraxis": {
           "colorbar": {
            "outlinewidth": 0,
            "ticks": ""
           }
          },
          "colorscale": {
           "diverging": [
            [
             0,
             "#8e0152"
            ],
            [
             0.1,
             "#c51b7d"
            ],
            [
             0.2,
             "#de77ae"
            ],
            [
             0.3,
             "#f1b6da"
            ],
            [
             0.4,
             "#fde0ef"
            ],
            [
             0.5,
             "#f7f7f7"
            ],
            [
             0.6,
             "#e6f5d0"
            ],
            [
             0.7,
             "#b8e186"
            ],
            [
             0.8,
             "#7fbc41"
            ],
            [
             0.9,
             "#4d9221"
            ],
            [
             1,
             "#276419"
            ]
           ],
           "sequential": [
            [
             0,
             "#0d0887"
            ],
            [
             0.1111111111111111,
             "#46039f"
            ],
            [
             0.2222222222222222,
             "#7201a8"
            ],
            [
             0.3333333333333333,
             "#9c179e"
            ],
            [
             0.4444444444444444,
             "#bd3786"
            ],
            [
             0.5555555555555556,
             "#d8576b"
            ],
            [
             0.6666666666666666,
             "#ed7953"
            ],
            [
             0.7777777777777778,
             "#fb9f3a"
            ],
            [
             0.8888888888888888,
             "#fdca26"
            ],
            [
             1,
             "#f0f921"
            ]
           ],
           "sequentialminus": [
            [
             0,
             "#0d0887"
            ],
            [
             0.1111111111111111,
             "#46039f"
            ],
            [
             0.2222222222222222,
             "#7201a8"
            ],
            [
             0.3333333333333333,
             "#9c179e"
            ],
            [
             0.4444444444444444,
             "#bd3786"
            ],
            [
             0.5555555555555556,
             "#d8576b"
            ],
            [
             0.6666666666666666,
             "#ed7953"
            ],
            [
             0.7777777777777778,
             "#fb9f3a"
            ],
            [
             0.8888888888888888,
             "#fdca26"
            ],
            [
             1,
             "#f0f921"
            ]
           ]
          },
          "colorway": [
           "#636efa",
           "#EF553B",
           "#00cc96",
           "#ab63fa",
           "#FFA15A",
           "#19d3f3",
           "#FF6692",
           "#B6E880",
           "#FF97FF",
           "#FECB52"
          ],
          "font": {
           "color": "#2a3f5f"
          },
          "geo": {
           "bgcolor": "white",
           "lakecolor": "white",
           "landcolor": "#E5ECF6",
           "showlakes": true,
           "showland": true,
           "subunitcolor": "white"
          },
          "hoverlabel": {
           "align": "left"
          },
          "hovermode": "closest",
          "mapbox": {
           "style": "light"
          },
          "paper_bgcolor": "white",
          "plot_bgcolor": "#E5ECF6",
          "polar": {
           "angularaxis": {
            "gridcolor": "white",
            "linecolor": "white",
            "ticks": ""
           },
           "bgcolor": "#E5ECF6",
           "radialaxis": {
            "gridcolor": "white",
            "linecolor": "white",
            "ticks": ""
           }
          },
          "scene": {
           "xaxis": {
            "backgroundcolor": "#E5ECF6",
            "gridcolor": "white",
            "gridwidth": 2,
            "linecolor": "white",
            "showbackground": true,
            "ticks": "",
            "zerolinecolor": "white"
           },
           "yaxis": {
            "backgroundcolor": "#E5ECF6",
            "gridcolor": "white",
            "gridwidth": 2,
            "linecolor": "white",
            "showbackground": true,
            "ticks": "",
            "zerolinecolor": "white"
           },
           "zaxis": {
            "backgroundcolor": "#E5ECF6",
            "gridcolor": "white",
            "gridwidth": 2,
            "linecolor": "white",
            "showbackground": true,
            "ticks": "",
            "zerolinecolor": "white"
           }
          },
          "shapedefaults": {
           "line": {
            "color": "#2a3f5f"
           }
          },
          "ternary": {
           "aaxis": {
            "gridcolor": "white",
            "linecolor": "white",
            "ticks": ""
           },
           "baxis": {
            "gridcolor": "white",
            "linecolor": "white",
            "ticks": ""
           },
           "bgcolor": "#E5ECF6",
           "caxis": {
            "gridcolor": "white",
            "linecolor": "white",
            "ticks": ""
           }
          },
          "title": {
           "x": 0.05
          },
          "xaxis": {
           "automargin": true,
           "gridcolor": "white",
           "linecolor": "white",
           "ticks": "",
           "title": {
            "standoff": 15
           },
           "zerolinecolor": "white",
           "zerolinewidth": 2
          },
          "yaxis": {
           "automargin": true,
           "gridcolor": "white",
           "linecolor": "white",
           "ticks": "",
           "title": {
            "standoff": 15
           },
           "zerolinecolor": "white",
           "zerolinewidth": 2
          }
         }
        },
        "title": {
         "text": "Cotação USD->BRL - Período: 31/01/2025 a 04/03/2025"
        },
        "xaxis": {
         "anchor": "y",
         "domain": [
          0,
          1
         ],
         "title": {
          "text": "data_negociacao"
         }
        },
        "yaxis": {
         "anchor": "x",
         "domain": [
          0,
          1
         ],
         "title": {
          "text": "valor_maximo"
         }
        }
       }
      }
     },
     "metadata": {},
     "output_type": "display_data"
    }
   ],
   "source": [
    "# Linha\n",
    "df = data_dolar\n",
    "fig = px.line(df, x=\"data_negociacao\", y=\"valor_maximo\", title=\"Cotação USD->BRL - Período: 31/01/2025 a 04/03/2025\", markers=True)\n",
    "fig.show()"
   ]
  },
  {
   "cell_type": "code",
   "execution_count": null,
   "metadata": {},
   "outputs": [],
   "source": [
    "# Estrutura de dados da coleção no MongoDB.\n",
    "# {\n",
    "#     \"moeda_de\" : str,\n",
    "#     \"moeda_para\" : str,\n",
    "#     \"conversao\" : str,\n",
    "#     \"valor_maximo\" : float,\n",
    "#     \"valor_minimo\" : float,\n",
    "#     \"variacao\" : float,\n",
    "#     \"porcentagem_variacao\" : float,\n",
    "#     \"valor_compra\" : float,\n",
    "#     \"valor_venda\" : float,\n",
    "#     \"data_negociacao\" : datetime\n",
    "# }"
   ]
  }
 ],
 "metadata": {
  "kernelspec": {
   "display_name": ".venv",
   "language": "python",
   "name": "python3"
  },
  "language_info": {
   "codemirror_mode": {
    "name": "ipython",
    "version": 3
   },
   "file_extension": ".py",
   "mimetype": "text/x-python",
   "name": "python",
   "nbconvert_exporter": "python",
   "pygments_lexer": "ipython3",
   "version": "3.12.4"
  }
 },
 "nbformat": 4,
 "nbformat_minor": 2
}
